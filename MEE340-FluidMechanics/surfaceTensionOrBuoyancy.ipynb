{
 "cells": [
  {
   "cell_type": "code",
   "execution_count": 11,
   "id": "ce5bc1b2",
   "metadata": {},
   "outputs": [],
   "source": [
    "import sympy as sp # use symbolic python taking derivative\n",
    "import handcalcs.render # render\n",
    "from pint import UnitRegistry\n",
    "u=UnitRegistry(auto_reduce_dimensions=True)\n",
    "import numpy as np"
   ]
  },
  {
   "cell_type": "code",
   "execution_count": 16,
   "id": "952a184b",
   "metadata": {},
   "outputs": [
    {
     "data": {
      "text/latex": [
       "\\[\n",
       "\\begin{aligned}\n",
       "d &= 0.8 \\cdot \\mathrm{u.mm}  = 0.8 \\cdot u.mm &= 0.800\\ \\mathrm{millimeter}  \n",
       "\\\\[10pt]\n",
       "L &= \\left( 100 + 20 \\right) \\cdot \\mathrm{u.mm}  = \\left( 100 + 20 \\right) \\cdot u.mm &= 120.000\\ \\mathrm{millimeter}  \n",
       "\\\\[10pt]\n",
       "\\rho_{f} &= 1000 \\cdot \\frac{ \\mathrm{u.kg} }{ \\left( \\mathrm{u.m} \\right) ^{ 3 } }  = 1000 \\cdot \\frac{ u.kg }{ \\left( u.m \\right) ^{ 3 } } &= 1000.000\\ \\frac{\\mathrm{kilogram}}{\\mathrm{meter}^{3}}  \n",
       "\\\\[10pt]\n",
       "\\rho_{m} &= 2.7 \\cdot \\frac{ \\mathrm{u.g} }{ \\left( \\mathrm{u.cm} \\right) ^{ 3 } }  = 2.7 \\cdot \\frac{ u.g }{ \\left( u.cm \\right) ^{ 3 } } &= 2.700\\ \\frac{\\mathrm{gram}}{\\mathrm{centimeter}^{3}}  \n",
       "\\\\[10pt]\n",
       "g &= 9.81 \\cdot \\frac{ \\mathrm{u.m} }{ \\left( \\mathrm{u.s} \\right) ^{ 2 } }  = 9.81 \\cdot \\frac{ u.m }{ \\left( u.s \\right) ^{ 2 } } &= 9.810\\ \\frac{\\mathrm{meter}}{\\mathrm{second}^{2}}  \n",
       "\\\\[10pt]\n",
       "\\mathrm{vol} &= \\mathrm{np.pi} \\cdot \\frac{ \\left( d \\right) ^{ 2 } }{ 4 } \\cdot L  = np.pi \\cdot \\frac{ \\left( 0.800\\ \\mathrm{millimeter} \\right) ^{ 2 } }{ 4 } \\cdot 120.000\\ \\mathrm{millimeter} &= 60.319\\ \\mathrm{millimeter}^{3}  \n",
       "\\\\[10pt]\n",
       "\\mathrm{vol}_{immersed} &= 0.5 \\cdot \\mathrm{vol}  = 0.5 \\cdot 60.319\\ \\mathrm{millimeter}^{3} &= 30.159\\ \\mathrm{millimeter}^{3} \\; \\;\\textrm{(immersed volume)}\n",
       "\\\\[10pt]\n",
       "F_{w} &= \\rho_{m} \\cdot \\mathrm{vol} \\cdot g \\\\&= 2.700\\ \\frac{\\mathrm{gram}}{\\mathrm{centimeter}^{3}} \\cdot 60.319\\ \\mathrm{millimeter}^{3} \\cdot 9.810\\ \\frac{\\mathrm{meter}}{\\mathrm{second}^{2}} \\\\&= 1.598\\ \\frac{\\mathrm{gram} \\cdot \\mathrm{meter}}{\\mathrm{second}^{2}} \\; \\;\\textrm{(gravity)}\\\\[10pt]\n",
       "\\\\[10pt]\n",
       "F_{b} &= \\rho_{f} \\cdot g \\cdot \\mathrm{vol}_{immersed} \\\\&= 1000.000\\ \\frac{\\mathrm{kilogram}}{\\mathrm{meter}^{3}} \\cdot 9.810\\ \\frac{\\mathrm{meter}}{\\mathrm{second}^{2}} \\cdot 30.159\\ \\mathrm{millimeter}^{3} \\\\&= 0.296\\ \\frac{\\mathrm{kilogram} \\cdot \\mathrm{millimeter}}{\\mathrm{second}^{2}} \\; \\;\\textrm{(buoyancy force)}\\\\[10pt]\n",
       "\\\\[10pt]\n",
       "\\gamma &= 72 \\cdot \\frac{ \\mathrm{u.mN} }{ \\mathrm{u.m} }  = 72 \\cdot \\frac{ u.mN }{ u.m } &= 72.000\\ \\frac{\\mathrm{millinewton}}{\\mathrm{meter}}  \n",
       "\\\\[10pt]\n",
       "F_{surface} &= \\gamma \\cdot L \\cdot 2  = 72.000\\ \\frac{\\mathrm{millinewton}}{\\mathrm{meter}} \\cdot 120.000\\ \\mathrm{millimeter} \\cdot 2 &= 17.280\\ \\mathrm{millinewton}  \n",
       "\\end{aligned}\n",
       "\\]"
      ],
      "text/plain": [
       "<IPython.core.display.Latex object>"
      ]
     },
     "metadata": {},
     "output_type": "display_data"
    }
   ],
   "source": [
    "%%render\n",
    "d = 0.8*u.mm\n",
    "L = (100+20)*u.mm\n",
    "rho_f = 1000*u.kg/u.m**3\n",
    "rho_m = 2.7*u.g/u.cm**3\n",
    "g = 9.81*u.m/u.s**2\n",
    "\n",
    "vol = np.pi*d**2/4*L\n",
    "vol_immersed = 0.5*vol # immersed volume\n",
    "\n",
    "F_w = rho_m*vol*g # gravity\n",
    "\n",
    "F_b = rho_f*g*vol_immersed # buoyancy force\n",
    "gamma = 72*u.mN/u.m\n",
    "F_surface = gamma*L*2"
   ]
  },
  {
   "cell_type": "code",
   "execution_count": 13,
   "id": "a2a06ae0",
   "metadata": {},
   "outputs": [
    {
     "data": {
      "text/html": [
       "0.001597658200620151 newton"
      ],
      "text/latex": [
       "$0.001597658200620151\\ \\mathrm{newton}$"
      ],
      "text/plain": [
       "0.001597658200620151 <Unit('newton')>"
      ]
     },
     "execution_count": 13,
     "metadata": {},
     "output_type": "execute_result"
    }
   ],
   "source": [
    "F_w.to(u.N)"
   ]
  },
  {
   "cell_type": "code",
   "execution_count": 14,
   "id": "4d7b1330",
   "metadata": {},
   "outputs": [
    {
     "data": {
      "text/html": [
       "0.00029586262974447237 newton"
      ],
      "text/latex": [
       "$0.00029586262974447237\\ \\mathrm{newton}$"
      ],
      "text/plain": [
       "0.00029586262974447237 <Unit('newton')>"
      ]
     },
     "execution_count": 14,
     "metadata": {},
     "output_type": "execute_result"
    }
   ],
   "source": [
    "F_b.to(u.N)"
   ]
  },
  {
   "cell_type": "code",
   "execution_count": 17,
   "id": "01a088cc",
   "metadata": {},
   "outputs": [
    {
     "data": {
      "text/html": [
       "0.01728 newton"
      ],
      "text/latex": [
       "$0.01728\\ \\mathrm{newton}$"
      ],
      "text/plain": [
       "0.01728 <Unit('newton')>"
      ]
     },
     "execution_count": 17,
     "metadata": {},
     "output_type": "execute_result"
    }
   ],
   "source": [
    "F_surface.to(u.N)"
   ]
  },
  {
   "cell_type": "markdown",
   "id": "9f84934c",
   "metadata": {},
   "source": [
    "# conclusion\n",
    "the buoyancy force is 0.0002959 N which is not bigger enough to balance the weight 0.001598 N. on the other hand, the surface tension force can be as big as 0.01728 N. So it is the surface tension to balance the weight. Of course, the buoyancy force played a minor role. "
   ]
  },
  {
   "cell_type": "code",
   "execution_count": null,
   "id": "7c723cbc",
   "metadata": {},
   "outputs": [],
   "source": []
  }
 ],
 "metadata": {
  "kernelspec": {
   "display_name": "Python 3 (ipykernel)",
   "language": "python",
   "name": "python3"
  },
  "language_info": {
   "codemirror_mode": {
    "name": "ipython",
    "version": 3
   },
   "file_extension": ".py",
   "mimetype": "text/x-python",
   "name": "python",
   "nbconvert_exporter": "python",
   "pygments_lexer": "ipython3",
   "version": "3.10.9"
  }
 },
 "nbformat": 4,
 "nbformat_minor": 5
}
