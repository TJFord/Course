{
 "cells": [
  {
   "cell_type": "code",
   "execution_count": 3,
   "id": "ca8401ee",
   "metadata": {},
   "outputs": [],
   "source": [
    "rho = 1000\n",
    "g = 9.81\n",
    "sinBeth = 0.9\n",
    "F = rho*g*sinBeth*(1/3-0.3/2-0.3**3/3+0.3/2*0.3**2)"
   ]
  },
  {
   "cell_type": "code",
   "execution_count": 4,
   "id": "f26c3230",
   "metadata": {},
   "outputs": [
    {
     "data": {
      "text/plain": [
       "1658.3805"
      ]
     },
     "execution_count": 4,
     "metadata": {},
     "output_type": "execute_result"
    }
   ],
   "source": [
    "F"
   ]
  },
  {
   "cell_type": "code",
   "execution_count": null,
   "id": "308b9341",
   "metadata": {},
   "outputs": [],
   "source": [
    "import sympy as sp\n"
   ]
  }
 ],
 "metadata": {
  "kernelspec": {
   "display_name": "Python 3 (ipykernel)",
   "language": "python",
   "name": "python3"
  },
  "language_info": {
   "codemirror_mode": {
    "name": "ipython",
    "version": 3
   },
   "file_extension": ".py",
   "mimetype": "text/x-python",
   "name": "python",
   "nbconvert_exporter": "python",
   "pygments_lexer": "ipython3",
   "version": "3.10.9"
  }
 },
 "nbformat": 4,
 "nbformat_minor": 5
}
