{
 "cells": [
  {
   "cell_type": "markdown",
   "id": "331927dc",
   "metadata": {},
   "source": [
    "# HW1\n",
    "Jifu Tan, A1839063, 8/30/2023"
   ]
  },
  {
   "cell_type": "markdown",
   "id": "bc1282a4",
   "metadata": {},
   "source": [
    "## Problem statement\n",
    "\n",
    "Calculate the force applied on a letter paper under 1 Atmospheric pressure. \n",
    "\n",
    "## Plan\n",
    "\n",
    "force can be calcualted as pressure times area $$F = PA$$ \n",
    "\n",
    "\n",
    "#### Note\n",
    "\n",
    "(Notice here I put equations into a double dollar sign `$$F = PA$$`, this is how the notebook can generate beautiful equations, if you double click this markdown text box you will see it. For more on how to write equations or expressions, you can see here: https://www.overleaf.com/learn/latex/Mathematical_expressions)\n",
    "\n"
   ]
  },
  {
   "cell_type": "code",
   "execution_count": 16,
   "id": "3045b4f7",
   "metadata": {},
   "outputs": [
    {
     "name": "stdout",
     "output_type": "stream",
     "text": [
      "Requirement already satisfied: handcalcs in /home/jifutan/miniconda3/envs/edu/lib/python3.10/site-packages (1.6.5)\n",
      "Requirement already satisfied: pyparsing in /home/jifutan/miniconda3/envs/edu/lib/python3.10/site-packages (from handcalcs) (3.1.1)\n",
      "Requirement already satisfied: innerscope in /home/jifutan/miniconda3/envs/edu/lib/python3.10/site-packages (from handcalcs) (0.6.0)\n",
      "Requirement already satisfied: more_itertools in /home/jifutan/miniconda3/envs/edu/lib/python3.10/site-packages (from handcalcs) (10.1.0)\n",
      "Requirement already satisfied: nbconvert>=6.0 in /home/jifutan/miniconda3/envs/edu/lib/python3.10/site-packages (from handcalcs) (6.5.4)\n",
      "Requirement already satisfied: beautifulsoup4 in /home/jifutan/miniconda3/envs/edu/lib/python3.10/site-packages (from nbconvert>=6.0->handcalcs) (4.11.1)\n",
      "Requirement already satisfied: bleach in /home/jifutan/miniconda3/envs/edu/lib/python3.10/site-packages (from nbconvert>=6.0->handcalcs) (4.1.0)\n",
      "Requirement already satisfied: pandocfilters>=1.4.1 in /home/jifutan/miniconda3/envs/edu/lib/python3.10/site-packages (from nbconvert>=6.0->handcalcs) (1.5.0)\n",
      "Requirement already satisfied: lxml in /home/jifutan/miniconda3/envs/edu/lib/python3.10/site-packages (from nbconvert>=6.0->handcalcs) (4.9.1)\n",
      "Requirement already satisfied: entrypoints>=0.2.2 in /home/jifutan/miniconda3/envs/edu/lib/python3.10/site-packages (from nbconvert>=6.0->handcalcs) (0.4)\n",
      "Requirement already satisfied: jupyterlab-pygments in /home/jifutan/miniconda3/envs/edu/lib/python3.10/site-packages (from nbconvert>=6.0->handcalcs) (0.1.2)\n",
      "Requirement already satisfied: nbformat>=5.1 in /home/jifutan/miniconda3/envs/edu/lib/python3.10/site-packages (from nbconvert>=6.0->handcalcs) (5.7.0)\n",
      "Requirement already satisfied: defusedxml in /home/jifutan/miniconda3/envs/edu/lib/python3.10/site-packages (from nbconvert>=6.0->handcalcs) (0.7.1)\n",
      "Requirement already satisfied: nbclient>=0.5.0 in /home/jifutan/miniconda3/envs/edu/lib/python3.10/site-packages (from nbconvert>=6.0->handcalcs) (0.5.13)\n",
      "Requirement already satisfied: jupyter-core>=4.7 in /home/jifutan/miniconda3/envs/edu/lib/python3.10/site-packages (from nbconvert>=6.0->handcalcs) (5.1.1)\n",
      "Requirement already satisfied: mistune<2,>=0.8.1 in /home/jifutan/miniconda3/envs/edu/lib/python3.10/site-packages (from nbconvert>=6.0->handcalcs) (0.8.4)\n",
      "Requirement already satisfied: tinycss2 in /home/jifutan/miniconda3/envs/edu/lib/python3.10/site-packages (from nbconvert>=6.0->handcalcs) (1.2.1)\n",
      "Requirement already satisfied: packaging in /home/jifutan/miniconda3/envs/edu/lib/python3.10/site-packages (from nbconvert>=6.0->handcalcs) (22.0)\n",
      "Requirement already satisfied: pygments>=2.4.1 in /home/jifutan/miniconda3/envs/edu/lib/python3.10/site-packages (from nbconvert>=6.0->handcalcs) (2.11.2)\n",
      "Requirement already satisfied: MarkupSafe>=2.0 in /home/jifutan/miniconda3/envs/edu/lib/python3.10/site-packages (from nbconvert>=6.0->handcalcs) (2.1.1)\n",
      "Requirement already satisfied: traitlets>=5.0 in /home/jifutan/miniconda3/envs/edu/lib/python3.10/site-packages (from nbconvert>=6.0->handcalcs) (5.7.1)\n",
      "Requirement already satisfied: jinja2>=3.0 in /home/jifutan/miniconda3/envs/edu/lib/python3.10/site-packages (from nbconvert>=6.0->handcalcs) (3.1.2)\n",
      "Requirement already satisfied: toolz in /home/jifutan/miniconda3/envs/edu/lib/python3.10/site-packages (from innerscope->handcalcs) (0.12.0)\n",
      "Requirement already satisfied: platformdirs>=2.5 in /home/jifutan/miniconda3/envs/edu/lib/python3.10/site-packages (from jupyter-core>=4.7->nbconvert>=6.0->handcalcs) (2.5.2)\n",
      "Requirement already satisfied: nest-asyncio in /home/jifutan/miniconda3/envs/edu/lib/python3.10/site-packages (from nbclient>=0.5.0->nbconvert>=6.0->handcalcs) (1.5.6)\n",
      "Requirement already satisfied: jupyter-client>=6.1.5 in /home/jifutan/miniconda3/envs/edu/lib/python3.10/site-packages (from nbclient>=0.5.0->nbconvert>=6.0->handcalcs) (7.4.8)\n",
      "Requirement already satisfied: jsonschema>=2.6 in /home/jifutan/miniconda3/envs/edu/lib/python3.10/site-packages (from nbformat>=5.1->nbconvert>=6.0->handcalcs) (4.16.0)\n",
      "Requirement already satisfied: fastjsonschema in /home/jifutan/miniconda3/envs/edu/lib/python3.10/site-packages (from nbformat>=5.1->nbconvert>=6.0->handcalcs) (2.16.2)\n",
      "Requirement already satisfied: soupsieve>1.2 in /home/jifutan/miniconda3/envs/edu/lib/python3.10/site-packages (from beautifulsoup4->nbconvert>=6.0->handcalcs) (2.3.2.post1)\n",
      "Requirement already satisfied: webencodings in /home/jifutan/miniconda3/envs/edu/lib/python3.10/site-packages (from bleach->nbconvert>=6.0->handcalcs) (0.5.1)\n",
      "Requirement already satisfied: six>=1.9.0 in /home/jifutan/miniconda3/envs/edu/lib/python3.10/site-packages (from bleach->nbconvert>=6.0->handcalcs) (1.16.0)\n",
      "Requirement already satisfied: attrs>=17.4.0 in /home/jifutan/miniconda3/envs/edu/lib/python3.10/site-packages (from jsonschema>=2.6->nbformat>=5.1->nbconvert>=6.0->handcalcs) (22.1.0)\n",
      "Requirement already satisfied: pyrsistent!=0.17.0,!=0.17.1,!=0.17.2,>=0.14.0 in /home/jifutan/miniconda3/envs/edu/lib/python3.10/site-packages (from jsonschema>=2.6->nbformat>=5.1->nbconvert>=6.0->handcalcs) (0.18.0)\n",
      "Requirement already satisfied: python-dateutil>=2.8.2 in /home/jifutan/miniconda3/envs/edu/lib/python3.10/site-packages (from jupyter-client>=6.1.5->nbclient>=0.5.0->nbconvert>=6.0->handcalcs) (2.8.2)\n",
      "Requirement already satisfied: tornado>=6.2 in /home/jifutan/miniconda3/envs/edu/lib/python3.10/site-packages (from jupyter-client>=6.1.5->nbclient>=0.5.0->nbconvert>=6.0->handcalcs) (6.2)\n",
      "Requirement already satisfied: pyzmq>=23.0 in /home/jifutan/miniconda3/envs/edu/lib/python3.10/site-packages (from jupyter-client>=6.1.5->nbclient>=0.5.0->nbconvert>=6.0->handcalcs) (23.2.0)\n",
      "Requirement already satisfied: pint in /home/jifutan/miniconda3/envs/edu/lib/python3.10/site-packages (0.22)\n",
      "Requirement already satisfied: typing-extensions in /home/jifutan/miniconda3/envs/edu/lib/python3.10/site-packages (from pint) (4.4.0)\n"
     ]
    }
   ],
   "source": [
    "# Solution, Usually this only needs to run once to install the libraries\n",
    "!pip install handcalcs \n",
    "!pip install pint"
   ]
  },
  {
   "cell_type": "code",
   "execution_count": 2,
   "id": "31e41ff5",
   "metadata": {},
   "outputs": [],
   "source": [
    "import handcalcs.render\n",
    "\n",
    "from math import pi\n",
    "from pint import UnitRegistry\n",
    "u=UnitRegistry(auto_reduce_dimensions=True)"
   ]
  },
  {
   "cell_type": "markdown",
   "id": "e2bd2988",
   "metadata": {},
   "source": [
    "## explanation\n",
    "\n",
    "1. We are using two libraries, `handcalcs.render` is need to render calcuations as handwritten calcualtions, similar to textbook. \n",
    "\n",
    "2. line 3 is need if you just want to use `pi`, otherwise the notebook doesn't know what `pi` is. If your calcuation doesn't involve `pi`, then you can remove that line.\n",
    "\n",
    "3. line 4-5 are needed because we want to include physical dimensions into calculations. Line 4 register units into the system so that the computer know different units, such as `m`, `kg`, `s`. But those units are defined by `UnitRegistry`, so we need access meter as `UnitRegistry.m`. It is tedious to type `UnitRegistry`, thus, in line 5, we define a short handed notation `u`.  If we want to define a length as 1 m in the code, we can write it as `L = 1 *u.m`. The following code gives more examples."
   ]
  },
  {
   "cell_type": "code",
   "execution_count": 3,
   "id": "800845b7",
   "metadata": {},
   "outputs": [
    {
     "data": {
      "text/latex": [
       "\\[\n",
       "\\begin{aligned}\n",
       "P &= 760 \\cdot \\mathrm{u.mmHg}  = 760 \\cdot u.mmHg &= 760.000\\ \\mathrm{millimeter\\_Hg}  \n",
       "\\\\[10pt]\n",
       "A &= 0.0603 \\cdot \\mathrm{u.inch} \\cdot \\mathrm{u.inch}  = 0.0603 \\cdot u.inch \\cdot u.inch &= 0.060\\ \\mathrm{inch}^{2} \\; \\;\\textrm{(paper area: square inch)}\n",
       "\\\\[10pt]\n",
       "F &= P \\cdot A  = 760 millimeter_{Hg} \\cdot 0.060\\ \\mathrm{inch}^{2} &= 45.828\\ \\mathrm{inch}^{2} \\cdot \\mathrm{millimeter\\_Hg} \\; \\;\\textrm{(the units is pascal.inch^2)}\n",
       "\\end{aligned}\n",
       "\\]"
      ],
      "text/plain": [
       "<IPython.core.display.Latex object>"
      ]
     },
     "metadata": {},
     "output_type": "display_data"
    }
   ],
   "source": [
    "%%render\n",
    "# P = 1.013e5 *u.Pa # atmosphere pressure\n",
    "P = 760*u.mmHg \n",
    "A = 0.0603 *u.inch*u.inch # paper area: square inch\n",
    "# A = 0.0603 *u.sq_in\n",
    "F = P*A  # the units is pascal.inch^2\n",
    "#F.to('N') you cannot place convert in the same block as render"
   ]
  },
  {
   "cell_type": "markdown",
   "id": "bab6e1d9",
   "metadata": {},
   "source": [
    "# Explanation\n",
    "1. `%%render` this command is the magic to render all the calcuations as if they are hand-written. It to be placed at the first line in the code block. If you add anything like `a=5` before `%%render`, like the following \n",
    "<code>\n",
    "    a=5\n",
    "    %%render\n",
    "</code>\n",
    "then `%%render` won't work and will give you error. \n",
    "\n",
    "More on how to use library `handcalcs`, see https://github.com/connorferster/handcalcs\n",
    "\n",
    "2. line 2, define a variale `P` as pressure and assign it  with value `1.013e5` and untis `u.Pa`. The `e` in `1.013e5` means 10, that is, $1.013e5 = 1.013\\times{10}^5$. `u.Pa` is the units of Pascal defined in `u`. We can also define `P = 760*u.mmHg` as we know that 1 atom is also equal to the pressure induced by 760 millimeters of mercury. \n",
    "\n",
    "3. Line 4, define area `A` as 0.0603 square inches. Pay attention to the different ways of including units. In line 4, I used `u.inch*u.inch`, line 5, I used built-in units named `u.sq_in`. How do I know what predefined units are there in `u`? Here is the reference: https://github.com/hgrecco/pint/blob/master/pint/default_en.txt\n",
    "\n",
    "4. line 6, do the multiplication of pressure and area. \n",
    "\n",
    "5. Look at the output from the above box, all the variables and calcuations are rendered in handcalculation format due to the magic of `%%render`. But wait for a minute, what is the units for force `F`? It looks complicated, can we convert it to newtons? "
   ]
  },
  {
   "cell_type": "code",
   "execution_count": 4,
   "id": "cdc727b3",
   "metadata": {},
   "outputs": [
    {
     "data": {
      "text/html": [
       "3.941862032682502 newton"
      ],
      "text/latex": [
       "$3.941862032682502\\ \\mathrm{newton}$"
      ],
      "text/plain": [
       "3.941862032682502 <Unit('newton')>"
      ]
     },
     "execution_count": 4,
     "metadata": {},
     "output_type": "execute_result"
    }
   ],
   "source": [
    "F.to('N') # convert it to Newtons\n",
    "#F.to(u.N) # this also works"
   ]
  },
  {
   "cell_type": "code",
   "execution_count": 45,
   "id": "f60b9c30",
   "metadata": {},
   "outputs": [
    {
     "name": "stdout",
     "output_type": "stream",
     "text": [
      "The force is 3.941862032682502 newton\n"
     ]
    }
   ],
   "source": [
    "print(f'The force is {F.to(u.N)}') # this is a better way to format output strings. "
   ]
  },
  {
   "cell_type": "markdown",
   "id": "ec8c002e",
   "metadata": {},
   "source": [
    "# Exercise\n",
    "\n",
    "1. The atmosphere pressure is also `P = 14.6959 psi`, please change the above code and use psi units.\n",
    "2. convert the force into lb, what units should you use? If you get any error, can you make sense of that and fix the error?"
   ]
  },
  {
   "cell_type": "code",
   "execution_count": null,
   "id": "9e964058",
   "metadata": {},
   "outputs": [],
   "source": []
  }
 ],
 "metadata": {
  "kernelspec": {
   "display_name": "Python 3 (ipykernel)",
   "language": "python",
   "name": "python3"
  },
  "language_info": {
   "codemirror_mode": {
    "name": "ipython",
    "version": 3
   },
   "file_extension": ".py",
   "mimetype": "text/x-python",
   "name": "python",
   "nbconvert_exporter": "python",
   "pygments_lexer": "ipython3",
   "version": "3.10.9"
  }
 },
 "nbformat": 4,
 "nbformat_minor": 5
}
