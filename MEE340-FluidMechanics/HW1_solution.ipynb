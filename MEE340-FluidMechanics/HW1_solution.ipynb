{
 "cells": [
  {
   "cell_type": "markdown",
   "id": "15ee2b27",
   "metadata": {},
   "source": [
    "# HW1 warm up\n",
    "\n",
    "## Your Name, Zid\n",
    "\n",
    "Please use jupyter notebook to complete all your assignment. When it is done, please submit your HW solution in `.ipynb` format and upload it to blackboard. You can use this as a template.\n",
    "\n",
    "## problem 1\n",
    "Make sure you have successfully installed Jupyter Notebook, study the two examples we posted on blackboard in the lecture notes folder. Pay attention to the following details. Using your own words to explain the following concepts, and you can use examples to help for that.  \n",
    "    - markdown vs code cell in the notebook\n",
    "    - different meaning of `#` in markdown cells and code cells\n",
    "    - LaTeX symbols and equations\n",
    "    - python libraries: `handcalcs.render, pint, numpy`, etc. \n",
    "    - difference between values and units. \n",
    "    \n",
    "## problem 2\n",
    "When you dive into a swimming pool, sometimes you feel uncomfortable in  your ears due to the water pressure. \n",
    "1. Please estimate the force in your eardrum (Tympanic Membrane) due to water pressure. The pressure in water can be calculated as $$P = \\rho g h$$\n",
    "where $\\rho = 1000~kg/m^3$ is the water density, $g = 9.8 ~m/s^2$ is the gravity constant, $h$ is the depth you can dive into the water. You can adjust your own $h$ values based on your swimming skills, but you cannot use value $0$. You may also need the cross section area of your eardrum. You can estimate that or use search engine to find appropriate value. \n",
    "When you are done with your calcuation, please convert the force into SI units `Newton`. \n",
    "2. Assume the eardrum can be ruptured at a pressure of $100~kPa$, what would be your maximum dive depth? Report your result in inches. \n",
    "\n",
    "\n",
    "## probem 3\n",
    "Please provide your feedback on Jupyter notebook after completing this assignment. e.g., what do you like, what you don't like, etc. \n",
    "\n"
   ]
  },
  {
   "cell_type": "code",
   "execution_count": 4,
   "id": "8205c01d",
   "metadata": {},
   "outputs": [],
   "source": [
    "import handcalcs.render\n",
    "\n",
    "from pint import UnitRegistry\n",
    "u=UnitRegistry(auto_reduce_dimensions=True)"
   ]
  },
  {
   "cell_type": "code",
   "execution_count": 5,
   "id": "c1ab09c0",
   "metadata": {},
   "outputs": [
    {
     "data": {
      "text/latex": [
       "\\[\n",
       "\\begin{aligned}\n",
       "p &= 100000.000\\ \\mathrm{pascal} \\; \n",
       "\\\\[10pt]\n",
       "g &= 9.800\\ \\frac{\\mathrm{meter}}{\\mathrm{second}^{2}} \\; \n",
       "\\\\[10pt]\n",
       "\\rho &= 1000 \\cdot \\frac{ \\mathrm{u.kg} }{ \\left( \\mathrm{u.m} \\right) ^{ 3 } }  = 1000 \\cdot \\frac{ u.kg }{ \\left( u.m \\right) ^{ 3 } } &= 1000.000\\ \\frac{\\mathrm{kilogram}}{\\mathrm{meter}^{3}}  \n",
       "\\\\[10pt]\n",
       "h &= \\frac{ p }{ \\rho } \\cdot \\frac{1} { g } \\\\&= \\frac{ 100000.000\\ \\mathrm{pascal} }{ 1000.000\\ \\frac{\\mathrm{kilogram}}{\\mathrm{meter}^{3}} } \\cdot \\frac{1} { 9.800\\ \\frac{\\mathrm{meter}}{\\mathrm{second}^{2}} } \\\\&= 10.204\\ \\frac{\\mathrm{meter}^{2} \\cdot \\mathrm{pascal} \\cdot \\mathrm{second}^{2}}{\\mathrm{kilogram}}  \\\\[10pt]\n",
       "\\end{aligned}\n",
       "\\]"
      ],
      "text/plain": [
       "<IPython.core.display.Latex object>"
      ]
     },
     "metadata": {},
     "output_type": "display_data"
    }
   ],
   "source": [
    "%%render\n",
    "p=100e3*u.Pa\n",
    "g=9.8*u.m/u.s**2\n",
    "rho = 1000*u.kg/u.m**3\n",
    "h = p/rho/g"
   ]
  },
  {
   "cell_type": "code",
   "execution_count": 10,
   "id": "a5ab051e",
   "metadata": {},
   "outputs": [
    {
     "data": {
      "text/html": [
       "401.7354973485457 inch"
      ],
      "text/latex": [
       "$401.7354973485457\\ \\mathrm{inch}$"
      ],
      "text/plain": [
       "401.7354973485457 <Unit('inch')>"
      ]
     },
     "execution_count": 10,
     "metadata": {},
     "output_type": "execute_result"
    }
   ],
   "source": [
    "h.to(u.inch)"
   ]
  },
  {
   "cell_type": "code",
   "execution_count": null,
   "id": "addca096",
   "metadata": {},
   "outputs": [],
   "source": []
  }
 ],
 "metadata": {
  "kernelspec": {
   "display_name": "Python 3 (ipykernel)",
   "language": "python",
   "name": "python3"
  },
  "language_info": {
   "codemirror_mode": {
    "name": "ipython",
    "version": 3
   },
   "file_extension": ".py",
   "mimetype": "text/x-python",
   "name": "python",
   "nbconvert_exporter": "python",
   "pygments_lexer": "ipython3",
   "version": "3.10.9"
  }
 },
 "nbformat": 4,
 "nbformat_minor": 5
}
