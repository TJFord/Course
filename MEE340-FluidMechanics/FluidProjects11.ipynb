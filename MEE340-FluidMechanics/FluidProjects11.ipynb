{
 "cells": [
  {
   "cell_type": "code",
   "execution_count": 15,
   "id": "261eebe0",
   "metadata": {},
   "outputs": [],
   "source": [
    "import handcalcs.render\n",
    "\n",
    "from matplotlib import pyplot as plt\n",
    "import numpy as np\n",
    "from math import pi\n",
    "from pint import UnitRegistry\n",
    "u=UnitRegistry(auto_reduce_dimensions=True)"
   ]
  },
  {
   "cell_type": "markdown",
   "id": "c9f557cb",
   "metadata": {},
   "source": [
    "We found the flow rate needed to keep up with a output of 1,500,000 gallons/day to be 3,125 gal/min\n",
    "\n",
    "62,500 gal/hr * 8hr - x * 8 hr = 1,000,000 gal/day\n",
    "x = 187,500 gal/hr = 3,125 gal/min"
   ]
  },
  {
   "cell_type": "code",
   "execution_count": 16,
   "id": "b7cc5a68",
   "metadata": {},
   "outputs": [],
   "source": [
    "\n",
    "L = 4378*u.feet\n",
    "k = 0.0005 *u.feet\n",
    "D = 5.45 *u.inch\n",
    "O = 1760 /u.min\n",
    "g = 9.81 *u.m/u.sec/u.sec\n",
    "rho = 999.7 *u.kg/u.m/u.m/u.m\n",
    "mu = 1.307*10**(-3) *u.kg/u.m/u.sec\n",
    "\n",
    "n = 9 #Data chosen from the data set given. The ninth is chosen because the effiecency for power is the heighest\n",
    "#Keeping the power down is extremely important to keep the cost down.\n",
    "Qr = 3125 *u.gal/u.min #Flow rate\n",
    "Or = 1200 /u.min #Pump speed chosen from reducing the cost\n",
    "\n",
    "#Data given by the company\n",
    "Q = [0*u.gal/u.min, 5*u.gal/u.min,10*u.gal/u.min,15*u.gal/u.min,20*u.gal/u.min,25*u.gal/u.min,30*u.gal/u.min,35*u.gal/u.min,40*u.gal/u.min,45*u.gal/u.min,50*u.gal/u.min,55*u.gal/u.min,60*u.gal/u.min]\n",
    "H = [28.0*u.feet,28*u.feet,29*u.feet,29*u.feet,28*u.feet,28*u.feet,27*u.feet,26*u.feet,25*u.feet,23*u.feet,21*u.feet,18*u.feet,15*u.feet]\n",
    "E = [0,13,25,35,44,48,51,53,54,55,53,50,45] #Effecieny\n",
    "\n",
    "\n"
   ]
  },
  {
   "cell_type": "code",
   "execution_count": 17,
   "id": "9128013c",
   "metadata": {},
   "outputs": [
    {
     "data": {
      "text/latex": [
       "\\[\n",
       "\\begin{aligned}\n",
       "\\mathrm{Dr} &= 4.148\\ \\mathrm{gallon}^{0.333333} \\; \n",
       "\\\\[10pt]\n",
       "\\mathrm{Hpump} &= 2798.287\\ \\mathrm{inch} \\; \\;\\textrm{(How high the pump pushes the water)}\n",
       "\\end{aligned}\n",
       "\\]"
      ],
      "text/plain": [
       "<IPython.core.display.Latex object>"
      ]
     },
     "metadata": {},
     "output_type": "display_data"
    }
   ],
   "source": [
    "%%render\n",
    "#Dimensionless analysis\n",
    "#Flow/(omega*D**3) = Flow.rate/(omega*D**3) which was solved for the pump height with given company data, found the flow rate and chosen pump speed\n",
    "Dr = ((Qr*O*(D**3))/(Or*Q[n]))**(1/3)\n",
    "#Pressure/(/rho*omega**2*Diameter**2) = Pressure/(/rho*omega**2*Diameter**2) which is solved for the Hpump \n",
    "Hpump = (Or**2*Dr**2*H[n])/(O**2*D**2) #How high the pump pushes the water"
   ]
  },
  {
   "cell_type": "code",
   "execution_count": 18,
   "id": "663bd2f0",
   "metadata": {},
   "outputs": [
    {
     "data": {
      "text/html": [
       "25.451857253453095 inch"
      ],
      "text/latex": [
       "$25.451857253453095\\ \\mathrm{inch}$"
      ],
      "text/plain": [
       "25.451857253453095 <Unit('inch')>"
      ]
     },
     "execution_count": 18,
     "metadata": {},
     "output_type": "execute_result"
    }
   ],
   "source": [
    "Dr.to('inch')"
   ]
  },
  {
   "cell_type": "markdown",
   "id": "5b767b54",
   "metadata": {},
   "source": [
    "Lowering the pump revolution speed increases the pump diameter a little, but decreases the power cost by a lot more."
   ]
  },
  {
   "cell_type": "code",
   "execution_count": 19,
   "id": "b86887f0",
   "metadata": {
    "scrolled": true
   },
   "outputs": [],
   "source": [
    "L1 = list(np.arange(6.75,12,0.1))\n",
    "\n",
    "Dpipe = L1*u.inch\n",
    "\n",
    "# Bernoulli's energy equation\n",
    "# hpump = v_2^2/2g + z_2 + Hminor + Hmajor\n",
    "hpump = ((Qr/(pi*Dpipe**2/4))**2)/(2*g) + 150*u.feet + (4*0.3*((Qr/(pi*Dpipe**2/4))**2)/(2*g)) + (10*10*((Qr/(pi*Dpipe**2/4))**2)/(2*g)) + 0.0055*(1+(2*10**4*(k/Dpipe) + 10**6/((rho*(Qr/(pi*Dpipe**2/4))*Dpipe)/mu))**(1/3))*L*(Qr/(pi*Dpipe**2/4))**2/(2*Dpipe*g)\n",
    "# how much pump height is needed because of head loss"
   ]
  },
  {
   "cell_type": "code",
   "execution_count": 20,
   "id": "6a310c79",
   "metadata": {},
   "outputs": [
    {
     "data": {
      "text/latex": [
       "\\[\n",
       "\\begin{aligned}\n",
       "\\mathrm{hpump} &= \\frac{ \\left( \\frac{ \\mathrm{Qr} }{ \\pi \\cdot \\frac{ \\left( \\mathrm{Dpipe} \\right) ^{ 2 } }{ 4 } } \\right) ^{ 2 } }{ 2 \\cdot g } + 150 \\cdot \\mathrm{u.feet} + \\left( 4 \\cdot 0.3 \\cdot \\frac{ \\left( \\frac{ \\mathrm{Qr} }{ \\pi \\cdot \\frac{ \\left( \\mathrm{Dpipe} \\right) ^{ 2 } }{ 4 } } \\right) ^{ 2 } }{ 2 \\cdot g } \\right) + \\left( 10 \\cdot 10 \\cdot \\frac{ \\left( \\frac{ \\mathrm{Qr} }{ \\pi \\cdot \\frac{ \\left( \\mathrm{Dpipe} \\right) ^{ 2 } }{ 4 } } \\right) ^{ 2 } }{ 2 \\cdot g } \\right) + 0.0055 \\cdot \\left( 1 + \\left( 2 \\cdot \\left( 10 \\right) ^{ 4 } \\cdot \\left( \\frac{ k }{ \\mathrm{Dpipe} } \\right) + \\frac{ \\left( 10 \\right) ^{ 6 } }{ \\frac{ \\rho \\cdot \\left( \\frac{ \\mathrm{Qr} }{ \\pi \\cdot \\frac{ \\left( \\mathrm{Dpipe} \\right) ^{ 2 } }{ 4 } } \\right) \\cdot \\mathrm{Dpipe} }{ \\mu } } \\right) ^{ \\left( \\frac{ 1 }{ 3 } \\right) } \\right) \\cdot L \\cdot \\frac{ \\left( \\frac{ \\mathrm{Qr} }{ \\pi \\cdot \\frac{ \\left( \\mathrm{Dpipe} \\right) ^{ 2 } }{ 4 } } \\right) ^{ 2 } }{ 2 \\cdot \\mathrm{Dpipe} \\cdot g } \\\\&= \\frac{ \\left( \\frac{ 3125.000\\ \\frac{\\mathrm{gallon}}{\\mathrm{minute}} }{ 3.142 \\cdot \\frac{ \\left( [6.750\\ \\mathrm{inch},\\ 6.850\\ \\mathrm{inch},\\ 6.950\\ \\mathrm{inch},\\ 7.050\\ \\mathrm{inch},\\ 7.150\\ \\mathrm{inch},\\ 7.250\\ \\mathrm{inch},\\ 7.350\\ \\mathrm{inch},\\ 7.450\\ \\mathrm{inch},\\ 7.550\\ \\mathrm{inch},\\ 7.650\\ \\mathrm{inch},\\ 7.750\\ \\mathrm{inch},\\ 7.850\\ \\mathrm{inch},\\ 7.950\\ \\mathrm{inch},\\ 8.050\\ \\mathrm{inch},\\ 8.150\\ \\mathrm{inch},\\ 8.250\\ \\mathrm{inch},\\ 8.350\\ \\mathrm{inch},\\ 8.450\\ \\mathrm{inch},\\ 8.550\\ \\mathrm{inch},\\ 8.650\\ \\mathrm{inch},\\ 8.750\\ \\mathrm{inch},\\ 8.850\\ \\mathrm{inch},\\ 8.950\\ \\mathrm{inch},\\ 9.050\\ \\mathrm{inch},\\ 9.150\\ \\mathrm{inch},\\ 9.250\\ \\mathrm{inch},\\ 9.350\\ \\mathrm{inch},\\ 9.450\\ \\mathrm{inch},\\ 9.550\\ \\mathrm{inch},\\ 9.650\\ \\mathrm{inch},\\ 9.750\\ \\mathrm{inch},\\ 9.850\\ \\mathrm{inch},\\ 9.950\\ \\mathrm{inch},\\ 10.050\\ \\mathrm{inch},\\ 10.150\\ \\mathrm{inch},\\ 10.250\\ \\mathrm{inch},\\ 10.350\\ \\mathrm{inch},\\ 10.450\\ \\mathrm{inch},\\ 10.550\\ \\mathrm{inch},\\ 10.650\\ \\mathrm{inch},\\ 10.750\\ \\mathrm{inch},\\ 10.850\\ \\mathrm{inch},\\ 10.950\\ \\mathrm{inch},\\ 11.050\\ \\mathrm{inch},\\ 11.150\\ \\mathrm{inch},\\ 11.250\\ \\mathrm{inch},\\ 11.350\\ \\mathrm{inch},\\ 11.450\\ \\mathrm{inch},\\ 11.550\\ \\mathrm{inch},\\ 11.650\\ \\mathrm{inch},\\ 11.750\\ \\mathrm{inch},\\ 11.850\\ \\mathrm{inch},\\ 11.950\\ \\mathrm{inch}] \\right) ^{ 2 } }{ 4 } } \\right) ^{ 2 } }{ 2 \\cdot 9.810\\ \\frac{\\mathrm{meter}}{\\mathrm{second}^{2}} } + 150 \\cdot u.feet + \\left( 4 \\cdot 0.3 \\cdot \\frac{ \\left( \\frac{ 3125.000\\ \\frac{\\mathrm{gallon}}{\\mathrm{minute}} }{ 3.142 \\cdot \\frac{ \\left( [6.750\\ \\mathrm{inch},\\ 6.850\\ \\mathrm{inch},\\ 6.950\\ \\mathrm{inch},\\ 7.050\\ \\mathrm{inch},\\ 7.150\\ \\mathrm{inch},\\ 7.250\\ \\mathrm{inch},\\ 7.350\\ \\mathrm{inch},\\ 7.450\\ \\mathrm{inch},\\ 7.550\\ \\mathrm{inch},\\ 7.650\\ \\mathrm{inch},\\ 7.750\\ \\mathrm{inch},\\ 7.850\\ \\mathrm{inch},\\ 7.950\\ \\mathrm{inch},\\ 8.050\\ \\mathrm{inch},\\ 8.150\\ \\mathrm{inch},\\ 8.250\\ \\mathrm{inch},\\ 8.350\\ \\mathrm{inch},\\ 8.450\\ \\mathrm{inch},\\ 8.550\\ \\mathrm{inch},\\ 8.650\\ \\mathrm{inch},\\ 8.750\\ \\mathrm{inch},\\ 8.850\\ \\mathrm{inch},\\ 8.950\\ \\mathrm{inch},\\ 9.050\\ \\mathrm{inch},\\ 9.150\\ \\mathrm{inch},\\ 9.250\\ \\mathrm{inch},\\ 9.350\\ \\mathrm{inch},\\ 9.450\\ \\mathrm{inch},\\ 9.550\\ \\mathrm{inch},\\ 9.650\\ \\mathrm{inch},\\ 9.750\\ \\mathrm{inch},\\ 9.850\\ \\mathrm{inch},\\ 9.950\\ \\mathrm{inch},\\ 10.050\\ \\mathrm{inch},\\ 10.150\\ \\mathrm{inch},\\ 10.250\\ \\mathrm{inch},\\ 10.350\\ \\mathrm{inch},\\ 10.450\\ \\mathrm{inch},\\ 10.550\\ \\mathrm{inch},\\ 10.650\\ \\mathrm{inch},\\ 10.750\\ \\mathrm{inch},\\ 10.850\\ \\mathrm{inch},\\ 10.950\\ \\mathrm{inch},\\ 11.050\\ \\mathrm{inch},\\ 11.150\\ \\mathrm{inch},\\ 11.250\\ \\mathrm{inch},\\ 11.350\\ \\mathrm{inch},\\ 11.450\\ \\mathrm{inch},\\ 11.550\\ \\mathrm{inch},\\ 11.650\\ \\mathrm{inch},\\ 11.750\\ \\mathrm{inch},\\ 11.850\\ \\mathrm{inch},\\ 11.950\\ \\mathrm{inch}] \\right) ^{ 2 } }{ 4 } } \\right) ^{ 2 } }{ 2 \\cdot 9.810\\ \\frac{\\mathrm{meter}}{\\mathrm{second}^{2}} } \\right) + \\left( 10 \\cdot 10 \\cdot \\frac{ \\left( \\frac{ 3125.000\\ \\frac{\\mathrm{gallon}}{\\mathrm{minute}} }{ 3.142 \\cdot \\frac{ \\left( [6.750\\ \\mathrm{inch},\\ 6.850\\ \\mathrm{inch},\\ 6.950\\ \\mathrm{inch},\\ 7.050\\ \\mathrm{inch},\\ 7.150\\ \\mathrm{inch},\\ 7.250\\ \\mathrm{inch},\\ 7.350\\ \\mathrm{inch},\\ 7.450\\ \\mathrm{inch},\\ 7.550\\ \\mathrm{inch},\\ 7.650\\ \\mathrm{inch},\\ 7.750\\ \\mathrm{inch},\\ 7.850\\ \\mathrm{inch},\\ 7.950\\ \\mathrm{inch},\\ 8.050\\ \\mathrm{inch},\\ 8.150\\ \\mathrm{inch},\\ 8.250\\ \\mathrm{inch},\\ 8.350\\ \\mathrm{inch},\\ 8.450\\ \\mathrm{inch},\\ 8.550\\ \\mathrm{inch},\\ 8.650\\ \\mathrm{inch},\\ 8.750\\ \\mathrm{inch},\\ 8.850\\ \\mathrm{inch},\\ 8.950\\ \\mathrm{inch},\\ 9.050\\ \\mathrm{inch},\\ 9.150\\ \\mathrm{inch},\\ 9.250\\ \\mathrm{inch},\\ 9.350\\ \\mathrm{inch},\\ 9.450\\ \\mathrm{inch},\\ 9.550\\ \\mathrm{inch},\\ 9.650\\ \\mathrm{inch},\\ 9.750\\ \\mathrm{inch},\\ 9.850\\ \\mathrm{inch},\\ 9.950\\ \\mathrm{inch},\\ 10.050\\ \\mathrm{inch},\\ 10.150\\ \\mathrm{inch},\\ 10.250\\ \\mathrm{inch},\\ 10.350\\ \\mathrm{inch},\\ 10.450\\ \\mathrm{inch},\\ 10.550\\ \\mathrm{inch},\\ 10.650\\ \\mathrm{inch},\\ 10.750\\ \\mathrm{inch},\\ 10.850\\ \\mathrm{inch},\\ 10.950\\ \\mathrm{inch},\\ 11.050\\ \\mathrm{inch},\\ 11.150\\ \\mathrm{inch},\\ 11.250\\ \\mathrm{inch},\\ 11.350\\ \\mathrm{inch},\\ 11.450\\ \\mathrm{inch},\\ 11.550\\ \\mathrm{inch},\\ 11.650\\ \\mathrm{inch},\\ 11.750\\ \\mathrm{inch},\\ 11.850\\ \\mathrm{inch},\\ 11.950\\ \\mathrm{inch}] \\right) ^{ 2 } }{ 4 } } \\right) ^{ 2 } }{ 2 \\cdot 9.810\\ \\frac{\\mathrm{meter}}{\\mathrm{second}^{2}} } \\right) + 0.0055 \\cdot \\left( 1 + \\left( 2 \\cdot \\left( 10 \\right) ^{ 4 } \\cdot \\left( \\frac{ 0.001\\ \\mathrm{foot} }{ [6.750\\ \\mathrm{inch},\\ 6.850\\ \\mathrm{inch},\\ 6.950\\ \\mathrm{inch},\\ 7.050\\ \\mathrm{inch},\\ 7.150\\ \\mathrm{inch},\\ 7.250\\ \\mathrm{inch},\\ 7.350\\ \\mathrm{inch},\\ 7.450\\ \\mathrm{inch},\\ 7.550\\ \\mathrm{inch},\\ 7.650\\ \\mathrm{inch},\\ 7.750\\ \\mathrm{inch},\\ 7.850\\ \\mathrm{inch},\\ 7.950\\ \\mathrm{inch},\\ 8.050\\ \\mathrm{inch},\\ 8.150\\ \\mathrm{inch},\\ 8.250\\ \\mathrm{inch},\\ 8.350\\ \\mathrm{inch},\\ 8.450\\ \\mathrm{inch},\\ 8.550\\ \\mathrm{inch},\\ 8.650\\ \\mathrm{inch},\\ 8.750\\ \\mathrm{inch},\\ 8.850\\ \\mathrm{inch},\\ 8.950\\ \\mathrm{inch},\\ 9.050\\ \\mathrm{inch},\\ 9.150\\ \\mathrm{inch},\\ 9.250\\ \\mathrm{inch},\\ 9.350\\ \\mathrm{inch},\\ 9.450\\ \\mathrm{inch},\\ 9.550\\ \\mathrm{inch},\\ 9.650\\ \\mathrm{inch},\\ 9.750\\ \\mathrm{inch},\\ 9.850\\ \\mathrm{inch},\\ 9.950\\ \\mathrm{inch},\\ 10.050\\ \\mathrm{inch},\\ 10.150\\ \\mathrm{inch},\\ 10.250\\ \\mathrm{inch},\\ 10.350\\ \\mathrm{inch},\\ 10.450\\ \\mathrm{inch},\\ 10.550\\ \\mathrm{inch},\\ 10.650\\ \\mathrm{inch},\\ 10.750\\ \\mathrm{inch},\\ 10.850\\ \\mathrm{inch},\\ 10.950\\ \\mathrm{inch},\\ 11.050\\ \\mathrm{inch},\\ 11.150\\ \\mathrm{inch},\\ 11.250\\ \\mathrm{inch},\\ 11.350\\ \\mathrm{inch},\\ 11.450\\ \\mathrm{inch},\\ 11.550\\ \\mathrm{inch},\\ 11.650\\ \\mathrm{inch},\\ 11.750\\ \\mathrm{inch},\\ 11.850\\ \\mathrm{inch},\\ 11.950\\ \\mathrm{inch}] } \\right) + \\frac{ \\left( 10 \\right) ^{ 6 } }{ \\frac{ 999.700\\ \\frac{\\mathrm{kilogram}}{\\mathrm{meter}^{3}} \\cdot \\left( \\frac{ 3125.000\\ \\frac{\\mathrm{gallon}}{\\mathrm{minute}} }{ 3.142 \\cdot \\frac{ \\left( [6.750\\ \\mathrm{inch},\\ 6.850\\ \\mathrm{inch},\\ 6.950\\ \\mathrm{inch},\\ 7.050\\ \\mathrm{inch},\\ 7.150\\ \\mathrm{inch},\\ 7.250\\ \\mathrm{inch},\\ 7.350\\ \\mathrm{inch},\\ 7.450\\ \\mathrm{inch},\\ 7.550\\ \\mathrm{inch},\\ 7.650\\ \\mathrm{inch},\\ 7.750\\ \\mathrm{inch},\\ 7.850\\ \\mathrm{inch},\\ 7.950\\ \\mathrm{inch},\\ 8.050\\ \\mathrm{inch},\\ 8.150\\ \\mathrm{inch},\\ 8.250\\ \\mathrm{inch},\\ 8.350\\ \\mathrm{inch},\\ 8.450\\ \\mathrm{inch},\\ 8.550\\ \\mathrm{inch},\\ 8.650\\ \\mathrm{inch},\\ 8.750\\ \\mathrm{inch},\\ 8.850\\ \\mathrm{inch},\\ 8.950\\ \\mathrm{inch},\\ 9.050\\ \\mathrm{inch},\\ 9.150\\ \\mathrm{inch},\\ 9.250\\ \\mathrm{inch},\\ 9.350\\ \\mathrm{inch},\\ 9.450\\ \\mathrm{inch},\\ 9.550\\ \\mathrm{inch},\\ 9.650\\ \\mathrm{inch},\\ 9.750\\ \\mathrm{inch},\\ 9.850\\ \\mathrm{inch},\\ 9.950\\ \\mathrm{inch},\\ 10.050\\ \\mathrm{inch},\\ 10.150\\ \\mathrm{inch},\\ 10.250\\ \\mathrm{inch},\\ 10.350\\ \\mathrm{inch},\\ 10.450\\ \\mathrm{inch},\\ 10.550\\ \\mathrm{inch},\\ 10.650\\ \\mathrm{inch},\\ 10.750\\ \\mathrm{inch},\\ 10.850\\ \\mathrm{inch},\\ 10.950\\ \\mathrm{inch},\\ 11.050\\ \\mathrm{inch},\\ 11.150\\ \\mathrm{inch},\\ 11.250\\ \\mathrm{inch},\\ 11.350\\ \\mathrm{inch},\\ 11.450\\ \\mathrm{inch},\\ 11.550\\ \\mathrm{inch},\\ 11.650\\ \\mathrm{inch},\\ 11.750\\ \\mathrm{inch},\\ 11.850\\ \\mathrm{inch},\\ 11.950\\ \\mathrm{inch}] \\right) ^{ 2 } }{ 4 } } \\right) \\cdot [6.750\\ \\mathrm{inch},\\ 6.850\\ \\mathrm{inch},\\ 6.950\\ \\mathrm{inch},\\ 7.050\\ \\mathrm{inch},\\ 7.150\\ \\mathrm{inch},\\ 7.250\\ \\mathrm{inch},\\ 7.350\\ \\mathrm{inch},\\ 7.450\\ \\mathrm{inch},\\ 7.550\\ \\mathrm{inch},\\ 7.650\\ \\mathrm{inch},\\ 7.750\\ \\mathrm{inch},\\ 7.850\\ \\mathrm{inch},\\ 7.950\\ \\mathrm{inch},\\ 8.050\\ \\mathrm{inch},\\ 8.150\\ \\mathrm{inch},\\ 8.250\\ \\mathrm{inch},\\ 8.350\\ \\mathrm{inch},\\ 8.450\\ \\mathrm{inch},\\ 8.550\\ \\mathrm{inch},\\ 8.650\\ \\mathrm{inch},\\ 8.750\\ \\mathrm{inch},\\ 8.850\\ \\mathrm{inch},\\ 8.950\\ \\mathrm{inch},\\ 9.050\\ \\mathrm{inch},\\ 9.150\\ \\mathrm{inch},\\ 9.250\\ \\mathrm{inch},\\ 9.350\\ \\mathrm{inch},\\ 9.450\\ \\mathrm{inch},\\ 9.550\\ \\mathrm{inch},\\ 9.650\\ \\mathrm{inch},\\ 9.750\\ \\mathrm{inch},\\ 9.850\\ \\mathrm{inch},\\ 9.950\\ \\mathrm{inch},\\ 10.050\\ \\mathrm{inch},\\ 10.150\\ \\mathrm{inch},\\ 10.250\\ \\mathrm{inch},\\ 10.350\\ \\mathrm{inch},\\ 10.450\\ \\mathrm{inch},\\ 10.550\\ \\mathrm{inch},\\ 10.650\\ \\mathrm{inch},\\ 10.750\\ \\mathrm{inch},\\ 10.850\\ \\mathrm{inch},\\ 10.950\\ \\mathrm{inch},\\ 11.050\\ \\mathrm{inch},\\ 11.150\\ \\mathrm{inch},\\ 11.250\\ \\mathrm{inch},\\ 11.350\\ \\mathrm{inch},\\ 11.450\\ \\mathrm{inch},\\ 11.550\\ \\mathrm{inch},\\ 11.650\\ \\mathrm{inch},\\ 11.750\\ \\mathrm{inch},\\ 11.850\\ \\mathrm{inch},\\ 11.950\\ \\mathrm{inch}] }{ 0.001\\ \\frac{\\mathrm{kilogram}}{\\left(\\mathrm{meter} \\cdot \\mathrm{second}\\right)} } } \\right) ^{ \\left( \\frac{ 1 }{ 3 } \\right) } \\right) \\cdot 4378.000\\ \\mathrm{foot} \\cdot \\frac{ \\left( \\frac{ 3125.000\\ \\frac{\\mathrm{gallon}}{\\mathrm{minute}} }{ 3.142 \\cdot \\frac{ \\left( [6.750\\ \\mathrm{inch},\\ 6.850\\ \\mathrm{inch},\\ 6.950\\ \\mathrm{inch},\\ 7.050\\ \\mathrm{inch},\\ 7.150\\ \\mathrm{inch},\\ 7.250\\ \\mathrm{inch},\\ 7.350\\ \\mathrm{inch},\\ 7.450\\ \\mathrm{inch},\\ 7.550\\ \\mathrm{inch},\\ 7.650\\ \\mathrm{inch},\\ 7.750\\ \\mathrm{inch},\\ 7.850\\ \\mathrm{inch},\\ 7.950\\ \\mathrm{inch},\\ 8.050\\ \\mathrm{inch},\\ 8.150\\ \\mathrm{inch},\\ 8.250\\ \\mathrm{inch},\\ 8.350\\ \\mathrm{inch},\\ 8.450\\ \\mathrm{inch},\\ 8.550\\ \\mathrm{inch},\\ 8.650\\ \\mathrm{inch},\\ 8.750\\ \\mathrm{inch},\\ 8.850\\ \\mathrm{inch},\\ 8.950\\ \\mathrm{inch},\\ 9.050\\ \\mathrm{inch},\\ 9.150\\ \\mathrm{inch},\\ 9.250\\ \\mathrm{inch},\\ 9.350\\ \\mathrm{inch},\\ 9.450\\ \\mathrm{inch},\\ 9.550\\ \\mathrm{inch},\\ 9.650\\ \\mathrm{inch},\\ 9.750\\ \\mathrm{inch},\\ 9.850\\ \\mathrm{inch},\\ 9.950\\ \\mathrm{inch},\\ 10.050\\ \\mathrm{inch},\\ 10.150\\ \\mathrm{inch},\\ 10.250\\ \\mathrm{inch},\\ 10.350\\ \\mathrm{inch},\\ 10.450\\ \\mathrm{inch},\\ 10.550\\ \\mathrm{inch},\\ 10.650\\ \\mathrm{inch},\\ 10.750\\ \\mathrm{inch},\\ 10.850\\ \\mathrm{inch},\\ 10.950\\ \\mathrm{inch},\\ 11.050\\ \\mathrm{inch},\\ 11.150\\ \\mathrm{inch},\\ 11.250\\ \\mathrm{inch},\\ 11.350\\ \\mathrm{inch},\\ 11.450\\ \\mathrm{inch},\\ 11.550\\ \\mathrm{inch},\\ 11.650\\ \\mathrm{inch},\\ 11.750\\ \\mathrm{inch},\\ 11.850\\ \\mathrm{inch},\\ 11.950\\ \\mathrm{inch}] \\right) ^{ 2 } }{ 4 } } \\right) ^{ 2 } }{ 2 \\cdot [6.750\\ \\mathrm{inch},\\ 6.850\\ \\mathrm{inch},\\ 6.950\\ \\mathrm{inch},\\ 7.050\\ \\mathrm{inch},\\ 7.150\\ \\mathrm{inch},\\ 7.250\\ \\mathrm{inch},\\ 7.350\\ \\mathrm{inch},\\ 7.450\\ \\mathrm{inch},\\ 7.550\\ \\mathrm{inch},\\ 7.650\\ \\mathrm{inch},\\ 7.750\\ \\mathrm{inch},\\ 7.850\\ \\mathrm{inch},\\ 7.950\\ \\mathrm{inch},\\ 8.050\\ \\mathrm{inch},\\ 8.150\\ \\mathrm{inch},\\ 8.250\\ \\mathrm{inch},\\ 8.350\\ \\mathrm{inch},\\ 8.450\\ \\mathrm{inch},\\ 8.550\\ \\mathrm{inch},\\ 8.650\\ \\mathrm{inch},\\ 8.750\\ \\mathrm{inch},\\ 8.850\\ \\mathrm{inch},\\ 8.950\\ \\mathrm{inch},\\ 9.050\\ \\mathrm{inch},\\ 9.150\\ \\mathrm{inch},\\ 9.250\\ \\mathrm{inch},\\ 9.350\\ \\mathrm{inch},\\ 9.450\\ \\mathrm{inch},\\ 9.550\\ \\mathrm{inch},\\ 9.650\\ \\mathrm{inch},\\ 9.750\\ \\mathrm{inch},\\ 9.850\\ \\mathrm{inch},\\ 9.950\\ \\mathrm{inch},\\ 10.050\\ \\mathrm{inch},\\ 10.150\\ \\mathrm{inch},\\ 10.250\\ \\mathrm{inch},\\ 10.350\\ \\mathrm{inch},\\ 10.450\\ \\mathrm{inch},\\ 10.550\\ \\mathrm{inch},\\ 10.650\\ \\mathrm{inch},\\ 10.750\\ \\mathrm{inch},\\ 10.850\\ \\mathrm{inch},\\ 10.950\\ \\mathrm{inch},\\ 11.050\\ \\mathrm{inch},\\ 11.150\\ \\mathrm{inch},\\ 11.250\\ \\mathrm{inch},\\ 11.350\\ \\mathrm{inch},\\ 11.450\\ \\mathrm{inch},\\ 11.550\\ \\mathrm{inch},\\ 11.650\\ \\mathrm{inch},\\ 11.750\\ \\mathrm{inch},\\ 11.850\\ \\mathrm{inch},\\ 11.950\\ \\mathrm{inch}] \\cdot 9.810\\ \\frac{\\mathrm{meter}}{\\mathrm{second}^{2}} } \\\\&= [1006.830\\ \\mathrm{meter},\\ 942.191\\ \\mathrm{meter},\\ 882.814\\ \\mathrm{meter},\\ 828.198\\ \\mathrm{meter},\\ 777.899\\ \\mathrm{meter},\\ 731.519\\ \\mathrm{meter},\\ 688.701\\ \\mathrm{meter},\\ 649.127\\ \\mathrm{meter},\\ 612.508\\ \\mathrm{meter},\\ 578.587\\ \\mathrm{meter},\\ 547.133\\ \\mathrm{meter},\\ 517.934\\ \\mathrm{meter},\\ 490.803\\ \\mathrm{meter},\\ 465.567\\ \\mathrm{meter},\\ 442.072\\ \\mathrm{meter},\\ 420.177\\ \\mathrm{meter},\\ 399.755\\ \\mathrm{meter},\\ 380.690\\ \\mathrm{meter},\\ 362.875\\ \\mathrm{meter},\\ 346.216\\ \\mathrm{meter},\\ 330.623\\ \\mathrm{meter},\\ 316.017\\ \\mathrm{meter},\\ 302.325\\ \\mathrm{meter},\\ 289.479\\ \\mathrm{meter},\\ 277.419\\ \\mathrm{meter},\\ 266.087\\ \\mathrm{meter},\\ 255.432\\ \\mathrm{meter},\\ 245.407\\ \\mathrm{meter},\\ 235.968\\ \\mathrm{meter},\\ 227.074\\ \\mathrm{meter},\\ 218.689\\ \\mathrm{meter},\\ 210.778\\ \\mathrm{meter},\\ 203.310\\ \\mathrm{meter},\\ 196.256\\ \\mathrm{meter},\\ 189.588\\ \\mathrm{meter},\\ 183.282\\ \\mathrm{meter},\\ 177.315\\ \\mathrm{meter},\\ 171.665\\ \\mathrm{meter},\\ 166.312\\ \\mathrm{meter},\\ 161.238\\ \\mathrm{meter},\\ 156.426\\ \\mathrm{meter},\\ 151.860\\ \\mathrm{meter},\\ 147.525\\ \\mathrm{meter},\\ 143.407\\ \\mathrm{meter},\\ 139.494\\ \\mathrm{meter},\\ 135.773\\ \\mathrm{meter},\\ 132.234\\ \\mathrm{meter},\\ 128.865\\ \\mathrm{meter},\\ 125.657\\ \\mathrm{meter},\\ 122.602\\ \\mathrm{meter},\\ 119.690\\ \\mathrm{meter},\\ 116.914\\ \\mathrm{meter},\\ 114.266\\ \\mathrm{meter}]  \\\\[10pt]\n",
       "\\end{aligned}\n",
       "\\]"
      ],
      "text/plain": [
       "<IPython.core.display.Latex object>"
      ]
     },
     "metadata": {},
     "output_type": "display_data"
    }
   ],
   "source": [
    "%%render \n",
    "hpump = ((Qr/(pi*Dpipe**2/4))**2)/(2*g) + 150*u.feet + (4*0.3*((Qr/(pi*Dpipe**2/4))**2)/(2*g)) + (10*10*((Qr/(pi*Dpipe**2/4))**2)/(2*g)) + 0.0055*(1+(2*10**4*(k/Dpipe) + 10**6/((rho*(Qr/(pi*Dpipe**2/4))*Dpipe)/mu))**(1/3))*L*(Qr/(pi*Dpipe**2/4))**2/(2*Dpipe*g)\n",
    "# how much pump height is needed because of head loss"
   ]
  },
  {
   "cell_type": "code",
   "execution_count": 21,
   "id": "b3963d2c",
   "metadata": {
    "scrolled": true
   },
   "outputs": [
    {
     "data": {
      "text/html": [
       "<table><tbody><tr><th>Magnitude</th><td style='text-align:left;'><pre>[3303.2482875315977 3091.1789032969086 2896.3705795111828<br> 2717.185683606107 2552.163126736071 2399.9971332281825 2259.5188185010375<br> 2129.6801712380675 2009.5400983414686 1898.2522435070725<br> 1795.0543339927274 1699.2588468009685 1610.2448162828275<br> 1527.4506310915924 1450.3676902917684 1378.5348069317429<br> 1311.5332630728415 1248.98243359012 1190.5359074003172 1135.878044444316<br> 1084.720915016754 1036.8015751122982 991.8796375285765 949.7351036826745<br> 910.1664255892914 872.9887713219052 838.0324706242802 805.1416202349956<br> 774.1728309970892 744.9941010033626 717.4838009219404 691.5297592959761<br> 667.0284370497008 643.8841816891721 622.0085527847002 601.3197112841364<br> 581.7418660500981 563.2047717552894 545.6432729217898 528.9968894639912<br> 513.2094396007592 498.2286964489386 484.00607500498717 470.496346570723<br> 457.65737798853206 445.4498933257459 433.8372558915143 422.7852686860339<br> 412.2619915746915 402.2375736513246 392.6840994078692 383.5754474643009<br> 374.88716073487006]</pre></td></tr><tr><th>Units</th><td style='text-align:left;'>foot</td></tr></tbody></table>"
      ],
      "text/latex": [
       "$\\begin{pmatrix} &  &  &  &  &  &  &  &  &  &  &  &  &  &  &  &  &  &  &  &  &  &  &  &  &  &  &  &  &  &  &  &  &  &  &  &  &  &  &  &  &  &  &  &  &  &  &  &  &  &  &  & \\end{pmatrix}\\ \\mathrm{foot}$"
      ],
      "text/plain": [
       "array([3303.24828753, 3091.1789033 , 2896.37057951, 2717.18568361,\n",
       "       2552.16312674, 2399.99713323, 2259.5188185 , 2129.68017124,\n",
       "       2009.54009834, 1898.25224351, 1795.05433399, 1699.2588468 ,\n",
       "       1610.24481628, 1527.45063109, 1450.36769029, 1378.53480693,\n",
       "       1311.53326307, 1248.98243359, 1190.5359074 , 1135.87804444,\n",
       "       1084.72091502, 1036.80157511,  991.87963753,  949.73510368,\n",
       "        910.16642559,  872.98877132,  838.03247062,  805.14162023,\n",
       "        774.172831  ,  744.994101  ,  717.48380092,  691.5297593 ,\n",
       "        667.02843705,  643.88418169,  622.00855278,  601.31971128,\n",
       "        581.74186605,  563.20477176,  545.64327292,  528.99688946,\n",
       "        513.2094396 ,  498.22869645,  484.006075  ,  470.49634657,\n",
       "        457.65737799,  445.44989333,  433.83725589,  422.78526869,\n",
       "        412.26199157,  402.23757365,  392.68409941,  383.57544746,\n",
       "        374.88716073]) <Unit('foot')>"
      ]
     },
     "execution_count": 21,
     "metadata": {},
     "output_type": "execute_result"
    }
   ],
   "source": [
    "hpump.to('feet')\n"
   ]
  },
  {
   "cell_type": "code",
   "execution_count": 22,
   "id": "fb1a3f02",
   "metadata": {},
   "outputs": [
    {
     "data": {
      "image/png": "[encoded data removed]",
      "text/plain": [
       "<Figure size 640x480 with 1 Axes>"
      ]
     },
     "metadata": {},
     "output_type": "display_data"
    }
   ],
   "source": [
    "plt.plot(Dpipe,hpump)\n",
    "plt.title(\"Height vs. Pipe diameter\")\n",
    "plt.xlabel(\"Pipe Diameter (inches)\")\n",
    "plt.ylabel(\"Height head of pump (feet)\")\n",
    "plt.show()"
   ]
  },
  {
   "cell_type": "markdown",
   "id": "fe84960f",
   "metadata": {},
   "source": [
    "Choosing a diameter that is that lower than the Hpump discovered previously. "
   ]
  },
  {
   "cell_type": "code",
   "execution_count": 23,
   "id": "e9333d13",
   "metadata": {},
   "outputs": [
    {
     "data": {
      "text/latex": [
       "\\[\n",
       "\\begin{aligned}\n",
       "\\mathrm{dpipe} &= 11 \\cdot \\mathrm{u.inch}  = 11 \\cdot u.inch &= 11.000\\ \\mathrm{inch}  \n",
       "\\\\[10pt]\n",
       "\\mathrm{Wpump} &= \\mathrm{Qr} \\cdot \\rho \\cdot \\mathrm{Hpump} \\cdot g \\\\&= 3125.000\\ \\frac{\\mathrm{gallon}}{\\mathrm{minute}} \\cdot 999.700\\ \\frac{\\mathrm{kilogram}}{\\mathrm{meter}^{3}} \\cdot 2798.287\\ \\mathrm{inch} \\cdot 9.810\\ \\frac{\\mathrm{meter}}{\\mathrm{second}^{2}} \\\\&= 137428.406\\ \\frac{\\mathrm{kilogram} \\cdot \\mathrm{meter}^{2}}{\\mathrm{second}^{3}}  \\\\[10pt]\n",
       "\\\\[10pt]\n",
       "\\mathrm{Ppump} &= 249869.829\\ \\frac{\\mathrm{kilogram} \\cdot \\mathrm{meter}^{2}}{\\mathrm{second}^{3}} \\; \n",
       "\\end{aligned}\n",
       "\\]"
      ],
      "text/plain": [
       "<IPython.core.display.Latex object>"
      ]
     },
     "metadata": {},
     "output_type": "display_data"
    }
   ],
   "source": [
    "%%render\n",
    "#Diameter chosen from graph because it fits with the pump head height\n",
    "dpipe = 11*u.inch\n",
    "Wpump = Qr*rho*Hpump*g\n",
    "Ppump = Wpump/(E[9]/100)"
   ]
  },
  {
   "cell_type": "code",
   "execution_count": 24,
   "id": "31974683",
   "metadata": {},
   "outputs": [
    {
     "data": {
      "text/html": [
       "137.42840586021862 kilowatt"
      ],
      "text/latex": [
       "$137.42840586021862\\ \\mathrm{kilowatt}$"
      ],
      "text/plain": [
       "137.42840586021862 <Unit('kilowatt')>"
      ]
     },
     "execution_count": 24,
     "metadata": {},
     "output_type": "execute_result"
    }
   ],
   "source": [
    "Wpump.to('kW')"
   ]
  },
  {
   "cell_type": "code",
   "execution_count": 25,
   "id": "5bbe6da9",
   "metadata": {},
   "outputs": [
    {
     "data": {
      "text/latex": [
       "\\[\n",
       "\\begin{aligned}\n",
       "\\mathrm{Cost} &= \\left( 3500 + 1500 \\cdot \\frac{ \\mathrm{Dr} }{ \\mathrm{u.inch} } \\right) + 4 \\cdot \\left( 300 + 200 \\cdot \\frac{ \\mathrm{dpipe} }{ \\mathrm{u.inch} } \\right) + 10 \\cdot \\left( 50 + 50 \\cdot \\frac{ \\mathrm{dpipe} }{ \\mathrm{u.inch} } \\right) + \\frac{ \\mathrm{dpipe} }{ \\mathrm{u.inch} } \\cdot \\left( \\frac{ L }{ \\mathrm{u.foot} } \\right) + 0.10 \\cdot \\left( \\mathrm{Ppump} \\cdot \\frac{ 8760 }{ \\mathrm{u.kW} } \\right) \\\\&= \\left( 3500 + 1500 \\cdot \\frac{ 4.148\\ \\mathrm{gallon}^{0.333333} }{ u.inch } \\right) + 4 \\cdot \\left( 300 + 200 \\cdot \\frac{ 11.000\\ \\mathrm{inch} }{ u.inch } \\right) + 10 \\cdot \\left( 50 + 50 \\cdot \\frac{ 11.000\\ \\mathrm{inch} }{ u.inch } \\right) + \\frac{ 11.000\\ \\mathrm{inch} }{ u.inch } \\cdot \\left( \\frac{ 4378.000\\ \\mathrm{foot} }{ u.foot } \\right) + 0.10 \\cdot \\left( 249869.829\\ \\frac{\\mathrm{kilogram} \\cdot \\mathrm{meter}^{2}}{\\mathrm{second}^{3}} \\cdot \\frac{ 8760 }{ u.kW } \\right) \\\\&= 324721.756\\ dimensionless  \\\\[10pt]\n",
       "\\end{aligned}\n",
       "\\]"
      ],
      "text/plain": [
       "<IPython.core.display.Latex object>"
      ]
     },
     "metadata": {},
     "output_type": "display_data"
    }
   ],
   "source": [
    "%%render\n",
    "# Cost\n",
    "Cost = (3500 + 1500*Dr/u.inch) + 4*(300 + 200*dpipe/u.inch) + 10*(50 + 50*dpipe/u.inch) + dpipe/u.inch*(L/u.foot)+ 0.10*(Ppump*8760/u.kW)\n"
   ]
  },
  {
   "cell_type": "markdown",
   "id": "57b82fe6",
   "metadata": {},
   "source": [
    "The cost have the units in dollars "
   ]
  },
  {
   "cell_type": "code",
   "execution_count": null,
   "id": "28ee86e0",
   "metadata": {},
   "outputs": [],
   "source": []
  },
  {
   "cell_type": "markdown",
   "id": "9cccecb1",
   "metadata": {},
   "source": [
    "The cost is calculated with a years worth of electricity. There's 8,760 hours in one year."
   ]
  }
 ],
 "metadata": {
  "kernelspec": {
   "display_name": "Python 3 (ipykernel)",
   "language": "python",
   "name": "python3"
  },
  "language_info": {
   "codemirror_mode": {
    "name": "ipython",
    "version": 3
   },
   "file_extension": ".py",
   "mimetype": "text/x-python",
   "name": "python",
   "nbconvert_exporter": "python",
   "pygments_lexer": "ipython3",
   "version": "3.10.9"
  }
 },
 "nbformat": 4,
 "nbformat_minor": 5
}
