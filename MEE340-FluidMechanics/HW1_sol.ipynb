{
 "cells": [
  {
   "cell_type": "markdown",
   "id": "47f35d18",
   "metadata": {},
   "source": [
    "# HW1 solution\n",
    "\n",
    "## Jifu Tan, A1234567\n",
    "\n",
    "Please use jupyter notebook to complete all your assignment. When it is done, please submit your HW solution in `.ipynb` format and upload it to blackboard. You can use this as a template.\n",
    "\n",
    "## Problem 1\n",
    "Make sure you have successfully installed Jupyter Notebook, study the two examples we posted on blackboard in the lecture notes folder. Pay attention to the following details. Using your own words to explain the following concepts, and you can use examples to help for that.  \n",
    "- markdown vs code cell in the notebook\n",
    "- different meaning of `#` in markdown cells and code cells\n",
    "- LaTeX symbols and equations\n",
    "- python libraries: `handcalcs.render, pint, numpy`, etc. \n",
    "- difference between values and units. \n",
    "    \n",
    "## Solution\n",
    "\n",
    "I have jupyter notebook installed successfully on my laptop. \n",
    "- markdown cells are the ones showing the notes, explanation, figure, equations, while code cells can be used to perform calculations\n",
    "- `#` gives titles/headlines in markdown cells, while `#` is a comment in codeing cell. \n",
    "- LaTeX is a typeset programming system for ducuments, particulartly for equations, and citations\n",
    "- Libraries are external set of functions that can improve our productivity in proramming or creating applications. \n",
    "- Values are just numerical digits, while units have the dimension. Together they define physical quantities. \n",
    "\n",
    "    \n",
    "## Problem 2\n",
    "When you dive into a swimming pool, sometimes you feel uncomfortable in  your ears due to the water pressure. \n",
    "1. Please estimate the force in your eardrum (Tympanic Membrane) due to water pressure. The pressure in water can be calculated as $$P = \\rho g h$$\n",
    "where $\\rho = 1000~kg/m^3$ is the water density, $g = 9.8 ~m/s^2$ is the gravity constant, $h$ is the depth you can dive into the water. You can adjust your own $h$ values based on your swimming skills, but you cannot use value $0$. You may also need the cross section area of your eardrum. You can estimate that or use search engine to find appropriate value. \n",
    "When you are done with your calcuation, please convert the force into SI units `Newton`. \n",
    "2. Assume the eardrum can be ruptured at a pressure of $100~kPa$, what would be your maximum dive depth? Report your result in inches. \n"
   ]
  },
  {
   "cell_type": "code",
   "execution_count": 1,
   "id": "e8c18d7c",
   "metadata": {},
   "outputs": [],
   "source": [
    "import handcalcs.render\n",
    "\n",
    "from math import pi\n",
    "from pint import UnitRegistry\n",
    "u=UnitRegistry(auto_reduce_dimensions=True)"
   ]
  },
  {
   "cell_type": "markdown",
   "id": "111cc0f6",
   "metadata": {},
   "source": [
    "### Part 1: Plan & Solution\n",
    "The force can be calculated as Pressure times area. The pressure is given by $P=\\rho g h$, then I only need to find the crossection area of my eardrum, which can be found in literature: https://www.ncbi.nlm.nih.gov/pmc/articles/PMC7791892/"
   ]
  },
  {
   "cell_type": "code",
   "execution_count": 2,
   "id": "3378bfb1",
   "metadata": {
    "scrolled": true
   },
   "outputs": [
    {
     "data": {
      "text/latex": [
       "\\[\n",
       "\\begin{aligned}\n",
       "\\rho &= 1000 \\cdot \\frac{ \\mathrm{u.kg} }{ \\left( \\mathrm{u.m} \\right) ^{ 3 } }  = 1000 \\cdot \\frac{ u.kg }{ \\left( u.m \\right) ^{ 3 } } &= 1000.000\\ \\frac{\\mathrm{kilogram}}{\\mathrm{meter}^{3}} \\; \\;\\textrm{(density)}\n",
       "\\\\[10pt]\n",
       "g &= 9.8 \\cdot \\frac{ \\mathrm{u.m} }{ \\left( \\mathrm{u.s} \\right) ^{ 2 } }  = 9.8 \\cdot \\frac{ u.m }{ \\left( u.s \\right) ^{ 2 } } &= 9.800\\ \\frac{\\mathrm{meter}}{\\mathrm{second}^{2}} \\; \\;\\textrm{(acceleration)}\n",
       "\\\\[10pt]\n",
       "h &= 6 \\cdot \\mathrm{u.ft}  = 6 \\cdot u.ft &= 6.000\\ \\mathrm{foot} \\; \\;\\textrm{(my diving depth)}\n",
       "\\\\[10pt]\n",
       "\\mathrm{area} &= 60 \\cdot \\left( \\mathrm{u.mm} \\right) ^{ 2 }  = 60 \\cdot \\left( u.mm \\right) ^{ 2 } &= 60.000\\ \\mathrm{millimeter}^{2} \\; \\;\\textrm{(cross section area)}\n",
       "\\\\[10pt]\n",
       "F &= \\rho \\cdot g \\cdot h \\cdot \\mathrm{area} \\\\&= 1000.000\\ \\frac{\\mathrm{kilogram}}{\\mathrm{meter}^{3}} \\cdot 9.800\\ \\frac{\\mathrm{meter}}{\\mathrm{second}^{2}} \\cdot 6.000\\ \\mathrm{foot} \\cdot 60.000\\ \\mathrm{millimeter}^{2} \\\\&= 1075.334\\ \\frac{\\mathrm{kilogram} \\cdot \\mathrm{millimeter}}{\\mathrm{second}^{2}} \\; \\;\\textrm{(force)}\\\\[10pt]\n",
       "\\end{aligned}\n",
       "\\]"
      ],
      "text/plain": [
       "<IPython.core.display.Latex object>"
      ]
     },
     "metadata": {},
     "output_type": "display_data"
    }
   ],
   "source": [
    "%%render\n",
    "rho = 1000*u.kg/u.m**3 # density\n",
    "g = 9.8 *u.m/u.s**2 # acceleration\n",
    "h = 6 *u.ft # my diving depth\n",
    "area = 60*u.mm**2 # cross section area\n",
    "F = rho*g*h*area # force"
   ]
  },
  {
   "cell_type": "code",
   "execution_count": 10,
   "id": "8ca63b21",
   "metadata": {},
   "outputs": [
    {
     "name": "stdout",
     "output_type": "stream",
     "text": [
      "the force on my eardrum is 1.0753344 newton\n"
     ]
    }
   ],
   "source": [
    "print(f'the force on my eardrum is {F.to(u.N)}')"
   ]
  },
  {
   "cell_type": "markdown",
   "id": "0a555e70",
   "metadata": {},
   "source": [
    "### Part 2: Plan & Solution\n",
    "From $P = \\rho g h$ we can get $$h = \\dfrac{P}{\\rho g}$$"
   ]
  },
  {
   "cell_type": "code",
   "execution_count": 11,
   "id": "527c1a84",
   "metadata": {},
   "outputs": [
    {
     "data": {
      "text/latex": [
       "\\[\n",
       "\\begin{aligned}\n",
       "P_{max} &= 100 \\cdot \\mathrm{u.kPa}  = 100 \\cdot u.kPa &= 100.000\\ \\mathrm{kilopascal}  \n",
       "\\\\[10pt]\n",
       "h_{max} &= \\frac{ P_{max} }{ \\rho } \\cdot \\frac{1} { g } \\\\&= \\frac{ 100.000\\ \\mathrm{kilopascal} }{ 1000.000\\ \\frac{\\mathrm{kilogram}}{\\mathrm{meter}^{3}} } \\cdot \\frac{1} { 9.800\\ \\frac{\\mathrm{meter}}{\\mathrm{second}^{2}} } \\\\&= 0.010\\ \\frac{\\mathrm{kilopascal} \\cdot \\mathrm{meter}^{2} \\cdot \\mathrm{second}^{2}}{\\mathrm{kilogram}}  \\\\[10pt]\n",
       "\\end{aligned}\n",
       "\\]"
      ],
      "text/plain": [
       "<IPython.core.display.Latex object>"
      ]
     },
     "metadata": {},
     "output_type": "display_data"
    }
   ],
   "source": [
    "%%render\n",
    "P_max = 100 *u.kPa\n",
    "h_max = P_max/rho/g"
   ]
  },
  {
   "cell_type": "code",
   "execution_count": 12,
   "id": "6d789869",
   "metadata": {},
   "outputs": [
    {
     "name": "stdout",
     "output_type": "stream",
     "text": [
      "the maximum depth I can dive before injure my eardrum is 401.73549734854566 inch\n"
     ]
    }
   ],
   "source": [
    "print(f'the maximum depth I can dive before injure my eardrum is {h_max.to(u.inches)}')"
   ]
  },
  {
   "cell_type": "code",
   "execution_count": null,
   "id": "7bbcec2d",
   "metadata": {},
   "outputs": [],
   "source": []
  }
 ],
 "metadata": {
  "kernelspec": {
   "display_name": "Python 3 (ipykernel)",
   "language": "python",
   "name": "python3"
  },
  "language_info": {
   "codemirror_mode": {
    "name": "ipython",
    "version": 3
   },
   "file_extension": ".py",
   "mimetype": "text/x-python",
   "name": "python",
   "nbconvert_exporter": "python",
   "pygments_lexer": "ipython3",
   "version": "3.10.9"
  }
 },
 "nbformat": 4,
 "nbformat_minor": 5
}
