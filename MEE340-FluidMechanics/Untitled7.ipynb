{
 "cells": [
  {
   "cell_type": "code",
   "execution_count": 2,
   "id": "34d966f0",
   "metadata": {},
   "outputs": [],
   "source": [
    "import sympy as sp # use symbolic python taking derivative\n",
    "import handcalcs.render # render\n",
    "from pint import UnitRegistry\n",
    "u=UnitRegistry(auto_reduce_dimensions=True)\n",
    "import handcalcs.render"
   ]
  },
  {
   "cell_type": "code",
   "execution_count": 5,
   "id": "e97b74d3",
   "metadata": {},
   "outputs": [
    {
     "data": {
      "text/latex": [
       "\\[\n",
       "\\begin{aligned}\n",
       "\\mathrm{dp}_{dx} &= \\left( \\left( - 745 \\right) + 97 \\right) \\cdot \\frac{ \\mathrm{u.kPa} }{ 40 \\cdot \\mathrm{u.m} }  = \\left( \\left( - 745 \\right) + 97 \\right) \\cdot \\frac{ u.kPa }{ 40 \\cdot u.m } &= -16.200\\ \\frac{\\mathrm{kilopascal}}{\\mathrm{meter}}  \n",
       "\\\\[10pt]\n",
       "R &= 2.5 \\cdot \\mathrm{u.cm}  = 2.5 \\cdot u.cm &= 2.500\\ \\mathrm{centimeter}  \n",
       "\\\\[10pt]\n",
       "\\mu &= 0.8 \\cdot \\frac{ \\mathrm{u.kg} }{ \\mathrm{u.m} } \\cdot \\frac{1} { \\mathrm{u.s} }  = 0.8 \\cdot \\frac{ u.kg }{ u.m } \\cdot \\frac{1} { u.s } &= 0.800\\ \\frac{\\mathrm{kilogram}}{\\left(\\mathrm{meter} \\cdot \\mathrm{second}\\right)}  \n",
       "\\\\[10pt]\n",
       "U_{max_{1}} &= \\frac{ \\left( - \\left( R \\right) ^{ 2 } \\right) }{ 4 \\cdot \\mu } \\cdot \\mathrm{dp}_{dx} \\\\&= \\frac{ \\left( - \\left( 2.500\\ \\mathrm{centimeter} \\right) ^{ 2 } \\right) }{ 4 \\cdot 0.800\\ \\frac{\\mathrm{kilogram}}{\\left(\\mathrm{meter} \\cdot \\mathrm{second}\\right)} } \\cdot -16.200\\ \\frac{\\mathrm{kilopascal}}{\\mathrm{meter}} \\\\&= 0.003\\ \\frac{\\mathrm{kilopascal} \\cdot \\mathrm{meter}^{2} \\cdot \\mathrm{second}}{\\mathrm{kilogram}}  \\\\[10pt]\n",
       "\\\\[10pt]\n",
       "U_{max_{2}} &= \\frac{ \\left( - \\left( R \\right) ^{ 2 } \\right) }{ 4 } \\cdot \\frac{1} { \\mu } \\cdot \\mathrm{dp}_{dx} \\\\&= \\frac{ \\left( - \\left( 2.500\\ \\mathrm{centimeter} \\right) ^{ 2 } \\right) }{ 4 } \\cdot \\frac{1} { 0.800\\ \\frac{\\mathrm{kilogram}}{\\left(\\mathrm{meter} \\cdot \\mathrm{second}\\right)} } \\cdot -16.200\\ \\frac{\\mathrm{kilopascal}}{\\mathrm{meter}} \\\\&= 0.003\\ \\frac{\\mathrm{kilopascal} \\cdot \\mathrm{meter}^{2} \\cdot \\mathrm{second}}{\\mathrm{kilogram}}  \\\\[10pt]\n",
       "\\end{aligned}\n",
       "\\]"
      ],
      "text/plain": [
       "<IPython.core.display.Latex object>"
      ]
     },
     "metadata": {},
     "output_type": "display_data"
    }
   ],
   "source": [
    "%%render\n",
    "dp_dx = (-745+97)*u.kPa/(40*u.m)\n",
    "R = 2.5*u.cm\n",
    "mu = 0.8*u.kg/u.m/u.s\n",
    "U_max_1 = -R**2/(4*mu)*dp_dx\n",
    "U_max_2 = -R**2/4/mu*dp_dx"
   ]
  },
  {
   "cell_type": "code",
   "execution_count": 11,
   "id": "0de2b737",
   "metadata": {},
   "outputs": [
    {
     "data": {
      "text/html": [
       "3.1640625 meter/second"
      ],
      "text/latex": [
       "$3.1640625\\ \\frac{\\mathrm{meter}}{\\mathrm{second}}$"
      ],
      "text/plain": [
       "3.1640625 <Unit('meter / second')>"
      ]
     },
     "execution_count": 11,
     "metadata": {},
     "output_type": "execute_result"
    }
   ],
   "source": [
    "U_max_1.to(u.m/u.s)\n",
    "\n",
    "#F_B.to(u.N)"
   ]
  },
  {
   "cell_type": "code",
   "execution_count": 10,
   "id": "8fe02d60",
   "metadata": {},
   "outputs": [
    {
     "data": {
      "text/html": [
       "3.1640625 meter/second"
      ],
      "text/latex": [
       "$3.1640625\\ \\frac{\\mathrm{meter}}{\\mathrm{second}}$"
      ],
      "text/plain": [
       "3.1640625 <Unit('meter / second')>"
      ]
     },
     "execution_count": 10,
     "metadata": {},
     "output_type": "execute_result"
    }
   ],
   "source": [
    "U_max_2.to(u.m/u.s)"
   ]
  },
  {
   "cell_type": "code",
   "execution_count": null,
   "id": "9f570987",
   "metadata": {},
   "outputs": [],
   "source": []
  }
 ],
 "metadata": {
  "kernelspec": {
   "display_name": "Python 3 (ipykernel)",
   "language": "python",
   "name": "python3"
  },
  "language_info": {
   "codemirror_mode": {
    "name": "ipython",
    "version": 3
   },
   "file_extension": ".py",
   "mimetype": "text/x-python",
   "name": "python",
   "nbconvert_exporter": "python",
   "pygments_lexer": "ipython3",
   "version": "3.10.9"
  }
 },
 "nbformat": 4,
 "nbformat_minor": 5
}
