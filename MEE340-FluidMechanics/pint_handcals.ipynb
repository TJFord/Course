{
 "cells": [
  {
   "cell_type": "markdown",
   "id": "fc584539",
   "metadata": {},
   "source": [
    "# This is an example on HW problem"
   ]
  },
  {
   "cell_type": "code",
   "execution_count": 1,
   "id": "plastic-daughter",
   "metadata": {},
   "outputs": [
    {
     "name": "stdout",
     "output_type": "stream",
     "text": [
      "Requirement already satisfied: handcalcs in /home/jifutan/miniconda3/envs/edu/lib/python3.10/site-packages (1.6.5)\n",
      "Requirement already satisfied: innerscope in /home/jifutan/miniconda3/envs/edu/lib/python3.10/site-packages (from handcalcs) (0.6.0)\n",
      "Requirement already satisfied: pyparsing in /home/jifutan/miniconda3/envs/edu/lib/python3.10/site-packages (from handcalcs) (3.1.1)\n",
      "Requirement already satisfied: nbconvert>=6.0 in /home/jifutan/miniconda3/envs/edu/lib/python3.10/site-packages (from handcalcs) (6.5.4)\n",
      "Requirement already satisfied: more_itertools in /home/jifutan/miniconda3/envs/edu/lib/python3.10/site-packages (from handcalcs) (10.1.0)\n",
      "Requirement already satisfied: nbclient>=0.5.0 in /home/jifutan/miniconda3/envs/edu/lib/python3.10/site-packages (from nbconvert>=6.0->handcalcs) (0.5.13)\n",
      "Requirement already satisfied: pandocfilters>=1.4.1 in /home/jifutan/miniconda3/envs/edu/lib/python3.10/site-packages (from nbconvert>=6.0->handcalcs) (1.5.0)\n",
      "Requirement already satisfied: defusedxml in /home/jifutan/miniconda3/envs/edu/lib/python3.10/site-packages (from nbconvert>=6.0->handcalcs) (0.7.1)\n",
      "Requirement already satisfied: lxml in /home/jifutan/miniconda3/envs/edu/lib/python3.10/site-packages (from nbconvert>=6.0->handcalcs) (4.9.1)\n",
      "Requirement already satisfied: beautifulsoup4 in /home/jifutan/miniconda3/envs/edu/lib/python3.10/site-packages (from nbconvert>=6.0->handcalcs) (4.11.1)\n",
      "Requirement already satisfied: bleach in /home/jifutan/miniconda3/envs/edu/lib/python3.10/site-packages (from nbconvert>=6.0->handcalcs) (4.1.0)\n",
      "Requirement already satisfied: mistune<2,>=0.8.1 in /home/jifutan/miniconda3/envs/edu/lib/python3.10/site-packages (from nbconvert>=6.0->handcalcs) (0.8.4)\n",
      "Requirement already satisfied: jupyterlab-pygments in /home/jifutan/miniconda3/envs/edu/lib/python3.10/site-packages (from nbconvert>=6.0->handcalcs) (0.1.2)\n",
      "Requirement already satisfied: packaging in /home/jifutan/miniconda3/envs/edu/lib/python3.10/site-packages (from nbconvert>=6.0->handcalcs) (22.0)\n",
      "Requirement already satisfied: pygments>=2.4.1 in /home/jifutan/miniconda3/envs/edu/lib/python3.10/site-packages (from nbconvert>=6.0->handcalcs) (2.11.2)\n",
      "Requirement already satisfied: MarkupSafe>=2.0 in /home/jifutan/miniconda3/envs/edu/lib/python3.10/site-packages (from nbconvert>=6.0->handcalcs) (2.1.1)\n",
      "Requirement already satisfied: entrypoints>=0.2.2 in /home/jifutan/miniconda3/envs/edu/lib/python3.10/site-packages (from nbconvert>=6.0->handcalcs) (0.4)\n",
      "Requirement already satisfied: nbformat>=5.1 in /home/jifutan/miniconda3/envs/edu/lib/python3.10/site-packages (from nbconvert>=6.0->handcalcs) (5.7.0)\n",
      "Requirement already satisfied: tinycss2 in /home/jifutan/miniconda3/envs/edu/lib/python3.10/site-packages (from nbconvert>=6.0->handcalcs) (1.2.1)\n",
      "Requirement already satisfied: traitlets>=5.0 in /home/jifutan/miniconda3/envs/edu/lib/python3.10/site-packages (from nbconvert>=6.0->handcalcs) (5.7.1)\n",
      "Requirement already satisfied: jinja2>=3.0 in /home/jifutan/miniconda3/envs/edu/lib/python3.10/site-packages (from nbconvert>=6.0->handcalcs) (3.1.2)\n",
      "Requirement already satisfied: jupyter-core>=4.7 in /home/jifutan/miniconda3/envs/edu/lib/python3.10/site-packages (from nbconvert>=6.0->handcalcs) (5.1.1)\n",
      "Requirement already satisfied: toolz in /home/jifutan/miniconda3/envs/edu/lib/python3.10/site-packages (from innerscope->handcalcs) (0.12.0)\n",
      "Requirement already satisfied: platformdirs>=2.5 in /home/jifutan/miniconda3/envs/edu/lib/python3.10/site-packages (from jupyter-core>=4.7->nbconvert>=6.0->handcalcs) (2.5.2)\n",
      "Requirement already satisfied: nest-asyncio in /home/jifutan/miniconda3/envs/edu/lib/python3.10/site-packages (from nbclient>=0.5.0->nbconvert>=6.0->handcalcs) (1.5.6)\n",
      "Requirement already satisfied: jupyter-client>=6.1.5 in /home/jifutan/miniconda3/envs/edu/lib/python3.10/site-packages (from nbclient>=0.5.0->nbconvert>=6.0->handcalcs) (7.4.8)\n",
      "Requirement already satisfied: jsonschema>=2.6 in /home/jifutan/miniconda3/envs/edu/lib/python3.10/site-packages (from nbformat>=5.1->nbconvert>=6.0->handcalcs) (4.16.0)\n",
      "Requirement already satisfied: fastjsonschema in /home/jifutan/miniconda3/envs/edu/lib/python3.10/site-packages (from nbformat>=5.1->nbconvert>=6.0->handcalcs) (2.16.2)\n",
      "Requirement already satisfied: soupsieve>1.2 in /home/jifutan/miniconda3/envs/edu/lib/python3.10/site-packages (from beautifulsoup4->nbconvert>=6.0->handcalcs) (2.3.2.post1)\n",
      "Requirement already satisfied: webencodings in /home/jifutan/miniconda3/envs/edu/lib/python3.10/site-packages (from bleach->nbconvert>=6.0->handcalcs) (0.5.1)\n",
      "Requirement already satisfied: six>=1.9.0 in /home/jifutan/miniconda3/envs/edu/lib/python3.10/site-packages (from bleach->nbconvert>=6.0->handcalcs) (1.16.0)\n",
      "Requirement already satisfied: attrs>=17.4.0 in /home/jifutan/miniconda3/envs/edu/lib/python3.10/site-packages (from jsonschema>=2.6->nbformat>=5.1->nbconvert>=6.0->handcalcs) (22.1.0)\n",
      "Requirement already satisfied: pyrsistent!=0.17.0,!=0.17.1,!=0.17.2,>=0.14.0 in /home/jifutan/miniconda3/envs/edu/lib/python3.10/site-packages (from jsonschema>=2.6->nbformat>=5.1->nbconvert>=6.0->handcalcs) (0.18.0)\n",
      "Requirement already satisfied: pyzmq>=23.0 in /home/jifutan/miniconda3/envs/edu/lib/python3.10/site-packages (from jupyter-client>=6.1.5->nbclient>=0.5.0->nbconvert>=6.0->handcalcs) (23.2.0)\n",
      "Requirement already satisfied: python-dateutil>=2.8.2 in /home/jifutan/miniconda3/envs/edu/lib/python3.10/site-packages (from jupyter-client>=6.1.5->nbclient>=0.5.0->nbconvert>=6.0->handcalcs) (2.8.2)\n",
      "Requirement already satisfied: tornado>=6.2 in /home/jifutan/miniconda3/envs/edu/lib/python3.10/site-packages (from jupyter-client>=6.1.5->nbclient>=0.5.0->nbconvert>=6.0->handcalcs) (6.2)\n",
      "Requirement already satisfied: Pint in /home/jifutan/miniconda3/envs/edu/lib/python3.10/site-packages (0.22)\n",
      "Requirement already satisfied: typing-extensions in /home/jifutan/miniconda3/envs/edu/lib/python3.10/site-packages (from Pint) (4.4.0)\n"
     ]
    }
   ],
   "source": [
    "!pip install handcalcs \n",
    "!pip install Pint"
   ]
  },
  {
   "cell_type": "code",
   "execution_count": 2,
   "id": "given-secret",
   "metadata": {},
   "outputs": [],
   "source": [
    "import handcalcs.render\n",
    "\n",
    "from math import pi\n",
    "from pint import UnitRegistry\n",
    "u=UnitRegistry(auto_reduce_dimensions=True)\n",
    "#u.default_format = '~'"
   ]
  },
  {
   "cell_type": "code",
   "execution_count": 6,
   "id": "hispanic-economy",
   "metadata": {
    "scrolled": true
   },
   "outputs": [
    {
     "ename": "ModuleNotFoundError",
     "evalue": "No module named 'pint'",
     "output_type": "error",
     "traceback": [
      "\u001b[0;31m---------------------------------------------------------------------------\u001b[0m",
      "\u001b[0;31mModuleNotFoundError\u001b[0m                       Traceback (most recent call last)",
      "Cell \u001b[0;32mIn[6], line 2\u001b[0m\n\u001b[1;32m      1\u001b[0m \u001b[38;5;28;01mfrom\u001b[39;00m \u001b[38;5;21;01mmath\u001b[39;00m \u001b[38;5;28;01mimport\u001b[39;00m pi\n\u001b[0;32m----> 2\u001b[0m \u001b[38;5;28;01mfrom\u001b[39;00m \u001b[38;5;21;01mpint\u001b[39;00m \u001b[38;5;28;01mimport\u001b[39;00m UnitRegistry\n\u001b[1;32m      3\u001b[0m u\u001b[38;5;241m=\u001b[39mUnitRegistry(auto_reduce_dimensions\u001b[38;5;241m=\u001b[39m\u001b[38;5;28;01mTrue\u001b[39;00m)\n",
      "\u001b[0;31mModuleNotFoundError\u001b[0m: No module named 'pint'"
     ]
    }
   ],
   "source": [
    "from math import pi\n",
    "from pint import UnitRegistry\n",
    "u=UnitRegistry(auto_reduce_dimensions=True)\n",
    "#u.default_format = '~'"
   ]
  },
  {
   "cell_type": "code",
   "execution_count": 3,
   "id": "biblical-protest",
   "metadata": {},
   "outputs": [
    {
     "data": {
      "text/latex": [
       "\\[\n",
       "\\begin{aligned}\n",
       "D_{1} &= 0.050\\ \\mathrm{meter} \\; \n",
       " &D_{2} &= 0.100\\ \\mathrm{meter} \\; \n",
       " &D_{3} &= 0.030\\ \\mathrm{meter} \\; \n",
       "\\\\[10pt]\n",
       " \\mathrm{m1dot} &= 55.000\\ \\frac{\\mathrm{kilogram}}{\\mathrm{second}} \\; \n",
       " &\\mathrm{m2dot} &= 40.000\\ \\frac{\\mathrm{kilogram}}{\\mathrm{second}} \\; \n",
       " &\\mathrm{m3dot} &= 15.000\\ \\frac{\\mathrm{kilogram}}{\\mathrm{second}} \\; \n",
       "\\\\[10pt]\n",
       " P_{1} &= 100000.000\\ \\mathrm{pascal} \\; \n",
       " &P_{2} &= 50000.000\\ \\mathrm{pascal} \\; \n",
       " &P_{3} &= 0.000\\ \\mathrm{pascal} \\; \n",
       "\\\\[10pt]\n",
       " \\beta &= 1.030 \\; \n",
       " &\\rho &= 1000.000\\ \\frac{\\mathrm{kilogram}}{\\mathrm{meter}^{3}} \\; \\;\\textrm{(density of water)}\n",
       "\\end{aligned}\n",
       "\\]"
      ],
      "text/plain": [
       "<IPython.core.display.Latex object>"
      ]
     },
     "metadata": {},
     "output_type": "display_data"
    }
   ],
   "source": [
    "%%render params\n",
    "D_1=5e-2*u.m\n",
    "D_2=10e-2*u.m\n",
    "D_3=3e-2*u.m\n",
    "m1dot=55*u.kg/u.s\n",
    "m2dot=40*u.kg/u.s\n",
    "m3dot=15*u.kg/u.s\n",
    "P_1=(200-100)*1e3*u.Pa\n",
    "P_2=(150-100)*1e3*u.Pa\n",
    "P_3=(100-100)*1e3*u.Pa\n",
    "beta=1.03\n",
    "rho=1000*u.kg/u.m**3 #density of water"
   ]
  },
  {
   "cell_type": "code",
   "execution_count": 4,
   "id": "sized-chancellor",
   "metadata": {},
   "outputs": [
    {
     "data": {
      "text/latex": [
       "\\[\n",
       "\\begin{aligned}\n",
       "A_{1} &= 0.002\\ \\mathrm{meter}^{2} \\; \n",
       " &A_{2} &= 0.008\\ \\mathrm{meter}^{2} \\; \n",
       " &A_{3} &= 0.001\\ \\mathrm{meter}^{2} \\; \n",
       "\\\\[10pt]\n",
       " v_{1} &= 28.011\\ \\frac{\\mathrm{meter}}{\\mathrm{second}} \\; \n",
       " &v_{2} &= 5.093\\ \\frac{\\mathrm{meter}}{\\mathrm{second}} \\; \n",
       " &v_{3} &= 21.221\\ \\frac{\\mathrm{meter}}{\\mathrm{second}} \\; \n",
       "\\\\[10pt]\n",
       "\\end{aligned}\n",
       "\\]"
      ],
      "text/plain": [
       "<IPython.core.display.Latex object>"
      ]
     },
     "metadata": {},
     "output_type": "display_data"
    }
   ],
   "source": [
    "%%render params\n",
    "A_1 = pi*D_1**2/4\n",
    "A_2 = pi*D_2**2/4\n",
    "A_3 = pi*D_3**2/4\n",
    "v_1 = m1dot/rho/A_1\n",
    "v_2 = m2dot/rho/A_2\n",
    "v_3 = m3dot/rho/A_3"
   ]
  },
  {
   "cell_type": "markdown",
   "id": "pacific-musical",
   "metadata": {},
   "source": [
    "<img src=\"https://drive.google.com/uc?export=view&id=1xHwKRye5BxmfWlZ3y-RNLrzbe-fyniyK\" width=\"200\"/>\n",
    "We take the entire U section as the control volume, the momentum equation for steady flow is $$\\sum \\vec{F}=\\sum_{out}\\beta\\dot{m}\\vec{V}-\\sum_{in}\\beta\\dot{m}\\vec{V}$$\n",
    "Specifically,\n",
    "in x direction\n",
    "$$\n",
    "\\begin{align}\n",
    "F_{Rx}+P_1A_1+P_2A_2&=\\beta\\dot{m_2}(-v_2)-\\beta\\dot{m_1}(v_1)\\\\\n",
    "F_{Rx}&=-P_1A_1-P_2A_2-\\beta\\dot{m_2}(v_2)-\\beta\\dot{m_1}(v_1)\n",
    "\\end{align}\n",
    "$$\n",
    "\n",
    "in z direction\n",
    "$$\n",
    "\\begin{align}\n",
    "F_{Rz}-P_3A_3&=\\beta\\dot{m_3}(v_3)\\\\\n",
    "F_{Rz}&=P_3A_3+\\beta\\dot{m_3}(v_3)\n",
    "\\end{align}\n",
    "$$\n"
   ]
  },
  {
   "cell_type": "code",
   "execution_count": 5,
   "id": "improving-romance",
   "metadata": {},
   "outputs": [
    {
     "data": {
      "text/latex": [
       "\\[\n",
       "\\begin{aligned}\n",
       "F_{Rx} &= \\left( - P_{1} \\right) \\cdot A_{1} - P_{2} \\cdot A_{2} - \\beta \\cdot \\mathrm{m2dot} \\cdot v_{2} - \\beta \\cdot \\mathrm{m1dot} \\cdot v_{1} \\\\&= \\left( - 100000.000\\ \\mathrm{pascal} \\right) \\cdot 0.002\\ \\mathrm{meter}^{2} - 50000.000\\ \\mathrm{pascal} \\cdot 0.008\\ \\mathrm{meter}^{2} - 1.030 \\cdot 40.000\\ \\frac{\\mathrm{kilogram}}{\\mathrm{second}} \\cdot 5.093\\ \\frac{\\mathrm{meter}}{\\mathrm{second}} - 1.030 \\cdot 55.000\\ \\frac{\\mathrm{kilogram}}{\\mathrm{second}} \\cdot 28.011\\ \\frac{\\mathrm{meter}}{\\mathrm{second}} \\\\&= -2385.717\\ \\mathrm{meter}^{2} \\cdot \\mathrm{pascal} \\; \\;\\textrm{(notice the space between +/- sign)}\\\\[10pt]\n",
       "\\\\[10pt]\n",
       "F_{Rz} &= P_{3} \\cdot A_{3} + \\beta \\cdot \\mathrm{m3dot} \\cdot v_{3} \\\\&= 0.000\\ \\mathrm{pascal} \\cdot 0.001\\ \\mathrm{meter}^{2} + 1.030 \\cdot 15.000\\ \\frac{\\mathrm{kilogram}}{\\mathrm{second}} \\cdot 21.221\\ \\frac{\\mathrm{meter}}{\\mathrm{second}} \\\\&= 327.859\\ \\mathrm{meter}^{2} \\cdot \\mathrm{pascal}  \\\\[10pt]\n",
       "\\end{aligned}\n",
       "\\]"
      ],
      "text/plain": [
       "<IPython.core.display.Latex object>"
      ]
     },
     "metadata": {},
     "output_type": "display_data"
    }
   ],
   "source": [
    "%%render \n",
    "F_Rx = -P_1*A_1 - P_2*A_2 - beta*m2dot*v_2 - beta*m1dot*v_1 #notice the space between +/- sign\n",
    "F_Rz = P_3*A_3 + beta*m3dot*v_3 "
   ]
  },
  {
   "cell_type": "markdown",
   "id": "numerous-process",
   "metadata": {},
   "source": [
    "The negative value for $F_{Rx}$ indicates the assumed direction is wrong, and should be reversed. Therefore, a force of 2385.7 N acts on the flanges in the opposite direction. A vertical force of 328 N acts upwards on the flange. \n",
    "\n",
    "## Discussion \n",
    "To assess the significance of gravity force, we estimate the weight of water and compare it to the vertical force. Assuming the length of the U-turn to be 0.5 m and the average diameter to be 7.5 cm, the mass of the water is\n",
    "$$m=\\rho V = \\rho A L$$"
   ]
  },
  {
   "cell_type": "code",
   "execution_count": 6,
   "id": "infectious-crown",
   "metadata": {},
   "outputs": [
    {
     "data": {
      "text/latex": [
       "\\[\n",
       "\\begin{aligned}\n",
       "D &= 7.5 \\times 10 ^ {-2} \\cdot \\mathrm{u.m}  = 7.5 \\times 10 ^ {-2} \\cdot u.m &= 0.075\\ \\mathrm{meter}  \n",
       "\\\\[10pt]\n",
       "L &= 0.5 \\cdot \\mathrm{u.m}  = 0.5 \\cdot u.m &= 0.500\\ \\mathrm{meter}  \n",
       "\\\\[10pt]\n",
       "g &= 9.81 \\cdot \\frac{ \\mathrm{u.N} }{ \\mathrm{u.kg} }  = 9.81 \\cdot \\frac{ u.N }{ u.kg } &= 9.810\\ \\frac{\\mathrm{newton}}{\\mathrm{kilogram}}  \n",
       "\\\\[10pt]\n",
       "m &= \\rho \\cdot \\pi \\cdot \\frac{ \\left( D \\right) ^{ 2 } }{ 4 } \\cdot L  = 1000.000\\ \\frac{\\mathrm{kilogram}}{\\mathrm{meter}^{3}} \\cdot 3.142 \\cdot \\frac{ \\left( 0.075\\ \\mathrm{meter} \\right) ^{ 2 } }{ 4 } \\cdot 0.500\\ \\mathrm{meter} &= 2.209\\ \\mathrm{kilogram}  \n",
       "\\\\[10pt]\n",
       "\\mathrm{weight} &= m \\cdot g  = 2.209\\ \\mathrm{kilogram} \\cdot 9.810\\ \\frac{\\mathrm{newton}}{\\mathrm{kilogram}} &= 21.670\\ \\mathrm{newton}  \n",
       "\\end{aligned}\n",
       "\\]"
      ],
      "text/plain": [
       "<IPython.core.display.Latex object>"
      ]
     },
     "metadata": {},
     "output_type": "display_data"
    }
   ],
   "source": [
    "%%render\n",
    "D = 7.5e-2*u.m\n",
    "L = 0.5*u.m\n",
    "g = 9.81*u.N/u.kg\n",
    "m = rho*pi*D**2/4*L\n",
    "weight = m*g"
   ]
  },
  {
   "cell_type": "markdown",
   "id": "classified-folks",
   "metadata": {},
   "source": [
    "the weight is much less than the 328 N, but still significant. Therefore, disgarding the gravitational effects is a reasonable assumption if great accuracy is not required. "
   ]
  },
  {
   "cell_type": "code",
   "execution_count": 7,
   "id": "alternate-penny",
   "metadata": {},
   "outputs": [
    {
     "data": {
      "text/html": [
       "327.8591827693044 newton"
      ],
      "text/latex": [
       "$327.8591827693044\\ \\mathrm{newton}$"
      ],
      "text/plain": [
       "327.8591827693044 <Unit('newton')>"
      ]
     },
     "execution_count": 7,
     "metadata": {},
     "output_type": "execute_result"
    }
   ],
   "source": [
    "F_Rz.to('N') # pint version"
   ]
  },
  {
   "cell_type": "code",
   "execution_count": 8,
   "id": "caroline-madonna",
   "metadata": {},
   "outputs": [
    {
     "data": {
      "text/html": [
       "-2385.7169441238743 newton"
      ],
      "text/latex": [
       "$-2385.7169441238743\\ \\mathrm{newton}$"
      ],
      "text/plain": [
       "-2385.7169441238743 <Unit('newton')>"
      ]
     },
     "execution_count": 8,
     "metadata": {},
     "output_type": "execute_result"
    }
   ],
   "source": [
    "F_Rx.to(u.N) # pint version\n",
    "#u.convert_to(F_Rx,u.N) # sympy.physics.units version, it is ugly"
   ]
  },
  {
   "cell_type": "code",
   "execution_count": null,
   "id": "d438dde3",
   "metadata": {},
   "outputs": [],
   "source": []
  }
 ],
 "metadata": {
  "kernelspec": {
   "display_name": "Python 3 (ipykernel)",
   "language": "python",
   "name": "python3"
  },
  "language_info": {
   "codemirror_mode": {
    "name": "ipython",
    "version": 3
   },
   "file_extension": ".py",
   "mimetype": "text/x-python",
   "name": "python",
   "nbconvert_exporter": "python",
   "pygments_lexer": "ipython3",
   "version": "3.10.9"
  }
 },
 "nbformat": 4,
 "nbformat_minor": 5
}
