{
 "cells": [
  {
   "cell_type": "code",
   "execution_count": 3,
   "id": "plastic-daughter",
   "metadata": {
    "collapsed": true
   },
   "outputs": [
    {
     "name": "stdout",
     "output_type": "stream",
     "text": [
      "Defaulting to user installation because normal site-packages is not writeable\n",
      "Requirement already satisfied: handcalcs in ./.local/lib/python3.7/site-packages (1.6.1)\n",
      "Requirement already satisfied: innerscope in ./.local/lib/python3.7/site-packages (from handcalcs) (0.5.1)\n",
      "Requirement already satisfied: more_itertools in /apps/share64/debian7/anaconda/anaconda-6/lib/python3.7/site-packages (from handcalcs) (6.0.0)\n",
      "Requirement already satisfied: nbconvert>=6.0 in ./.local/lib/python3.7/site-packages (from handcalcs) (7.2.3)\n",
      "Requirement already satisfied: pyparsing in /apps/share64/debian7/anaconda/anaconda-6/lib/python3.7/site-packages (from handcalcs) (2.3.1)\n",
      "Requirement already satisfied: toolz in /apps/share64/debian7/anaconda/anaconda-6/lib/python3.7/site-packages (from innerscope->handcalcs) (0.9.0)\n",
      "Requirement already satisfied: defusedxml in /apps/share64/debian7/anaconda/anaconda-6/lib/python3.7/site-packages (from nbconvert>=6.0->handcalcs) (0.5.0)\n",
      "Requirement already satisfied: importlib-metadata>=3.6; python_version < \"3.10\" in /apps/share64/debian7/anaconda/anaconda-6/lib/python3.7/site-packages (from nbconvert>=6.0->handcalcs) (4.11.3)\n",
      "Requirement already satisfied: pygments>=2.4.1 in ./.local/lib/python3.7/site-packages (from nbconvert>=6.0->handcalcs) (2.13.0)\n",
      "Requirement already satisfied: tinycss2 in ./.local/lib/python3.7/site-packages (from nbconvert>=6.0->handcalcs) (1.2.1)\n",
      "Requirement already satisfied: nbclient>=0.5.0 in /apps/share64/debian7/anaconda/anaconda-6/lib/python3.7/site-packages (from nbconvert>=6.0->handcalcs) (0.5.13)\n",
      "Requirement already satisfied: packaging in /apps/share64/debian7/anaconda/anaconda-6/lib/python3.7/site-packages (from nbconvert>=6.0->handcalcs) (19.0)\n",
      "Requirement already satisfied: jupyterlab-pygments in ./.local/lib/python3.7/site-packages (from nbconvert>=6.0->handcalcs) (0.2.2)\n",
      "Requirement already satisfied: jinja2>=3.0 in ./.local/lib/python3.7/site-packages (from nbconvert>=6.0->handcalcs) (3.1.2)\n",
      "Requirement already satisfied: pandocfilters>=1.4.1 in /apps/share64/debian7/anaconda/anaconda-6/lib/python3.7/site-packages (from nbconvert>=6.0->handcalcs) (1.4.2)\n",
      "Requirement already satisfied: traitlets>=5.0 in /apps/share64/debian7/anaconda/anaconda-6/lib/python3.7/site-packages (from nbconvert>=6.0->handcalcs) (5.1.1)\n",
      "Requirement already satisfied: bleach in /apps/share64/debian7/anaconda/anaconda-6/lib/python3.7/site-packages (from nbconvert>=6.0->handcalcs) (3.1.0)\n",
      "Requirement already satisfied: mistune<3,>=2.0.3 in ./.local/lib/python3.7/site-packages (from nbconvert>=6.0->handcalcs) (2.0.4)\n",
      "Requirement already satisfied: beautifulsoup4 in /apps/share64/debian7/anaconda/anaconda-6/lib/python3.7/site-packages (from nbconvert>=6.0->handcalcs) (4.7.1)\n",
      "Requirement already satisfied: nbformat>=5.1 in /apps/share64/debian7/anaconda/anaconda-6/lib/python3.7/site-packages (from nbconvert>=6.0->handcalcs) (5.1.2)\n",
      "Requirement already satisfied: jupyter-core>=4.7 in /apps/share64/debian7/anaconda/anaconda-6/lib/python3.7/site-packages (from nbconvert>=6.0->handcalcs) (4.9.2)\n",
      "Requirement already satisfied: markupsafe>=2.0 in ./.local/lib/python3.7/site-packages (from nbconvert>=6.0->handcalcs) (2.1.1)\n",
      "Requirement already satisfied: zipp>=0.5 in /apps/share64/debian7/anaconda/anaconda-6/lib/python3.7/site-packages (from importlib-metadata>=3.6; python_version < \"3.10\"->nbconvert>=6.0->handcalcs) (3.8.0)\n",
      "Requirement already satisfied: typing-extensions>=3.6.4; python_version < \"3.8\" in /apps/share64/debian7/anaconda/anaconda-6/lib/python3.7/site-packages (from importlib-metadata>=3.6; python_version < \"3.10\"->nbconvert>=6.0->handcalcs) (4.3.0)\n",
      "Requirement already satisfied: webencodings>=0.4 in /apps/share64/debian7/anaconda/anaconda-6/lib/python3.7/site-packages (from tinycss2->nbconvert>=6.0->handcalcs) (0.5.1)\n",
      "Requirement already satisfied: jupyter-client>=6.1.5 in /apps/share64/debian7/anaconda/anaconda-6/lib/python3.7/site-packages (from nbclient>=0.5.0->nbconvert>=6.0->handcalcs) (6.1.5)\n",
      "Requirement already satisfied: nest-asyncio in /apps/share64/debian7/anaconda/anaconda-6/lib/python3.7/site-packages (from nbclient>=0.5.0->nbconvert>=6.0->handcalcs) (1.5.5)\n",
      "Requirement already satisfied: six in /apps/share64/debian7/anaconda/anaconda-6/lib/python3.7/site-packages (from packaging->nbconvert>=6.0->handcalcs) (1.15.0)\n",
      "Requirement already satisfied: soupsieve>=1.2 in /apps/share64/debian7/anaconda/anaconda-6/lib/python3.7/site-packages (from beautifulsoup4->nbconvert>=6.0->handcalcs) (1.8)\n",
      "Requirement already satisfied: jsonschema!=2.5.0,>=2.4 in /apps/share64/debian7/anaconda/anaconda-6/lib/python3.7/site-packages (from nbformat>=5.1->nbconvert>=6.0->handcalcs) (4.4.0)\n",
      "Requirement already satisfied: ipython-genutils in /apps/share64/debian7/anaconda/anaconda-6/lib/python3.7/site-packages (from nbformat>=5.1->nbconvert>=6.0->handcalcs) (0.2.0)\n",
      "Requirement already satisfied: tornado>=4.1 in /apps/share64/debian7/anaconda/anaconda-6/lib/python3.7/site-packages (from jupyter-client>=6.1.5->nbclient>=0.5.0->nbconvert>=6.0->handcalcs) (5.1.1)\n",
      "Requirement already satisfied: python-dateutil>=2.1 in /apps/share64/debian7/anaconda/anaconda-6/lib/python3.7/site-packages (from jupyter-client>=6.1.5->nbclient>=0.5.0->nbconvert>=6.0->handcalcs) (2.8.0)\n",
      "Requirement already satisfied: pyzmq>=13 in /apps/share64/debian7/anaconda/anaconda-6/lib/python3.7/site-packages (from jupyter-client>=6.1.5->nbclient>=0.5.0->nbconvert>=6.0->handcalcs) (22.0.3)\n",
      "Requirement already satisfied: attrs>=17.4.0 in /apps/share64/debian7/anaconda/anaconda-6/lib/python3.7/site-packages (from jsonschema!=2.5.0,>=2.4->nbformat>=5.1->nbconvert>=6.0->handcalcs) (19.1.0)\n",
      "Requirement already satisfied: importlib-resources>=1.4.0; python_version < \"3.9\" in /apps/share64/debian7/anaconda/anaconda-6/lib/python3.7/site-packages (from jsonschema!=2.5.0,>=2.4->nbformat>=5.1->nbconvert>=6.0->handcalcs) (5.2.0)\n",
      "Requirement already satisfied: pyrsistent!=0.17.0,!=0.17.1,!=0.17.2,>=0.14.0 in /apps/share64/debian7/anaconda/anaconda-6/lib/python3.7/site-packages (from jsonschema!=2.5.0,>=2.4->nbformat>=5.1->nbconvert>=6.0->handcalcs) (0.14.11)\n",
      "Note: you may need to restart the kernel to use updated packages.\n"
     ]
    }
   ],
   "source": [
    "pip install handcalcs"
   ]
  },
  {
   "cell_type": "code",
   "execution_count": 3,
   "id": "given-secret",
   "metadata": {},
   "outputs": [],
   "source": [
    "import handcalcs.render"
   ]
  },
  {
   "cell_type": "code",
   "execution_count": 5,
   "id": "hispanic-economy",
   "metadata": {},
   "outputs": [],
   "source": [
    "from math import pi\n",
    "from pint import UnitRegistry\n",
    "u=UnitRegistry(auto_reduce_dimensions=True)\n",
    "#u.default_format = '~'"
   ]
  },
  {
   "cell_type": "code",
   "execution_count": 15,
   "id": "biblical-protest",
   "metadata": {},
   "outputs": [
    {
     "data": {
      "text/latex": [
       "\\[\n",
       "\\begin{aligned}\n",
       "D_{1} &= 0.050\\ \\mathrm{meter} \\; \n",
       " &D_{2} &= 0.100\\ \\mathrm{meter} \\; \n",
       " &D_{3} &= 0.030\\ \\mathrm{meter} \\; \n",
       "\\\\[10pt]\n",
       " \\mathrm{m1dot} &= 55.000\\ \\frac{\\mathrm{kilogram}}{\\mathrm{second}} \\; \n",
       " &\\mathrm{m2dot} &= 40.000\\ \\frac{\\mathrm{kilogram}}{\\mathrm{second}} \\; \n",
       " &\\mathrm{m3dot} &= 15.000\\ \\frac{\\mathrm{kilogram}}{\\mathrm{second}} \\; \n",
       "\\\\[10pt]\n",
       " P_{1} &= 100000.000\\ \\mathrm{pascal} \\; \n",
       " &P_{2} &= 50000.000\\ \\mathrm{pascal} \\; \n",
       " &P_{3} &= 0.000\\ \\mathrm{pascal} \\; \n",
       "\\\\[10pt]\n",
       " \\beta &= 1.030 \\; \n",
       " &\\rho &= 1000.000\\ \\frac{\\mathrm{kilogram}}{\\mathrm{meter}^{3}} \\; \\;\\textrm{(density of water)}\n",
       "\\end{aligned}\n",
       "\\]"
      ],
      "text/plain": [
       "<IPython.core.display.Latex object>"
      ]
     },
     "metadata": {},
     "output_type": "display_data"
    }
   ],
   "source": [
    "%%render params\n",
    "D_1=5e-2*u.m\n",
    "D_2=10e-2*u.m\n",
    "D_3=3e-2*u.m\n",
    "m1dot=55*u.kg/u.s\n",
    "m2dot=40*u.kg/u.s\n",
    "m3dot=15*u.kg/u.s\n",
    "P_1=(200-100)*1e3*u.Pa\n",
    "P_2=(150-100)*1e3*u.Pa\n",
    "P_3=(100-100)*1e3*u.Pa\n",
    "beta=1.03\n",
    "rho=1000*u.kg/u.m**3 #density of water"
   ]
  },
  {
   "cell_type": "code",
   "execution_count": 22,
   "id": "sized-chancellor",
   "metadata": {},
   "outputs": [
    {
     "data": {
      "text/latex": [
       "\\[\n",
       "\\begin{aligned}\n",
       "A_{1} &= 0.002\\ \\mathrm{meter}^{2} \\; \n",
       " &A_{2} &= 0.008\\ \\mathrm{meter}^{2} \\; \n",
       " &A_{3} &= 0.001\\ \\mathrm{meter}^{2} \\; \n",
       "\\\\[10pt]\n",
       " v_{1} &= 28.011\\ \\frac{\\mathrm{meter}}{\\mathrm{second}} \\; \n",
       " &v_{2} &= 5.093\\ \\frac{\\mathrm{meter}}{\\mathrm{second}} \\; \n",
       " &v_{3} &= 21.221\\ \\frac{\\mathrm{meter}}{\\mathrm{second}} \\; \n",
       "\\\\[10pt]\n",
       "\\end{aligned}\n",
       "\\]"
      ],
      "text/plain": [
       "<IPython.core.display.Latex object>"
      ]
     },
     "metadata": {},
     "output_type": "display_data"
    }
   ],
   "source": [
    "%%render params\n",
    "A_1 = pi*D_1**2/4\n",
    "A_2 = pi*D_2**2/4\n",
    "A_3 = pi*D_3**2/4\n",
    "v_1 = m1dot/rho/A_1\n",
    "v_2 = m2dot/rho/A_2\n",
    "v_3 = m3dot/rho/A_3"
   ]
  },
  {
   "attachments": {},
   "cell_type": "markdown",
   "id": "pacific-musical",
   "metadata": {},
   "source": [
    "<img src=\"https://drive.google.com/uc?export=view&id=1xHwKRye5BxmfWlZ3y-RNLrzbe-fyniyK\" width=\"200\"/>\n",
    "We take the entire U section as the control volume, the momentum equation for steady flow is $$\\sum \\vec{F}=\\sum_{out}\\beta\\dot{m}\\vec{V}-\\sum_{in}\\beta\\dot{m}\\vec{V}$$\n",
    "Specifically,\n",
    "in x direction\n",
    "$$\n",
    "\\begin{align}\n",
    "F_{Rx}+P_1A_1+P_2A_2&=\\beta\\dot{m_2}(-v_2)-\\beta\\dot{m_1}(v_1)\\\\\n",
    "F_{Rx}&=-P_1A_1-P_2A_2-\\beta\\dot{m_2}(v_2)-\\beta\\dot{m_1}(v_1)\n",
    "\\end{align}\n",
    "$$\n",
    "\n",
    "in z direction\n",
    "$$\n",
    "\\begin{align}\n",
    "F_{Rz}-P_3A_3&=\\beta\\dot{m_3}(v_3)\\\\\n",
    "F_{Rz}&=P_3A_3+\\beta\\dot{m_3}(v_3)\n",
    "\\end{align}\n",
    "$$\n"
   ]
  },
  {
   "cell_type": "code",
   "execution_count": 26,
   "id": "improving-romance",
   "metadata": {},
   "outputs": [
    {
     "data": {
      "text/latex": [
       "\\[\n",
       "\\begin{aligned}\n",
       "F_{Rx} &= \\left( - P_{1} \\right) \\cdot A_{1} - P_{2} \\cdot A_{2} - \\beta \\cdot \\mathrm{m2dot} \\cdot v_{2} - \\beta \\cdot \\mathrm{m1dot} \\cdot v_{1} \\\\&= \\left( - 100000.000\\ \\mathrm{pascal} \\right) \\cdot 0.002\\ \\mathrm{meter}^{2} - 50000.000\\ \\mathrm{pascal} \\cdot 0.008\\ \\mathrm{meter}^{2} - 1.030 \\cdot 40.000\\ \\frac{\\mathrm{kilogram}}{\\mathrm{second}} \\cdot 5.093\\ \\frac{\\mathrm{meter}}{\\mathrm{second}} - 1.030 \\cdot 55.000\\ \\frac{\\mathrm{kilogram}}{\\mathrm{second}} \\cdot 28.011\\ \\frac{\\mathrm{meter}}{\\mathrm{second}} \\\\&= -2385.717\\ \\mathrm{meter}^{2} \\cdot \\mathrm{pascal} \\; \\;\\textrm{(notice the space between +/- sign)}\\\\[10pt]\n",
       "\\\\[10pt]\n",
       "F_{Rz} &= P_{3} \\cdot A_{3} + \\beta \\cdot \\mathrm{m3dot} \\cdot v_{3} \\\\&= 0.000\\ \\mathrm{pascal} \\cdot 0.001\\ \\mathrm{meter}^{2} + 1.030 \\cdot 15.000\\ \\frac{\\mathrm{kilogram}}{\\mathrm{second}} \\cdot 21.221\\ \\frac{\\mathrm{meter}}{\\mathrm{second}} \\\\&= 327.859\\ \\mathrm{meter}^{2} \\cdot \\mathrm{pascal}  \\\\[10pt]\n",
       "\\end{aligned}\n",
       "\\]"
      ],
      "text/plain": [
       "<IPython.core.display.Latex object>"
      ]
     },
     "metadata": {},
     "output_type": "display_data"
    }
   ],
   "source": [
    "%%render \n",
    "F_Rx = -P_1*A_1 - P_2*A_2 - beta*m2dot*v_2 - beta*m1dot*v_1 #notice the space between +/- sign\n",
    "F_Rz = P_3*A_3 + beta*m3dot*v_3 "
   ]
  },
  {
   "cell_type": "markdown",
   "id": "numerous-process",
   "metadata": {},
   "source": [
    "The negative value for $F_{Rx}$ indicates the assumed direction is wrong, and should be reversed. Therefore, a force of 2385.7 N acts on the flanges in the opposite direction. A vertical force of 328 N acts upwards on the flange. \n",
    "\n",
    "## Discussion \n",
    "To assess the significance of gravity force, we estimate the weight of water and compare it to the vertical force. Assuming the length of the U-turn to be 0.5 m and the average diameter to be 7.5 cm, the mass of the water is\n",
    "$$m=\\rho V = \\rho A L$$"
   ]
  },
  {
   "cell_type": "code",
   "execution_count": 30,
   "id": "infectious-crown",
   "metadata": {},
   "outputs": [
    {
     "data": {
      "text/latex": [
       "\\[\n",
       "\\begin{aligned}\n",
       "D &= 7.5 \\times 10 ^ {-2} \\cdot \\mathrm{u.m}  = 7.5 \\times 10 ^ {-2} \\cdot u.m &= 0.075\\ \\mathrm{meter}  \n",
       "\\\\[10pt]\n",
       "L &= 0.5 \\cdot \\mathrm{u.m}  = 0.5 \\cdot u.m &= 0.500\\ \\mathrm{meter}  \n",
       "\\\\[10pt]\n",
       "g &= 9.81 \\cdot \\frac{ \\mathrm{u.N} }{ \\mathrm{u.kg} }  = 9.81 \\cdot \\frac{ u.N }{ u.kg } &= 9.810\\ \\frac{\\mathrm{newton}}{\\mathrm{kilogram}}  \n",
       "\\\\[10pt]\n",
       "m &= \\rho \\cdot \\pi \\cdot \\frac{ \\left( D \\right) ^{ 2 } }{ 4 } \\cdot L  = 1000.000\\ \\frac{\\mathrm{kilogram}}{\\mathrm{meter}^{3}} \\cdot 3.142 \\cdot \\frac{ \\left( 0.075\\ \\mathrm{meter} \\right) ^{ 2 } }{ 4 } \\cdot 0.500\\ \\mathrm{meter} &= 2.209\\ \\mathrm{kilogram}  \n",
       "\\\\[10pt]\n",
       "\\mathrm{weight} &= m \\cdot g  = 2.209\\ \\mathrm{kilogram} \\cdot 9.810\\ \\frac{\\mathrm{newton}}{\\mathrm{kilogram}} &= 21.670\\ \\mathrm{newton}  \n",
       "\\end{aligned}\n",
       "\\]"
      ],
      "text/plain": [
       "<IPython.core.display.Latex object>"
      ]
     },
     "metadata": {},
     "output_type": "display_data"
    }
   ],
   "source": [
    "%%render\n",
    "D = 7.5e-2*u.m\n",
    "L = 0.5*u.m\n",
    "g = 9.81*u.N/u.kg\n",
    "m = rho*pi*D**2/4*L\n",
    "weight = m*g"
   ]
  },
  {
   "cell_type": "markdown",
   "id": "classified-folks",
   "metadata": {},
   "source": [
    "the weight is much less than the 328 N, but still significant. Therefore, disgarding the gravitational effects is a reasonable assumption if great accuracy is not required. "
   ]
  },
  {
   "cell_type": "code",
   "execution_count": 10,
   "id": "alternate-penny",
   "metadata": {},
   "outputs": [
    {
     "data": {
      "text/html": [
       "327.8591827693044 newton"
      ],
      "text/latex": [
       "$327.8591827693044\\ \\mathrm{newton}$"
      ],
      "text/plain": [
       "327.8591827693044 <Unit('newton')>"
      ]
     },
     "execution_count": 10,
     "metadata": {},
     "output_type": "execute_result"
    }
   ],
   "source": [
    "F_Rz.to('N') # pint version"
   ]
  },
  {
   "cell_type": "code",
   "execution_count": 11,
   "id": "caroline-madonna",
   "metadata": {},
   "outputs": [
    {
     "data": {
      "text/html": [
       "-2385.7169441238743 newton"
      ],
      "text/latex": [
       "$-2385.7169441238743\\ \\mathrm{newton}$"
      ],
      "text/plain": [
       "-2385.7169441238743 <Unit('newton')>"
      ]
     },
     "execution_count": 11,
     "metadata": {},
     "output_type": "execute_result"
    }
   ],
   "source": [
    "F_Rx.to('N') # pint version\n",
    "#u.convert_to(F_Rx,u.N) # sympy.physics.units version, it is ugly"
   ]
  }
 ],
 "metadata": {
  "kernelspec": {
   "display_name": "Python 3.7",
   "language": "python",
   "name": "python3"
  },
  "language_info": {
   "codemirror_mode": {
    "name": "ipython",
    "version": 3
   },
   "file_extension": ".py",
   "mimetype": "text/x-python",
   "name": "python",
   "nbconvert_exporter": "python",
   "pygments_lexer": "ipython3",
   "version": "3.7.7"
  }
 },
 "nbformat": 4,
 "nbformat_minor": 5
}
