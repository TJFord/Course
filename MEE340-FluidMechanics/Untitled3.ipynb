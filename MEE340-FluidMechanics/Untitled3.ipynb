{
 "cells": [
  {
   "cell_type": "code",
   "execution_count": 1,
   "id": "f6fcc289",
   "metadata": {},
   "outputs": [],
   "source": [
    "import handcalcs.render\n",
    "\n",
    "from math import pi\n",
    "from pint import UnitRegistry\n",
    "u=UnitRegistry(auto_reduce_dimensions=True)"
   ]
  },
  {
   "cell_type": "code",
   "execution_count": null,
   "id": "fa6ac5cb",
   "metadata": {},
   "outputs": [],
   "source": []
  }
 ],
 "metadata": {
  "kernelspec": {
   "display_name": "Python 3 (ipykernel)",
   "language": "python",
   "name": "python3"
  },
  "language_info": {
   "codemirror_mode": {
    "name": "ipython",
    "version": 3
   },
   "file_extension": ".py",
   "mimetype": "text/x-python",
   "name": "python",
   "nbconvert_exporter": "python",
   "pygments_lexer": "ipython3",
   "version": "3.10.9"
  }
 },
 "nbformat": 4,
 "nbformat_minor": 5
}
