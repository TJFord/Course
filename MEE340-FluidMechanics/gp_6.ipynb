{
 "cells": [
  {
   "cell_type": "markdown",
   "id": "31eb26bd",
   "metadata": {},
   "source": [
    "# Pump Design Report\n",
    "## Angelica Ross, Etiemanna Ikpidungise\n",
    "### December 3, 2023"
   ]
  },
  {
   "cell_type": "markdown",
   "id": "e1275a19",
   "metadata": {},
   "source": [
    "## Abstract\n",
    "\n",
    "The objective of this project is to design a pump-piping system to keep a 1-million-gallon capacity water tank filled. A modified version of the model pump is given. From there, the ideal pump impeller size, pipe size diameter, and speed are found. From this, an economical design is created to meet the requirements, four butterfly valves, ten elbows, and galvanized iron pipe. "
   ]
  },
  {
   "cell_type": "markdown",
   "id": "c74c6e42",
   "metadata": {},
   "source": [
    "## 1 Introduction\n",
    "\n",
    "The daily water use is 1.5 million gal/day. The filling time is maximum 8 hours per day. This means the flow rate must be at 3125 gal/min. Four butterfly valves should be included. In addition, ten elbows are a part of it. We chose to have ten 90 degree flanged elbows as a part of it. \n",
    "\n",
    "For the pipe size diameter, we chose to have it be constant, which means the velocity is the same throughout the pipe. \n",
    "\n"
   ]
  },
  {
   "cell_type": "markdown",
   "id": "fdf686d8",
   "metadata": {},
   "source": [
    "## 2 Methods"
   ]
  },
  {
   "cell_type": "markdown",
   "id": "c4628675",
   "metadata": {},
   "source": [
    "### 2.1 Pump Size Design\n",
    "\n",
    "For the pump size, I had it be constant throughout the whole system. In addition, we had it be the same size as the impeller. In the pump, we have 10 elbows of 90 degrees flanged. We have four butterfly valves open 100%.\n",
    "To calculate the head loss for the elbow, a coeffcient of 0.3 was used. \n",
    "\n",
    "The energy balance equation was used to find head pressure: \n",
    "\n",
    "$$ h_p = \\frac{P_2 - P_1}{\\rho g} + \\frac{V_2^2 - V_1^2}{2g} + (z_2-z_1) - h_L $$ \n",
    "\n",
    "Because the velocity is constant. That gets cancelled out. The change is elevation is 150 ft or 45.72 meters. The equation turns into: \n",
    "\n",
    "$$ h_p = \\frac{P_2 - P_1}{\\rho g} + 45.72 - h_L $$  \n",
    "\n",
    "To calculate the head loss for the elbow, a coeffcient of 0.3 was used. \n",
    "\n",
    "$$ H_L = \\frac{0.3*V^2}{2*9.81} $$\n",
    "\n",
    "To calculate the head loss for the valves, a coefficient of 0.5 was used. \n",
    "\n",
    "$$ H_L = \\frac{0.5*V^2}{2*9.81} $$ \n",
    "\n",
    "$$ h_p = \\frac{P_2 - P_1}{\\rho g} + 45.72 - \\frac{0.3*V^2}{2*9.81} - \\frac{0.5*V^2}{2*9.81} $$"
   ]
  },
  {
   "cell_type": "markdown",
   "id": "c9703f81",
   "metadata": {},
   "source": [
    "### 2.2 Pump Impeller Size Design\n",
    "\n",
    "For the impeller size, we have as the same size as the pump size. To find the new impeller size, I calculated based of the new flow rate. \n",
    "\n",
    "$$ D_{new} = D_{old}(\\frac{Q_{new}}{Q_{old}}) $$\n",
    "\n",
    "Here we chose 45 gal/min for the old flow rate as it had the highest efficiency in the model. From there, we calculated the total head loss using the above equation. "
   ]
  },
  {
   "cell_type": "markdown",
   "id": "cdff0512",
   "metadata": {},
   "source": [
    "### 2.3 Pump Speed Design\n",
    "\n",
    "To find the pump speed, the equation:\n",
    "\n",
    "$$ RPM_{new} = RPM_{old}(\\frac{Q_{new}}{Q_{old}}) $$\n",
    "\n",
    "\n",
    "\n",
    "\n"
   ]
  },
  {
   "cell_type": "markdown",
   "id": "ebb97047",
   "metadata": {},
   "source": [
    "## Results"
   ]
  },
  {
   "cell_type": "markdown",
   "id": "5095e412",
   "metadata": {},
   "source": [
    "### 3.1 Pipe Size Results\n",
    "\n",
    "$$ D_{new} = 0.13843(\\frac{3125}{45}) = 9.613 meters $$\n",
    "\n",
    "$$ h_p = 28117.0799 meters $$"
   ]
  },
  {
   "cell_type": "markdown",
   "id": "7eb633b0",
   "metadata": {},
   "source": [
    "### 3.2 Pump Impeller Results\n",
    "\n",
    "$$ D_{new} = 0.13843(\\frac{3125}{45}) = 9.613 meters $$"
   ]
  },
  {
   "cell_type": "markdown",
   "id": "4e8961de",
   "metadata": {},
   "source": [
    "### 3.3 Pipe Speed Results\n",
    "\n",
    "Using the above equation: \n",
    "\n",
    "$$ RPM_{new} = 1760(\\frac{3125}{45}) = 122,222.22 RPM $$\n",
    "\n",
    "This exceeds the limit for the RPM, so we chose the maximum pump speed, 1800 RPM. "
   ]
  },
  {
   "cell_type": "markdown",
   "id": "fb15d2e2",
   "metadata": {},
   "source": [
    "## 4 Discussion\n",
    "\n",
    "Further calculations are shown in the excel. "
   ]
  },
  {
   "cell_type": "markdown",
   "id": "0186f64a",
   "metadata": {},
   "source": [
    "### 4.1 Limitations\n",
    "\n",
    "Additional factors need to be included such as friction, change in temperature, etc. "
   ]
  },
  {
   "cell_type": "markdown",
   "id": "4d16eb3e",
   "metadata": {},
   "source": [
    "### 4.2 Future Work\n",
    "\n",
    "More work has to be considered if the diameter changes throughout the pipe. As well as the velocity. "
   ]
  },
  {
   "cell_type": "markdown",
   "id": "4aa826ab",
   "metadata": {},
   "source": [
    "## References"
   ]
  },
  {
   "cell_type": "code",
   "execution_count": null,
   "id": "80714382",
   "metadata": {},
   "outputs": [],
   "source": []
  }
 ],
 "metadata": {
  "kernelspec": {
   "display_name": "Python 3 (ipykernel)",
   "language": "python",
   "name": "python3"
  },
  "language_info": {
   "codemirror_mode": {
    "name": "ipython",
    "version": 3
   },
   "file_extension": ".py",
   "mimetype": "text/x-python",
   "name": "python",
   "nbconvert_exporter": "python",
   "pygments_lexer": "ipython3",
   "version": "3.10.9"
  }
 },
 "nbformat": 4,
 "nbformat_minor": 5
}
