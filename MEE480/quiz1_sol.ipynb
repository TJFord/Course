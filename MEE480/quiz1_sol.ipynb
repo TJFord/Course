{
 "cells": [
  {
   "attachments": {
    "image-2.png": {
     "image/png": "[encoded data removed]"
    },
    "image.png": {
     "image/png": "[encoded data removed]"
    }
   },
   "cell_type": "markdown",
   "id": "bed050d2",
   "metadata": {},
   "source": [
    "# Problem\n",
    "The bar with different cross sections is loaded with force F at node 3. Node 1 is fixed. The material properties are listed on the side of each element. Please use finite element method to find the displacement for node 2, 3, and stress in each element. Your solution should have detailed steps on the connectivity matrix, stiffness assembly, applying boundary conditions, and solution of displacement and stress.\n",
    "<div>\n",
    "<img src=\"attachment:image.png\" width=\"200\"/>\n",
    "</div>\n",
    "\n",
    "# Solution\n",
    "\n",
    "## Connectivity\n",
    "\n",
    "$$Elem = \\begin{bmatrix}\n",
    "1&2\\\\\n",
    "2&3\n",
    "\\end{bmatrix}$$\n",
    "\n",
    "## Stiffness and force vector\n",
    "\n",
    "The stiffness matrix and force vector for element 1: $$k^{(1)}=\\dfrac{2EA}{L}\\begin{bmatrix}\n",
    "1&-1\\\\\n",
    "-1& 1\n",
    "\\end{bmatrix}\\begin{matrix}\n",
    "u_1\\\\\n",
    "u_2\n",
    "\\end{matrix}, \\hspace{1cm} f^{(1)}=\\begin{bmatrix}\n",
    "R\\\\\n",
    "f_2^{(1)}\n",
    "\\end{bmatrix}$$\n",
    "The stiffness matrix and force vector for element 2: $$k^{(2)}=\\dfrac{EA}{L}\\begin{bmatrix}\n",
    "1&-1\\\\\n",
    "-1& 1\n",
    "\\end{bmatrix}\\begin{matrix}\n",
    "u_2\\\\\n",
    "u_3\n",
    "\\end{matrix},\\hspace{1cm} f^{(2)}=\\begin{bmatrix}\n",
    "f_2^{(2)}\\\\\n",
    "F\n",
    "\\end{bmatrix}$$\n",
    "\n",
    "## Assembly\n",
    "\n",
    "The global stiffness $K$ and force vector $f$ can be obtained through assembly:\n",
    "$$K=\\dfrac{EA}{L}\\begin{bmatrix}\n",
    "2&-2 & 0\\\\\n",
    "-2& 2+1 &-1\\\\\n",
    "0 & -1 & 1\n",
    "\\end{bmatrix}\\begin{matrix}\n",
    "u_1\\\\\n",
    "u_2\\\\\n",
    "u_3\n",
    "\\end{matrix},\\hspace{1cm} f=\\begin{bmatrix}\n",
    "R\\\\\n",
    "f_2^{(1)}+f_2^{(2)}=0\\\\\n",
    "F\n",
    "\\end{bmatrix}$$\n",
    "\n",
    "## Boundary conditions and solution\n",
    "\n",
    "Solving the matrix $$Ku=f$$ by subsituting boundary condition $u_1=0$, so we have\n",
    "$$\\dfrac{EA}{L}\\begin{bmatrix}\n",
    "3 &-1\\\\\n",
    "-1 & 1\n",
    "\\end{bmatrix}\\begin{bmatrix}\n",
    "u_2\\\\\n",
    "u_3\n",
    "\\end{bmatrix}=\\begin{bmatrix}\n",
    "0\\\\\n",
    "F\n",
    "\\end{bmatrix}\\longrightarrow\\begin{bmatrix}\n",
    "u_2\\\\\n",
    "u_3\n",
    "\\end{bmatrix}=\\begin{bmatrix}\n",
    "\\dfrac{FL}{2EA}\\\\\n",
    "\\dfrac{3FL}{2EA}\n",
    "\\end{bmatrix}$$\n",
    "\n",
    "## Stress\n",
    "\n",
    "Stress $\\sigma = E\\epsilon = E\\dfrac{u_j-u_i}{L}$\n",
    "\n",
    "For element 1: $$\\sigma^{(1)} = E\\epsilon^{(1)} = E\\dfrac{u_2-u_1}{L}=\\dfrac{F}{2A}$$\n",
    "For element 2: $$\\sigma^{(2)} = E\\epsilon^{(2)} = E\\dfrac{u_3-u_2}{L}=\\dfrac{F}{A}$$\n",
    "\n",
    "So the stresses are $\\sigma_1 =\\dfrac{F}{2A}, \\sigma_2 = \\dfrac{F}{A} $\n",
    "\n",
    "## discussion\n",
    "\n",
    "It makes sense as the internal force should be the same for both bars (a free body diagram can get there). The cross section is doubled in element 1, the stress should be half. \n",
    "![image-2.png](attachment:image-2.png)"
   ]
  },
  {
   "cell_type": "markdown",
   "id": "18ef6432",
   "metadata": {},
   "source": [
    "# Code solution (how to)\n",
    "of course you cannot do it during the quiz. This is provided to show how you can solve the problem using `sympy`"
   ]
  },
  {
   "cell_type": "code",
   "execution_count": 191,
   "id": "3afb0736",
   "metadata": {},
   "outputs": [],
   "source": [
    "# using code to solve the problem\n",
    "import sympy as sp # use symbolic python taking derivative\n",
    "#import handcalcs.render # render\n",
    "#import numpy as np # numerical python library\n",
    "#import matplotlib.pyplot as plt"
   ]
  },
  {
   "cell_type": "code",
   "execution_count": 192,
   "id": "3bbb31f3",
   "metadata": {},
   "outputs": [
    {
     "data": {
      "image/png": "[encoded data removed]",
      "text/latex": [
       "$\\displaystyle \\left[ \\left\\{ u_{2} : \\frac{F L}{2 A E}, \\  u_{3} : \\frac{3 F L}{2 A E}\\right\\}\\right]$"
      ],
      "text/plain": [
       "⎡⎧     F⋅L       3⋅F⋅L⎫⎤\n",
       "⎢⎨u₂: ─────, u₃: ─────⎬⎥\n",
       "⎣⎩    2⋅A⋅E      2⋅A⋅E⎭⎦"
      ]
     },
     "execution_count": 192,
     "metadata": {},
     "output_type": "execute_result"
    }
   ],
   "source": [
    "F,E,A,L,u_1,u_2,u_3 = sp.symbols('F E A L u_1 u_2 u_3') # define it as symbols\n",
    "u_1 = 0\n",
    "sp.init_printing(use_unicode=True)\n",
    "#system = sp.Matrix(( (3*E*A/L, -E*A/L, 0), (-E*A/L, E*A/L, F)))\n",
    "#sol=sp.solve_linear_system(system, u_2, u_3,dict=True)\n",
    "\n",
    "sol=sp.solve([3*E*A/L*u_2 -E*A/L*u_3,\n",
    "              -E*A/L*u_2+E*A/L*u_3-F], [u_2, u_3], dict=True)\n",
    "sol"
   ]
  },
  {
   "cell_type": "code",
   "execution_count": 193,
   "id": "37e99de3",
   "metadata": {},
   "outputs": [
    {
     "data": {
      "image/png": "[encoded data removed]",
      "text/latex": [
       "$\\displaystyle \\frac{F}{2 A}$"
      ],
      "text/plain": [
       " F \n",
       "───\n",
       "2⋅A"
      ]
     },
     "execution_count": 193,
     "metadata": {},
     "output_type": "execute_result"
    }
   ],
   "source": [
    "sigma_1 = E*(sol[0][u_2]-u_1)/L\n",
    "sigma_1"
   ]
  },
  {
   "cell_type": "code",
   "execution_count": 194,
   "id": "24b4a0ad",
   "metadata": {},
   "outputs": [
    {
     "data": {
      "image/png": "[encoded data removed]",
      "text/latex": [
       "$\\displaystyle \\frac{F}{A}$"
      ],
      "text/plain": [
       "F\n",
       "─\n",
       "A"
      ]
     },
     "execution_count": 194,
     "metadata": {},
     "output_type": "execute_result"
    }
   ],
   "source": [
    "sigma_2 = E*(sol[0][u_3]-sol[0][u_2])/L\n",
    "sigma_2"
   ]
  },
  {
   "cell_type": "code",
   "execution_count": null,
   "id": "f429d62b",
   "metadata": {},
   "outputs": [],
   "source": []
  }
 ],
 "metadata": {
  "kernelspec": {
   "display_name": "Python 3 (ipykernel)",
   "language": "python",
   "name": "python3"
  },
  "language_info": {
   "codemirror_mode": {
    "name": "ipython",
    "version": 3
   },
   "file_extension": ".py",
   "mimetype": "text/x-python",
   "name": "python",
   "nbconvert_exporter": "python",
   "pygments_lexer": "ipython3",
   "version": "3.10.9"
  }
 },
 "nbformat": 4,
 "nbformat_minor": 5
}
