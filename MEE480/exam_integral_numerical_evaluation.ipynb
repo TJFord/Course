{
 "cells": [
  {
   "cell_type": "markdown",
   "id": "6f10249a",
   "metadata": {},
   "source": [
    "# This is example of showing how to obtain the stiffness and equivalent force vector\n",
    "1. all start with weak form, you can find the stiffness matrix as \n",
    "$$K_{ij}=\\int EAN_i'N_j'dx$$\n",
    "$$F_i = \\int fN_idx$$\n",
    "2. Both K and F are given in the exam solution, this is to show why it is."
   ]
  },
  {
   "cell_type": "code",
   "execution_count": 48,
   "id": "18bdeba6",
   "metadata": {},
   "outputs": [],
   "source": [
    "import sympy as sp\n",
    "x, L, E,x1e,x2e = sp.symbols('x,L, E,x1e,x2e')"
   ]
  },
  {
   "cell_type": "code",
   "execution_count": 53,
   "id": "8a88f45b",
   "metadata": {},
   "outputs": [],
   "source": [
    "# shape function \n",
    "#   1-----N1\n",
    "#   |\\   /\n",
    "#   |  /\n",
    "#   |/ \\\n",
    "#   2 ---N2\n",
    "#   | \\ /\n",
    "#   | /\\\n",
    "#   |   \\\n",
    "#   3----N3\n",
    "\n",
    "N1 = 1-x # shape function N1\n",
    "N2_1 = x # shape function N2, top\n",
    "N2_2 = 2-x # shape function N2, bottom\n",
    "N3 = x - 1\n",
    "A = 1/4*(1+x)\n",
    "f = 6.25*(1+x)\n",
    "\n",
    "#N2e = (x-x1e)/(x2e-x1e)\n",
    "#N1e = 1 - N2e\n",
    "\n",
    "k11 = sp.integrate(E*A*sp.diff(N1,x)*sp.diff(N1,x),(x,0,1))\n",
    "k12 = sp.integrate(E*A*sp.diff(N1,x)*sp.diff(N2_1,x),(x,0,1))\n",
    "k13 = 0\n",
    "k22 = sp.integrate(E*A*sp.diff(N2_1,x)*sp.diff(N2_1,x),(x,0,1))+sp.integrate(E*A*sp.diff(N2_2,x)*sp.diff(N2_2,x),(x,1,2))\n",
    "k21 = k12\n",
    "k23 = sp.integrate(E*A*sp.diff(N2_2,x)*sp.diff(N3,x),(x,1,2))\n",
    "k31 = k13\n",
    "k32 = k23\n",
    "k33 = sp.integrate(E*A*sp.diff(N3,x)*sp.diff(N3,x),(x,1,2))\n",
    "\n",
    "f1 = sp.integrate(f*N1,(x,0,1))\n",
    "f2 = sp.integrate(f*N2_1,(x,0,1))+sp.integrate(f*N2_2,(x,1,2))\n",
    "f3 = sp.integrate(f*N3,(x,1,2))\n",
    "F = sp.Matrix([f1,f2,f3]).T # force vecotr\n",
    "#f1e = sp.integrate(f*N1e,(x,x1e,x2e))\n",
    "#f2e = sp.integrate(f*N2e,(x,x1e,x2e))"
   ]
  },
  {
   "cell_type": "code",
   "execution_count": 51,
   "id": "11b5d562",
   "metadata": {},
   "outputs": [],
   "source": [
    "K = sp.Array([[k11,k12,k13],[k21, k22, k23],[k31,k32,k33]]) # matrix"
   ]
  },
  {
   "cell_type": "code",
   "execution_count": 24,
   "id": "c927f128",
   "metadata": {},
   "outputs": [
    {
     "data": {
      "text/latex": [
       "$\\displaystyle \\left[\\begin{matrix}0.375 E & - 0.375 E & 0\\\\- 0.375 E & 1.0 E & - 0.625 E\\\\0 & - 0.625 E & 0.625 E\\end{matrix}\\right]$"
      ],
      "text/plain": [
       "[[0.375*E, -0.375*E, 0], [-0.375*E, 1.0*E, -0.625*E], [0, -0.625*E, 0.625*E]]"
      ]
     },
     "execution_count": 24,
     "metadata": {},
     "output_type": "execute_result"
    }
   ],
   "source": [
    "K"
   ]
  },
  {
   "cell_type": "code",
   "execution_count": 52,
   "id": "2e169ab0",
   "metadata": {},
   "outputs": [
    {
     "data": {
      "text/latex": [
       "$\\displaystyle \\left[\\begin{matrix}4.16666666666667 & 12.5 & 8.33333333333333\\end{matrix}\\right]$"
      ],
      "text/plain": [
       "Matrix([[4.16666666666667, 12.5, 8.33333333333333]])"
      ]
     },
     "execution_count": 52,
     "metadata": {},
     "output_type": "execute_result"
    }
   ],
   "source": [
    "F"
   ]
  }
 ],
 "metadata": {
  "kernelspec": {
   "display_name": "Python 3 (ipykernel)",
   "language": "python",
   "name": "python3"
  },
  "language_info": {
   "codemirror_mode": {
    "name": "ipython",
    "version": 3
   },
   "file_extension": ".py",
   "mimetype": "text/x-python",
   "name": "python",
   "nbconvert_exporter": "python",
   "pygments_lexer": "ipython3",
   "version": "3.10.9"
  }
 },
 "nbformat": 4,
 "nbformat_minor": 5
}
