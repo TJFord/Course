{
 "cells": [
  {
   "cell_type": "markdown",
   "id": "6036f1cc-c002-4c94-b6d1-d16e12ee9642",
   "metadata": {},
   "source": [
    "# Gauss elimination\n",
    "\n",
    "Solving\n",
    "\\begin{align}\n",
    "2x_1+5x_2+3x_3=2 \\\\\n",
    "3x_1+2x_2-3x_3=1\\\\\n",
    "x_1+2x_2+x_3=7\n",
    "\\end{align}\n",
    "\n",
    "## Strategy\n",
    "\n",
    "We use row reduction to solve the linear system. It comprises two steps: **Forward Elimination** and **Backward Substitution**. **Forward Elimination** is to eliminate the lower triangular elements so that they become zeros. e.g., something like this\n",
    "\n",
    "$Aug = \\begin{bmatrix}\n",
    "a_{11} & a_{12} & a_{13} & b_1\\\\\n",
    "0 & a_{22} & a_{23} & b_2\\\\\n",
    "0 & 0 & a_{33} & b_3\n",
    "\\end{bmatrix}$\n",
    "\n",
    "The detailed steps can be found in the following example."
   ]
  },
  {
   "cell_type": "markdown",
   "id": "f61baf03-01f0-4a9d-914a-71ccaac09a35",
   "metadata": {},
   "source": [
    "## Forward elimination\n",
    "1. write it as a matrix form $$\\mathbf{Ax=b}$$\n",
    "   where $\\mathbf{A}= \\begin{bmatrix}\n",
    "   2 & 5 & 3 \\\\\n",
    "   3 & 2 & -3\\\\\n",
    "   1 & 2 & 1\n",
    "   \\end{bmatrix}, \\mathbf{x}=\\begin{bmatrix}\n",
    "   x_1\\\\\n",
    "   x_2\\\\\n",
    "   x_3\n",
    "   \\end{bmatrix}, \\mathbf{b}=\\begin{bmatrix}\n",
    "   2 \\\\\n",
    "   1\\\\\n",
    "   7\n",
    "   \\end{bmatrix}$\n",
    "\n",
    "2. create an augmented matrix by concatenating $\\mathbf{A}$ and $\\mathbf{b}$\n",
    "   \n",
    "   $\\mathbf{Aug}=\\begin{bmatrix}\n",
    "   2 & 5 & 3 &  2\\\\\n",
    "   3 & 2 & -3 & 1\\\\\n",
    "   1 & 2 & 1 & 7\n",
    "   \\end{bmatrix}$\n",
    "\n",
    "3. eliminate 2nd row with the 1st row as the pivot row, performing $R2 - \\dfrac{3}{2}R1$, which means subtracting 3/2 times the 1st row $(\\dfrac{3}{2}R1)$ from the 2nd row $R2$.\n",
    "   \n",
    "$\\mathbf{Aug}=\\begin{bmatrix}\n",
    "   2 & 5 & 3 &  2\\\\\n",
    "   0 & -11/2 & -15/2 & -2\\\\\n",
    "   1 & 2 & 1 & 7\n",
    "   \\end{bmatrix}$\n",
    "\n",
    "4. eliminate 3rd row with the 1st row by $R3-\\dfrac{1}{2}R1$\n",
    "   \n",
    "$\\mathbf{Aug}=\\begin{bmatrix}\n",
    "   2 & 5 & 3 &  2\\\\\n",
    "   0 & -11/2 & -15/2 & -2\\\\\n",
    "   0 & -1/2 & -1/2 & 6\n",
    "   \\end{bmatrix}$\n",
    "\n",
    "5. use the modified 2nd row as the pivot, and eliminate the 3rd row $R3'-\\dfrac{1}{11}R2'$\n",
    "\n",
    "  $\\mathbf{Aug}=\\begin{bmatrix}\n",
    "   2 & 5 & 3 &  2\\\\\n",
    "   0 & -11/2 & -15/2 & -2\\\\\n",
    "   0 & 0 & 2/11 & 68/11\n",
    "   \\end{bmatrix}$ \n",
    "\n",
    "## Automate the elimination process in a loop\n",
    "\n",
    "```\n",
    "   "
   ]
  },
  {
   "cell_type": "code",
   "execution_count": 12,
   "id": "db40b0f4-59f9-4afe-8819-4ca05829c7f8",
   "metadata": {},
   "outputs": [],
   "source": [
    "for k = 1:1:2 % pivot row ranges, \n",
    "    for i = k+1:1:3 % rows to be eliminated\n",
    "        scale = Aug(i,k)/Aug(k,k);\n",
    "        Aug(i,:)=Aug(i,:)-Aug(k,:)*scale;\n",
    "    end\n",
    "end"
   ]
  },
  {
   "cell_type": "markdown",
   "id": "a0b5afcf-7e97-4c6a-b09e-0132b88f6c5f",
   "metadata": {},
   "source": [
    "## Backward substitution\n",
    "This is the step of solving all the unknowns in reverse order, which is why that is called backward substitution\n",
    "\n",
    "1. solving $x_3$ using the last equation\n",
    "   $$x_3=\\dfrac{68/11}{2/11}=34$$\n",
    "translate it into code\n",
    "   \n",
    "   `x(3)=Aug(3,4)/Aug(3,3)`\n",
    "3. solving $x_2$ using the 2nd equation\n",
    " $$ x_2 = \\dfrac{-2 -(-\\dfrac{15}{2}x_3)}{-11/2} = -46$$\n",
    "\n",
    "translate it into code\n",
    "\n",
    "`x(2)=(Aug(2,4)-Aug(2,3)*x(3))/Aug(2,2)`\n",
    "\n",
    "3. solving $x_1$ using the first equation\n",
    "\n",
    "   $$x_1 = \\dfrac{2-3x_3-5x_2} {2}=65$$\n",
    "\n",
    "translate it into code\n",
    "\n",
    "`x(1)=(Aug(1,4)-Aug(1,3)*x(3)-Aug(1,2)*x(2))/Aug(1,1)`\n",
    "\n",
    "## Automate the code in a loop\n"
   ]
  },
  {
   "cell_type": "code",
   "execution_count": 1,
   "id": "52bb0814-9041-45fa-9afe-4c3be33f075d",
   "metadata": {},
   "outputs": [
    {
     "name": "stdout",
     "output_type": "stream",
     "text": [
      "warning: using the gnuplot graphics toolkit is discouraged\n",
      "\n",
      "The gnuplot graphics toolkit is not actively maintained and has a number\n",
      "of limitations that are ulikely to be fixed.  Communication with gnuplot\n",
      "uses a one-directional pipe and limited information is passed back to the\n",
      "Octave interpreter so most changes made interactively in the plot window\n",
      "will not be reflected in the graphics properties managed by Octave.  For\n",
      "example, if the plot window is closed with a mouse click, Octave will not\n",
      "be notified and will not update it's internal list of open figure windows.\n",
      "We recommend using the qt toolkit instead.\n",
      "\n",
      "error: 'Aug' undefined near line 5, column 5\n"
     ]
    }
   ],
   "source": [
    "for i=3:-1:1\n",
    "    for j=i+1:3\n",
    "        Aug(i,4) = Aug(i,4) - Aug(i,j)*x(j)\n",
    "    end\n",
    "    x(i)=Aug(i,4)/Aug(i,i)\n",
    "end"
   ]
  },
  {
   "cell_type": "markdown",
   "id": "9b012071-75f0-47fd-94d3-58122d1caa96",
   "metadata": {},
   "source": [
    "# Put all the code together"
   ]
  },
  {
   "cell_type": "code",
   "execution_count": 15,
   "id": "fe0dc7d9-2200-4b87-be98-2eab88ee4d8c",
   "metadata": {},
   "outputs": [
    {
     "name": "stdout",
     "output_type": "stream",
     "text": [
      "A =\n",
      "\n",
      "   2   5   3\n",
      "   3   2  -3\n",
      "   1   2   1\n",
      "\n",
      "Aug =\n",
      "\n",
      "   2   5   3   2\n",
      "   3   2  -3   1\n",
      "   1   2   1   7\n",
      "\n",
      "x =\n",
      "\n",
      "  0  0  0\n",
      "\n",
      "the pivot row is R1\n",
      "to eliminate Aug(2,1)\n",
      "scale = 1.5000\n",
      "Aug =\n",
      "\n",
      "   2.0000   5.0000   3.0000   2.0000\n",
      "        0  -5.5000  -7.5000  -2.0000\n",
      "   1.0000   2.0000   1.0000   7.0000\n",
      "\n",
      "to eliminate Aug(3,1)\n",
      "scale = 0.5000\n",
      "Aug =\n",
      "\n",
      "   2.0000   5.0000   3.0000   2.0000\n",
      "        0  -5.5000  -7.5000  -2.0000\n",
      "        0  -0.5000  -0.5000   6.0000\n",
      "\n",
      "the pivot row is R2\n",
      "to eliminate Aug(3,2)\n",
      "scale = 0.090909\n",
      "Aug =\n",
      "\n",
      "   2.0000   5.0000   3.0000   2.0000\n",
      "        0  -5.5000  -7.5000  -2.0000\n",
      "        0        0   0.1818   6.1818\n",
      "\n",
      "solving for x(3)\n",
      "x =\n",
      "\n",
      "         0         0   34.0000\n",
      "\n",
      "solving for x(2)\n",
      "x =\n",
      "\n",
      "         0  -46.0000   34.0000\n",
      "\n",
      "solving for x(1)\n",
      "x =\n",
      "\n",
      "   65.000  -46.000   34.000\n",
      "\n"
     ]
    }
   ],
   "source": [
    "clear;clc;\n",
    "% define the matrix A\n",
    "A =[2 5 3;\n",
    "    3 2 -3;\n",
    "    1 2 1]\n",
    "b = [2 1 7]'; % right handside vector b\n",
    "Aug = [A b] % Augmented matrix\n",
    "\n",
    "x = zeros(1,3)\n",
    "\n",
    "%% forward eliminatation\n",
    "for k = 1:1:2 % pivot row ranges, \n",
    "    fprintf('the pivot row is R%d\\n',k);\n",
    "    for i = k+1:1:3 % rows to be eliminated\n",
    "        fprintf('to eliminate Aug(%d,%d)\\n',i,k);\n",
    "        scale = Aug(i,k)/Aug(k,k)\n",
    "        Aug(i,:)=Aug(i,:)-Aug(k,:)*scale\n",
    "    end\n",
    "end\n",
    "\n",
    "%% backward substitution\n",
    "for i=3:-1:1\n",
    "    for j=i+1:3\n",
    "        Aug(i,4) = Aug(i,4) - Aug(i,j)*x(j);\n",
    "    end\n",
    "    fprintf('solving for x(%d)\\n',i)\n",
    "    x(i)=Aug(i,4)/Aug(i,i)\n",
    "end"
   ]
  },
  {
   "attachments": {
    "012bcaed-7481-4491-94b6-b5b5f54d6633.png": {
     "image/png": "[encoded data removed]"
    }
   },
   "cell_type": "markdown",
   "id": "6b06539a-86fb-42ab-82a7-b3ea0b5ef579",
   "metadata": {},
   "source": [
    "# Exercise\n",
    "1. Solving $Ax=b$ problem with $A$ has the following pattern,\n",
    "   \n",
    "   ![image.png](attachment:012bcaed-7481-4491-94b6-b5b5f54d6633.png)\n",
    "\n",
    "   You need to modify the above code and create a `function`  for `gaussElimination.m` with the function given by the following code\n",
    "\n",
    "2. Sometimes you may not get accurate approximations using the above algorithm, e.g., what if\n",
    "   $\\mathbf{Aug}= \\begin{bmatrix}\n",
    "   0 & 5 & 3 & 2\\\\\n",
    "   3 & 2 & -3 & 1\\\\\n",
    "   1 & 2 & 1 & 7\n",
    "   \\end{bmatrix}$ then you cannot eliminate $R2$ using $R1$ as the scaling factor is $\\dfrac{3}{0}$ which doesn't exist! Read the example https://web.mit.edu/10.001/Web/Course_Notes/GaussElimPivoting.html and write a function to solve the problem\n",
    "   $\\mathbf{A}= \\begin{bmatrix}\n",
    "   0 & 5 & 3 \\\\\n",
    "   3 & 2 & -3\\\\\n",
    "   1 & 2 & 1\n",
    "   \\end{bmatrix}, \\mathbf{x}=\\begin{bmatrix}\n",
    "   x_1\\\\\n",
    "   x_2\\\\\n",
    "   x_3\n",
    "   \\end{bmatrix}, \\mathbf{b}=\\begin{bmatrix}\n",
    "   2 \\\\\n",
    "   1\\\\\n",
    "   7\n",
    "   \\end{bmatrix}$\n",
    "   \n",
    "3. **Extra credit** Study lecture 26 https://www.math.hkust.edu.hk/~machas/numerical-methods-for-engineers.pdf, write a function to solve any linear system $Ax=b$ and output the $LU$ decomposition matrix."
   ]
  },
  {
   "cell_type": "code",
   "execution_count": 16,
   "id": "f69fc8ab-c3f4-489f-bc74-4d2819672582",
   "metadata": {},
   "outputs": [],
   "source": [
    "function [listOfOutputs]=gaussElimination(listOfInputs)\n",
    "\n",
    "%% you need to implement the gauss elimination algorithm by defining your inputs and outputs\n",
    "\n",
    "%% your code goes here\n",
    "\n",
    "end"
   ]
  },
  {
   "cell_type": "code",
   "execution_count": 18,
   "id": "40c20aae-8c61-4cff-90b4-28eb57c82189",
   "metadata": {},
   "outputs": [],
   "source": [
    "function [listOfOutputs]=gaussEliminationPivot(listOfInputs)\n",
    "\n",
    "%% you need to implement the gauss elimination algorithm by defining your inputs and outputs\n",
    "\n",
    "%% your code goes here\n",
    "\n",
    "end"
   ]
  },
  {
   "cell_type": "code",
   "execution_count": 19,
   "id": "20712f97-12f5-4d41-8250-9d8164381236",
   "metadata": {},
   "outputs": [
    {
     "name": "stdout",
     "output_type": "stream",
     "text": [
      "error: 'listOfOutputs' undefined near line 1, column 1\n",
      "error: called from\n",
      "    gaussElimination at line 7 column 1\n",
      "A2 =\n",
      "\n",
      "   0   5   3\n",
      "   3   2  -3\n",
      "   1   2   1\n",
      "\n",
      "error: 'listOfOutputs' undefined near line 1, column 1\n",
      "error: called from\n",
      "    gaussEliminationPivot at line 7 column 1\n"
     ]
    }
   ],
   "source": [
    "clear\n",
    "n=100;\n",
    "A=zeros(n);\n",
    "for i=1:n\n",
    "    for j=1:n\n",
    "        if j<i\n",
    "            A(i,j)=2*(j);\n",
    "        else\n",
    "            A(i,j)=2*(i);\n",
    "        end\n",
    "    end\n",
    "end\n",
    "\n",
    "b = [0:1:n-1]';\n",
    "[x]=gaussElimination(A,b) % gauss elimination\n",
    "\n",
    "A2 =[0 5 3;\n",
    "    3 2 -3;\n",
    "    1 2 1]\n",
    "[x]=gaussEliminationPivot(A,b) % gauss elimination with partial pivoting"
   ]
  },
  {
   "cell_type": "code",
   "execution_count": null,
   "id": "d1a5f733-0638-4a3d-9cec-1bc7d1a443dd",
   "metadata": {},
   "outputs": [],
   "source": []
  }
 ],
 "metadata": {
  "kernelspec": {
   "display_name": "Octave",
   "language": "octave",
   "name": "octave"
  },
  "language_info": {
   "file_extension": ".m",
   "help_links": [
    {
     "text": "GNU Octave",
     "url": "https://www.gnu.org/software/octave/support.html"
    },
    {
     "text": "Octave Kernel",
     "url": "https://github.com/Calysto/octave_kernel"
    },
    {
     "text": "MetaKernel Magics",
     "url": "https://metakernel.readthedocs.io/en/latest/source/README.html"
    }
   ],
   "mimetype": "text/x-octave",
   "name": "octave",
   "version": "6.4.0"
  }
 },
 "nbformat": 4,
 "nbformat_minor": 5
}
