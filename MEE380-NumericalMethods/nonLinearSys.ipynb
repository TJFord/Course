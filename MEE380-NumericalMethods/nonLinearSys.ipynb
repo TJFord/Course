{
 "cells": [
  {
   "cell_type": "markdown",
   "id": "dfef1333-ee70-4a82-9538-7b5bfde9f312",
   "metadata": {},
   "source": [
    "# Nonlinear system\n",
    "## Example\n",
    "solve \\begin{align}\n",
    "x_1^2+x_1x_2&=10\\\\\n",
    "x_2+3x_1x_2^2&=57\n",
    "\\end{align}"
   ]
  },
  {
   "cell_type": "markdown",
   "id": "d370adb0-efbd-4680-a85e-ea6ee245b011",
   "metadata": {},
   "source": [
    "## Strategy\n",
    "\n",
    "## read lecture 33 on the ebook\n",
    "## Step 1\n",
    "\n",
    "\n",
    "1. convert it into $f(x,y)=0, g(x,y)=0$\n",
    "   $$f(x_1,x_2)=x_1^2+x_1x_2-10=0$$\n",
    "   $$g(x_1,x_2)=x_2+3x_1x_2^2-57=0$$"
   ]
  },
  {
   "cell_type": "markdown",
   "id": "1c80fb96-d4a5-414f-b0cb-faca29996c46",
   "metadata": {},
   "source": [
    "## Step 2\n",
    "\n",
    "2. find $f_x,f_y, g_x, g_y$\n",
    "   $$f_{x_1}=2x_1+x_2$$\n",
    "   $$f_{x_2}=x_1$$\n",
    "   $$g_{x_1}=3x_2^2$$\n",
    "   $$g_{x_2}=1+6x_1x_2$$"
   ]
  },
  {
   "cell_type": "markdown",
   "id": "7da701da-bfc2-4821-9b57-485f45d488c7",
   "metadata": {},
   "source": [
    "## Step 3\n",
    "\n",
    "3. apply the iterative scheme for\n",
    "\\begin{align}\n",
    "x_1^{n+1}-x_1^n&=\\dfrac{-fg_{x_2}+gf_{x_2}}{f_{x_1}g_{x_2}-f_{x_2}g_{x_1}}\\\\\n",
    "x_2^{n+1}-x_2^n&=\\dfrac{-f_{x_1}g+fg_{x_1}}{f_{x_1}g_{x_2}-f_{x_2}g_{x_1}}\n",
    "\\end{align}"
   ]
  },
  {
   "cell_type": "code",
   "execution_count": 30,
   "id": "7a62002c-cea5-46d9-943a-442fd161e886",
   "metadata": {},
   "outputs": [
    {
     "name": "stdout",
     "output_type": "stream",
     "text": [
      "i = 1\n",
      "x =\n",
      "\n",
      "   14.1250   -4.1250\n",
      "\n",
      "i = 2\n",
      "x =\n",
      "\n",
      "   8.0933  -3.1152\n",
      "\n",
      "i = 3\n",
      "x =\n",
      "\n",
      "   5.3786  -2.4732\n",
      "\n",
      "i = 4\n",
      "x =\n",
      "\n",
      "   4.5078  -2.1783\n",
      "\n",
      "i = 5\n",
      "x =\n",
      "\n",
      "   4.3959  -2.1196\n",
      "\n",
      "i = 6\n",
      "x =\n",
      "\n",
      "   4.3937  -2.1178\n",
      "\n",
      "i = 7\n",
      "x =\n",
      "\n",
      "   4.3937  -2.1178\n",
      "\n",
      "i = 8\n",
      "x =\n",
      "\n",
      "   4.3937  -2.1178\n",
      "\n",
      "i = 9\n",
      "x =\n",
      "\n",
      "   4.3937  -2.1178\n",
      "\n",
      "i = 10\n",
      "x =\n",
      "\n",
      "   4.3937  -2.1178\n",
      "\n"
     ]
    }
   ],
   "source": [
    "clear;clc\n",
    "x=[1; -1]; % x0, y0\n",
    "f=@(x,y) x^2+x*y-10; % define f(x,y)\n",
    "g=@(x,y) y+3*x*y^2-57; % define g(x,y)\n",
    "f_x1 =@(x,y) 2*x+y;\n",
    "f_x2 = @(x,y) x;\n",
    "g_x1 = @(x,y) 3*y^2;\n",
    "g_x2 = @(x,y) 1+6*x*y;\n",
    "\n",
    "for i=1:10\n",
    "i\n",
    "detA = f_x1(x(1),x(2))*g_x2(x(1),x(2))-f_x2(x(1),x(2))*g_x1(x(1),x(2));\n",
    "xnext(1) = x(1) + (-f(x(1),x(2))*g_x2(x(1),x(2))+g(x(1),x(2))*f_x2(x(1),x(2)))/detA;\n",
    "xnext(2) = x(2) + (-f_x1(x(1),x(2))*g(x(1),x(2))+f(x(1),x(2))*g_x1(x(1),x(2)))/detA;\n",
    "x=xnext\n",
    "end"
   ]
  },
  {
   "cell_type": "code",
   "execution_count": 36,
   "id": "5fdcf6e2-e3f7-4c7e-b761-981d031718bc",
   "metadata": {},
   "outputs": [
    {
     "data": {
      "image/png": "[encoded data removed]",
      "text/plain": [
       "<IPython.core.display.Image object>"
      ]
     },
     "metadata": {},
     "output_type": "display_data"
    }
   ],
   "source": [
    "x1=[-5:.1:-1,1:.1:5];\n",
    "x2 = -x1+10./x1;\n",
    "figure;\n",
    "plot(x1,x2,'bo') % plot(x1,x2,'b')\n",
    "\n",
    "x2=[-10:0.1:-2,2:0.1:10];\n",
    "x1 = (57-x2)./(3*x2.^2);\n",
    "hold on\n",
    "plot(x1,x2,'rs') % I did not plot(x1,x2,'r-')\n",
    "grid on"
   ]
  },
  {
   "cell_type": "markdown",
   "id": "1be068b7-8033-45a5-b91e-4c03959dca30",
   "metadata": {},
   "source": [
    "## Discussion\n",
    "Clearly we can see two roots, one is close "
   ]
  },
  {
   "cell_type": "code",
   "execution_count": 12,
   "id": "815c2525-1d4e-4536-bcfa-7ce5d04335ea",
   "metadata": {},
   "outputs": [
    {
     "name": "stdout",
     "output_type": "stream",
     "text": [
      "A =\n",
      "\n",
      "   10   -5\n",
      "   -5   10\n",
      "\n"
     ]
    }
   ],
   "source": [
    "clear;\n",
    "A=[10 -5;\n",
    "-5 10]"
   ]
  },
  {
   "cell_type": "code",
   "execution_count": 13,
   "id": "e531b1b3-2095-476d-8987-7c8a3b111473",
   "metadata": {},
   "outputs": [
    {
     "name": "stdout",
     "output_type": "stream",
     "text": [
      "ans =\n",
      "\n",
      "    5\n",
      "   15\n",
      "\n"
     ]
    }
   ],
   "source": [
    "eig(A)"
   ]
  },
  {
   "cell_type": "code",
   "execution_count": 14,
   "id": "b04ece32-520f-4e4d-88f1-a7af62164530",
   "metadata": {},
   "outputs": [
    {
     "name": "stdout",
     "output_type": "stream",
     "text": [
      "V =\n",
      "\n",
      "  -0.7071  -0.7071\n",
      "  -0.7071   0.7071\n",
      "\n",
      "D =\n",
      "\n",
      "Diagonal Matrix\n",
      "\n",
      "    5    0\n",
      "    0   15\n",
      "\n"
     ]
    }
   ],
   "source": [
    "[V,D] = eig(A)"
   ]
  },
  {
   "cell_type": "code",
   "execution_count": null,
   "id": "3db41156-f203-47e5-8b86-b223f3655f63",
   "metadata": {},
   "outputs": [],
   "source": []
  }
 ],
 "metadata": {
  "kernelspec": {
   "display_name": "Octave",
   "language": "octave",
   "name": "octave"
  },
  "language_info": {
   "file_extension": ".m",
   "help_links": [
    {
     "text": "GNU Octave",
     "url": "https://www.gnu.org/software/octave/support.html"
    },
    {
     "text": "Octave Kernel",
     "url": "https://github.com/Calysto/octave_kernel"
    },
    {
     "text": "MetaKernel Magics",
     "url": "https://metakernel.readthedocs.io/en/latest/source/README.html"
    }
   ],
   "mimetype": "text/x-octave",
   "name": "octave",
   "version": "6.4.0"
  }
 },
 "nbformat": 4,
 "nbformat_minor": 5
}
