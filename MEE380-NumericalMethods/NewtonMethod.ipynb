{
 "cells": [
  {
   "cell_type": "markdown",
   "id": "1aceef9b-8c47-442f-92fd-78310083b92d",
   "metadata": {},
   "source": [
    "# Lab session for Newton's method\n",
    "## Study the following `function` code and answer the following questions. You should answer your questions by typing it in jupyter notebook or matlab live script with equations and formula. \n",
    "1. line 3, can I set `my_error = 0` initially and why?\n",
    "2. line 6: what is the difference between `for` loop and `while` loop? Please summarize the difference in your own words and indicate when you should use `for` loop and when you should use `while` loop. if you want to check the attendance of the students, what loop should you use?  Reading the following section will help you: Lecture 10 loops in the ebook on blackboard, or here https://www.math.hkust.edu.hk/~machas/numerical-methods-for-engineers.pdf\n",
    "3. line 8: what type error is that? e.g., absolute error, relative error? check more here: https://mathworld.wolfram.com/RelativeError.html\n",
    "4. line 10: `x = xnext` why do we need this line?\n",
    "5. Can I write a new version of the code as shown below with less lines of code? Discuss the advantage and disadvantage of this approach, e.g., does it run faster? is it easy to understand the code compared with the original version? You can call these two functions 100 times and measure the code execution time   \n",
    "   ```\n",
    "   function [ x, my_error, it]=FasterNewtonSolver(f, df, x, tol)\n",
    "        my_error = 2*tol;\n",
    "        it = 0;\n",
    "            while (my_error > tol)\n",
    "                term = f(x)/df(x);\n",
    "                my_error = abs(term/x); % relative absolute value\n",
    "                x = x - term;             \n",
    "                it = it + 1;\n",
    "            end\n",
    "   end\n",
    "   ```\n",
    "6. set up break point in line 6 and execute the code line by line through `step` button on debug mode, and check how the code is executed, compare the intermidate results for each variable with your handcalcuations for $f(x)=x^2-4$. reference: https://www.mathworks.com/help/matlab/matlab_prog/debugging-process-and-features.html\n",
    "   \n",
    " "
   ]
  },
  {
   "cell_type": "code",
   "execution_count": 1,
   "id": "51fa4411-f93d-48f7-9da3-7736297bf888",
   "metadata": {},
   "outputs": [
    {
     "name": "stdout",
     "output_type": "stream",
     "text": [
      "warning: using the gnuplot graphics toolkit is discouraged\n",
      "\n",
      "The gnuplot graphics toolkit is not actively maintained and has a number\n",
      "of limitations that are ulikely to be fixed.  Communication with gnuplot\n",
      "uses a one-directional pipe and limited information is passed back to the\n",
      "Octave interpreter so most changes made interactively in the plot window\n",
      "will not be reflected in the graphics properties managed by Octave.  For\n",
      "example, if the plot window is closed with a mouse click, Octave will not\n",
      "be notified and will not update it's internal list of open figure windows.\n",
      "We recommend using the qt toolkit instead.\n",
      "\n"
     ]
    }
   ],
   "source": [
    "%% newton's solver\n",
    "function [ xr, my_error, it]=newtonSolver(f, df, x0, tol)\n",
    "my_error = 2*tol;\n",
    "x = x0;\n",
    "it = 0;\n",
    "    while (my_error > tol)\n",
    "        xnext = x - f(x)/df(x);\n",
    "        my_error = abs(f(x)/df(x)/x); % relative absolute value\n",
    "        it = it + 1;\n",
    "        x = xnext;\n",
    "    end\n",
    "    xr = x;\n",
    "end"
   ]
  },
  {
   "cell_type": "markdown",
   "id": "7ef5e5ef-c5df-4cf1-bad5-c5b54b813d59",
   "metadata": {},
   "source": [
    "## study the following script code and answering the following questions\n",
    "1. line 5: can i set `x0 = 0`? why?\n",
    "2. check the speed for two different versions of the code by using `tic` `toc` commands. How many seconds does each take? Use help documentation to check what `tic` `toc` is doing.\n",
    "   ```\n",
    "   tic\n",
    "   for i=1:100\n",
    "      %put your function call code here\n",
    "   end\n",
    "   toc\n",
    "   ```\n",
    "3. Modify the script to solve the colebrook equation using newtons method. You need to change `line 2-5`: $$\\dfrac{1}{\\sqrt{f}}=-2log10(\\dfrac{2.51}{1e6\\sqrt{f}})$$\n",
    "4. Sometimes derivative is difficult to calculate, instead we can use the slop between two nearby points as an approximation to the seslope. see chapter 15: secant method https://www.math.hkust.edu.hk/~machas/numerical-methods-for-engineers.pdf. Please develop a function\n",
    "   ```\n",
    "   function [what you need for outputs]=secantMethods(what you need for inputs)\n",
    "   \n",
    "       %% put your code here\n",
    "\n",
    "   end\n",
    "   ```"
   ]
  },
  {
   "cell_type": "code",
   "execution_count": 2,
   "id": "7ec55112-8626-4653-9d7b-3823aa0a52c1",
   "metadata": {},
   "outputs": [
    {
     "name": "stdout",
     "output_type": "stream",
     "text": [
      "f =\n",
      "\n",
      "@(x) x ^ 2 - 4\n",
      "\n",
      "Elapsed time is 0.00436997 seconds.\n",
      "\n",
      " newton root\n",
      "xr_n = 2.0000\n",
      "it_n = 5\n",
      "my_error_n = 4.6461e-08\n"
     ]
    }
   ],
   "source": [
    "clear;clc;\n",
    "f=@(x) x^2-4  %define function handle\n",
    "df = @(x) 2*x; % derivative of f\n",
    "tol = 0.0001;  % initial guess\n",
    "x0 = 1.0; % initial value for newton\n",
    "\n",
    "%% newton's solver\n",
    "tic\n",
    "[ xr_n, my_error_n, it_n]=newtonSolver(f, df, x0, tol);\n",
    "toc\n",
    "printf('\\n newton root\\n')\n",
    "xr_n\n",
    "it_n\n",
    "my_error_n\n"
   ]
  },
  {
   "cell_type": "code",
   "execution_count": null,
   "id": "faff076e-ad8a-49cf-8357-7ae015609239",
   "metadata": {},
   "outputs": [],
   "source": []
  }
 ],
 "metadata": {
  "kernelspec": {
   "display_name": "Octave",
   "language": "octave",
   "name": "octave"
  },
  "language_info": {
   "file_extension": ".m",
   "help_links": [
    {
     "text": "GNU Octave",
     "url": "https://www.gnu.org/software/octave/support.html"
    },
    {
     "text": "Octave Kernel",
     "url": "https://github.com/Calysto/octave_kernel"
    },
    {
     "text": "MetaKernel Magics",
     "url": "https://metakernel.readthedocs.io/en/latest/source/README.html"
    }
   ],
   "mimetype": "text/x-octave",
   "name": "octave",
   "version": "6.4.0"
  }
 },
 "nbformat": 4,
 "nbformat_minor": 5
}
