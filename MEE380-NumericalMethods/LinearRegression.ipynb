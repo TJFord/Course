{
 "cells": [
  {
   "cell_type": "markdown",
   "id": "8c6df117-16fd-4a12-befa-9c89d790a1a0",
   "metadata": {},
   "source": [
    "# Linear regression\n",
    "how to find a line that is the best fit for \n",
    "| points| 1 | 2 | 3 |  \n",
    "| --- | --- | --- | ---- |\n",
    "| x | 0 | 1 | 2 | \n",
    "| y |1 | 1.8 | 3.2|\n"
   ]
  },
  {
   "cell_type": "markdown",
   "id": "2da8048d-e88f-4265-b476-5b593badbabb",
   "metadata": {},
   "source": [
    "# Solution Strategy\n",
    "1. assume the best fit is $f(x)=kx+b$, then we need to determine the unknowns $k$ and $b$.\n",
    "2. What do we mean by best fit? for each $x_i$, the is one corresponding $f_i=f(x_i)=kx_i+b$. I can define the best fit as the one with a mimimum error defined as $s(k,b)=\\sum_ie_i^2=\\sum_i(f_i-y_i)^2$\n",
    "3. recall in calculus class, to find the minimum we need to set\n",
    "   \n",
    "   $$\\begin{align}\n",
    "   \\dfrac{\\partial s}{\\partial k}=&0\\\\\n",
    "   \\dfrac{\\partial s}{\\partial b}=&0\n",
    "   \\end{align}$$"
   ]
  },
  {
   "cell_type": "code",
   "execution_count": 4,
   "id": "686e9c5b-6bea-4e96-9244-1c869a541846",
   "metadata": {},
   "outputs": [
    {
     "name": "stdout",
     "output_type": "stream",
     "text": [
      "k = 1.1000\n",
      "b = 0.9000\n"
     ]
    },
    {
     "data": {
      "image/png": "[encoded data removed]",
      "text/plain": [
       "<IPython.core.display.Image object>"
      ]
     },
     "metadata": {},
     "output_type": "display_data"
    }
   ],
   "source": [
    "# plot it\n",
    "x=[0 1 2];\n",
    "y=[1 1.8 3.2];\n",
    "figure;\n",
    "plot(x,y,'o')\n",
    "\n",
    "x_sq = x.^2;\n",
    "xy = x.*y;\n",
    "x_sum = sum(x);\n",
    "y_sum = sum(y);\n",
    "A=[sum(x_sq) x_sum;\n",
    "    x_sum length(x)];\n",
    "A1 = [sum(xy) x_sum;\n",
    "    y_sum length(x)];\n",
    "A2 = [sum(x_sq) sum(xy);\n",
    "    x_sum y_sum];\n",
    "k = det(A1)/det(A)\n",
    "b = det(A2)/det(A)\n",
    "\n",
    "y_predict = k*x+b;\n",
    "hold on\n",
    "plot(x,y_predict,'r')\n"
   ]
  },
  {
   "cell_type": "code",
   "execution_count": null,
   "id": "cbfc6baf-20fe-41e3-8c65-61b04b288949",
   "metadata": {},
   "outputs": [],
   "source": []
  }
 ],
 "metadata": {
  "kernelspec": {
   "display_name": "Octave",
   "language": "octave",
   "name": "octave"
  },
  "language_info": {
   "file_extension": ".m",
   "help_links": [
    {
     "text": "GNU Octave",
     "url": "https://www.gnu.org/software/octave/support.html"
    },
    {
     "text": "Octave Kernel",
     "url": "https://github.com/Calysto/octave_kernel"
    },
    {
     "text": "MetaKernel Magics",
     "url": "https://metakernel.readthedocs.io/en/latest/source/README.html"
    }
   ],
   "mimetype": "text/x-octave",
   "name": "octave",
   "version": "6.4.0"
  }
 },
 "nbformat": 4,
 "nbformat_minor": 5
}
