{
 "cells": [
  {
   "cell_type": "markdown",
   "id": "1aceef9b-8c47-442f-92fd-78310083b92d",
   "metadata": {},
   "source": [
    "# Lab session for Newton's method\n",
    "## Study the following `function` code and answer the following questions. You should answer your questions by typing it in jupyter notebook or matlab live script with equations and formula. \n",
    "1. line 3, can I set `my_error = 0` initially and why?\n",
    "   \n",
    "   **No, `my_error = 0` will skip the `while` loop as condition `my_error > tol` is false**\n",
    "3. line 6: what is the difference between `for` loop and `while` loop? Please summarize the difference in your own words and indicate when you should use `for` loop and when you should use `while` loop. if you want to check the attendance of the students, what loop should you use?  Reading the following section will help you: Lecture 10 loops in the ebook on blackboard, or here https://www.math.hkust.edu.hk/~machas/numerical-methods-for-engineers.pdf\n",
    "\n",
    "   **`for` is used when we know the number of iterations, `while` is used when we don't know exactly how many iterations we need to perform, but we know the condition to stop the iteration. I will use `for` loop to check student's attendance, as I know the capacity of the class.**\n",
    "5. line 8: what type error is that? e.g., absolute error, relative error? check more here: https://mathworld.wolfram.com/RelativeError.html\n",
    "\n",
    "   **It is relative succesive iterative error. Absolute error is defined as $x-x_t$ where $x_t$ is the true solution. In this example, we don't know what the true solution is.**\n",
    "7. line 10: `x = xnext` why do we need this line?\n",
    "\n",
    "   **we need to assign the newly calcuated value `xnext` to `x` for the next iteration. without this step, `x` never changes after each iteration. It causes an infinite loop.**\n",
    "9. Can I write a new version of the code as shown below with less lines of code? Discuss the advantage and disadvantage of this approach, e.g., does it run faster? is it easy to understand the code compared with the original version? You can call these two functions 100 times and measure the code execution time   \n",
    "   ```\n",
    "   function [ x, my_error, it]=FasterNewtonSolver(f, df, x, tol)\n",
    "        my_error = 2*tol;\n",
    "        it = 0;\n",
    "            while (my_error > tol)\n",
    "                term = f(x)/df(x);\n",
    "                my_error = abs(term/x); % relative absolute value\n",
    "                x = x - term;             \n",
    "                it = it + 1;\n",
    "            end\n",
    "   end\n",
    "   ```\n",
    "\n",
    "   **Yes, the advantage for the newer version is faster computing, while the disavantage is that the code is not easy to understand. for 100 times test, faster code takes less time, as shown below**\n",
    "   ```\n",
    "       Original Elapsed time is 0.003430 seconds.\n",
    "       Faster: Elapsed time is 0.001590 seconds. \n",
    "   ````\n",
    "11. set up break point in line 6 and execute the code line by line through `step` button on debug mode, and check how the code is executed, compare the intermidate results for each variable with your handcalcuations for $f(x)=x^2-4$. reference: https://www.mathworks.com/help/matlab/matlab_prog/debugging-process-and-features.htm\n",
    "\n",
    "\n",
    "\n",
    "    | iteration | $x_i$ | $f(x_i)$ | $f'(x_i)$|$x_{i+1} $ | relative iterative error | \n",
    "    | --- | --- | --- | ---- |---|---|\n",
    "    | 0 | 1 | -3 | 2 | 2.5|1.5|\n",
    "    | 1 | 2.5 | 2.25 | 5 | 2.05|0.18|\n",
    "    | 2| 2.05 | 0.2025 | 4.1| 2.0006|0.024093|\n",
    "    |3| 2.0006|0.002439396192741583  | 4.001219512195122| 2.000000092922295|0.0003047386794990601|\n",
    "\n",
    "\n",
    "    **In debug/breaking point mode, we can check the values of intermediate variables, as shown in the table above. The numerical approximation converges to the true solution `x=2` quickly. Notice that how the relative iterative error is calculated, which is different from absolute error `abs(x-2)`. In this simple problem, we know the true solution. But in general we don't know what the true solution is, so we use relative iterative error** \n",
    "       \n",
    " "
   ]
  },
  {
   "cell_type": "code",
   "execution_count": 4,
   "id": "51fa4411-f93d-48f7-9da3-7736297bf888",
   "metadata": {},
   "outputs": [],
   "source": [
    "%% newton's solver\n",
    "function [ xr, my_error, it]=newtonSolver(f, df, x0, tol)\n",
    "my_error = 2*tol;\n",
    "x = x0;\n",
    "it = 0;\n",
    "    while (my_error > tol)\n",
    "        xnext = x - f(x)/df(x);\n",
    "        my_error = abs(f(x)/df(x)/x); % relative absolute value\n",
    "        it = it + 1;\n",
    "        x = xnext;\n",
    "    end\n",
    "    xr = x;\n",
    "end"
   ]
  },
  {
   "cell_type": "markdown",
   "id": "7ef5e5ef-c5df-4cf1-bad5-c5b54b813d59",
   "metadata": {},
   "source": [
    "## study the following script code and answering the following questions\n",
    "1. line 5: can i set `x0 = 0`? why?\n",
    "\n",
    "   **No, `x0=0` will lead `f'(x0)=0` which is not allowed in the formula** $x_{i+1}=x_i-\\dfrac{f(x_i)}{f'(x_i)}$ **You cannot divide by zero**\n",
    "3. check the speed for two ifferent versions of the code by using `tic` `toc` commands. How many seconds does each take? Use help documentation to check what `tic` `toc` is doing.\n",
    "   ```\n",
    "   tic\n",
    "   for i=1:100\n",
    "      %put your function call code here\n",
    "   end\n",
    "   toc\n",
    "   ```\n",
    "\n",
    "   **This is similar to the problem 5 in the above. As the executation of a single function call is so fast, we barely see any difference in the execution speed. we can call the function multiple times, say 100 times, to see the difference.**\n",
    "4. Modify the script to solve the colebrook equation using newtons method. You need to change `line 2-5`: $$\\dfrac{1}{\\sqrt{f}}=-2log10(\\dfrac{2.51}{1e6\\sqrt{f}})$$\n",
    "   **Here is the code for `line 2-5`**\n",
    "   ```\n",
    "        f=@(x) 1/sqrt(x)+2*log10(2.51/1e6/sqrt(x));\n",
    "        df = @(x) 2*log((2.51e-6)/sqrt(x))/log(10) - 1/(2*x^(3/2));\n",
    "        tol = 0.0001;\n",
    "        x0=0.01; % if this is too far from the true root, you may get wrong answer\n",
    "   ```\n",
    "\n",
    "   **The derivative is** $$\\dfrac{2\\ln(2.51×10^{-6}/\\sqrt{x})}{\\ln10} - \\dfrac{1}{2 x^{3/2}}$$\n",
    "   \n",
    "   \n",
    "   ```\n",
    "   \n",
    "6. Sometimes derivative is difficult to calculate, instead we can use the slop between two nearby points as an approximation to the seslope. see chapter 15: secant method https://www.math.hkust.edu.hk/~machas/numerical-methods-for-engineers.pdf. Please write a function based on the secant method, and test it with a simple problem $f(x)=x^2-4$. The header of the function is given below, you have to determine what are your inputs and outputs. As secant is similar to Newton's method, you can use the code `newtonSolver` as a starting point and modify it. **This is learning by analogy\n",
    "   !**\n",
    "   ```\n",
    "   function [what you need for outputs]=secantMethod(what you need for inputs)\n",
    "   \n",
    "       %% put your code here\n",
    "\n",
    "   end\n",
    "    ```"
   ]
  },
  {
   "cell_type": "markdown",
   "id": "f2d850d3-a059-4165-8abc-f0f90db834d8",
   "metadata": {},
   "source": [
    "**see the code below. Pay attention to see how I modify the `newtonSolver` function**"
   ]
  },
  {
   "cell_type": "code",
   "execution_count": 2,
   "id": "a60cbb14-b5d1-46a6-ba5c-58684f6ec850",
   "metadata": {},
   "outputs": [],
   "source": [
    "function [ xr, my_error, it]=secantMethod(f, x0, x1, tol)\n",
    "  %% outputs are the same as newtonSolver\n",
    "  %% inputs: no need for df, but needs two data points for slope\n",
    "my_error = 2*tol;\n",
    "xl = x0;\n",
    "x = x1;\n",
    "it = 0;\n",
    "    while (my_error > tol)\n",
    "        df = (f(xl)-f(x))/(xl-x); % replace derivative as slope\n",
    "        xnext = x - f(x)/df;\n",
    "        my_error = abs(f(x)/df/x); % relative absolute value\n",
    "        it = it + 1;\n",
    "        xl = x;  % replace left node\n",
    "        x = xnext; % replace right node\n",
    "    end\n",
    "    xr = x;\n",
    "end"
   ]
  },
  {
   "cell_type": "code",
   "execution_count": 5,
   "id": "7ec55112-8626-4653-9d7b-3823aa0a52c1",
   "metadata": {},
   "outputs": [
    {
     "name": "stdout",
     "output_type": "stream",
     "text": [
      "f =\n",
      "\n",
      "@(x) x ^ 2 - 4\n",
      "\n",
      "Elapsed time is 0.00465989 seconds.\n",
      "\n",
      " newton root\n",
      "xr_n = 2.0000\n",
      "it_n = 5\n",
      "my_error_n = 4.6461e-08\n"
     ]
    }
   ],
   "source": [
    "clear;clc;\n",
    "f=@(x) x^2-4  %define function handle\n",
    "df = @(x) 2*x; % derivative of f\n",
    "tol = 0.0001;  % initial guess\n",
    "x0 = 1.0; % initial value for newton\n",
    "\n",
    "%% newton's solver\n",
    "tic\n",
    "[ xr_n, my_error_n, it_n]=newtonSolver(f, df, x0, tol);\n",
    "toc\n",
    "fprintf('\\n newton root\\n')\n",
    "xr_n\n",
    "it_n\n",
    "my_error_n\n"
   ]
  },
  {
   "cell_type": "code",
   "execution_count": 6,
   "id": "faff076e-ad8a-49cf-8357-7ae015609239",
   "metadata": {},
   "outputs": [
    {
     "name": "stdout",
     "output_type": "stream",
     "text": [
      "x0 = 0.010000\n",
      "\n",
      " newton solver\n",
      "xr_n = 0.011645\n",
      "my_error_n = 3.0445e-05\n",
      "it_n = 4\n",
      "Elapsed time is 0.00515008 seconds.\n",
      "\n",
      " secant solver\n",
      "xr_n = 0.011645\n",
      "my_error_n = 7.0431e-05\n",
      "it_n = 3\n",
      "Elapsed time is 0.00544214 seconds.\n"
     ]
    }
   ],
   "source": [
    "\n",
    "\n",
    "clear;clc;\n",
    "%f=@(x) x^2-4  %define function handle\n",
    "%df = @(x) 2*x; % derivative of f\n",
    "%tol = 0.0001;  % initial guess\n",
    "%x0 = 1.0; % initial value for newton\n",
    "\n",
    "f=@(x) 1/sqrt(x)+2*log10(2.51/1e6/sqrt(x));\n",
    "df = @(x) 2*log((2.51e-6)/sqrt(x))/log(10) - 1/(2*x^(3/2));\n",
    "tol = 0.0001;\n",
    "x0=0.01\n",
    "\n",
    "%% newton's solver\n",
    "fprintf('\\n newton solver\\n')\n",
    "tic\n",
    "[ xr_n, my_error_n, it_n]=newtonSolver(f, df, x0, tol)\n",
    "toc\n",
    "\n",
    "fprintf('\\n secant solver\\n')\n",
    "x0=0.01;\n",
    "x1=0.012;\n",
    "tic\n",
    "[ xr_n, my_error_n, it_n]=secantMethod(f, x0, x1, tol)\n",
    "toc"
   ]
  },
  {
   "cell_type": "code",
   "execution_count": null,
   "id": "69d639d5-72ca-4d14-8c0a-38832215cf2e",
   "metadata": {},
   "outputs": [],
   "source": []
  }
 ],
 "metadata": {
  "kernelspec": {
   "display_name": "Octave",
   "language": "octave",
   "name": "octave"
  },
  "language_info": {
   "file_extension": ".m",
   "help_links": [
    {
     "text": "GNU Octave",
     "url": "https://www.gnu.org/software/octave/support.html"
    },
    {
     "text": "Octave Kernel",
     "url": "https://github.com/Calysto/octave_kernel"
    },
    {
     "text": "MetaKernel Magics",
     "url": "https://metakernel.readthedocs.io/en/latest/source/README.html"
    }
   ],
   "mimetype": "text/x-octave",
   "name": "octave",
   "version": "6.4.0"
  }
 },
 "nbformat": 4,
 "nbformat_minor": 5
}
