{
 "cells": [
  {
   "cell_type": "markdown",
   "id": "8a102f6b-53d4-4bbf-8d89-095410d2382f",
   "metadata": {},
   "source": [
    "# ODE using Euler and 4th order Runge-kutta method\n",
    "Approximate the solution for $y(1)$ to the following ODE with Euler method and 4th order Runge-Kutta method, and compare them with the analytical solution. Consider to write a function for each method with different time steps. \n",
    "\\begin{align}\n",
    "\\dfrac{dy}{dt}&=e^t\\\\\n",
    "\\text{Initial condition:}\\quad y(0)&=1\n",
    "\\end{align}"
   ]
  },
  {
   "cell_type": "markdown",
   "id": "07c57a75-ed34-459f-94e5-b26cb8497572",
   "metadata": {},
   "source": [
    "# Euler Method\n",
    "$$y_{i+1}=y_i+f(t_i,y_i)h$$"
   ]
  },
  {
   "cell_type": "code",
   "execution_count": 3,
   "id": "dfff6a24-9a73-4545-8163-4be9d6a43723",
   "metadata": {},
   "outputs": [
    {
     "name": "stdout",
     "output_type": "stream",
     "text": [
      "dt = 1\n",
      "f =\n",
      "\n",
      "@(t) exp (t)\n",
      "\n",
      "t0 = 0\n",
      "y0 = 1\n",
      "y1 = 2\n"
     ]
    }
   ],
   "source": [
    "clear;\n",
    "dt = 1\n",
    "f =@(t) exp(t)\n",
    "t0=0\n",
    "y0=1\n",
    "y1 = y0 + f(t0)*dt"
   ]
  },
  {
   "cell_type": "markdown",
   "id": "2724d361-7539-4325-9a46-fa19da1564a0",
   "metadata": {},
   "source": [
    "# 4th order Runge-Kutta method\n",
    "\\begin{align}\n",
    "y_{i+1}&=y_i+\\dfrac{1}{6}(k_1+2k_2+2k_3+k_4)h\\\\\n",
    "k_1&=f(t_i,y_i)\\\\\n",
    "k_2&=f(t_i+\\dfrac{h}{2},y_i+\\dfrac{h}{2}k_1)\\\\\n",
    "k_3&=f(t_i+\\dfrac{h}{2},y_i+\\dfrac{h}{2}k_2)\\\\\n",
    "k_4&=f(t_i+h,y_i+k_3h)\n",
    "\\end{align}"
   ]
  },
  {
   "cell_type": "code",
   "execution_count": 5,
   "id": "c7858834-9f37-455a-b3f0-3747f5bd290c",
   "metadata": {},
   "outputs": [
    {
     "name": "stdout",
     "output_type": "stream",
     "text": [
      "dt = 1\n",
      "f =\n",
      "\n",
      "@(t) exp (t)\n",
      "\n",
      "t0 = 0\n",
      "y0 = 1\n",
      "k2 = 1.6487\n",
      "k3 = 1.6487\n",
      "k4 = 2.7183\n",
      "y1 = 2.7189\n",
      "y_true = 2.7183\n"
     ]
    }
   ],
   "source": [
    "clear;\n",
    "dt = 1\n",
    "f =@(t) exp(t)\n",
    "t0=0\n",
    "y0=1\n",
    "k1=f(t0);\n",
    "k2=f(t0+0.5*dt)\n",
    "k3=f(t0+0.5*dt)\n",
    "k4=f(t0+dt)\n",
    "y1 = y0 + 1/6*(k1+2*k2+2*k3+k4)*dt\n",
    "y_true = exp(1)"
   ]
  },
  {
   "cell_type": "code",
   "execution_count": null,
   "id": "9abebc2d-a852-4f90-9be8-d50441d88148",
   "metadata": {},
   "outputs": [],
   "source": []
  }
 ],
 "metadata": {
  "kernelspec": {
   "display_name": "Octave",
   "language": "octave",
   "name": "octave"
  },
  "language_info": {
   "file_extension": ".m",
   "help_links": [
    {
     "text": "GNU Octave",
     "url": "https://www.gnu.org/software/octave/support.html"
    },
    {
     "text": "Octave Kernel",
     "url": "https://github.com/Calysto/octave_kernel"
    },
    {
     "text": "MetaKernel Magics",
     "url": "https://metakernel.readthedocs.io/en/latest/source/README.html"
    }
   ],
   "mimetype": "text/x-octave",
   "name": "octave",
   "version": "6.4.0"
  }
 },
 "nbformat": 4,
 "nbformat_minor": 5
}
